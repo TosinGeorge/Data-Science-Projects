{
  "cells": [
    {
      "cell_type": "markdown",
      "metadata": {
        "id": "view-in-github",
        "colab_type": "text"
      },
      "source": [
        "<a href=\"https://colab.research.google.com/github/TosinGeorge/Data-Science-Projects/blob/main/50_day_Python_Challenge.ipynb\" target=\"_parent\"><img src=\"https://colab.research.google.com/assets/colab-badge.svg\" alt=\"Open In Colab\"/></a>"
      ]
    },
    {
      "cell_type": "markdown",
      "metadata": {
        "id": "48ea8428"
      },
      "source": [
        "# 50-Day Python Challenge\n",
        "###### Started 28 September 2022"
      ],
      "id": "48ea8428"
    },
    {
      "cell_type": "markdown",
      "metadata": {
        "id": "4d243291"
      },
      "source": [
        "##### Day 1:Division and Square-root\n",
        "Write a function called divide_or_square that takes one argument (a number), and returns the square root of the number if it is divisible by 5, returns its remainder if it is not divisible by 5. For example, if you pass 10 as an argument, then your function should return 3.16 as the square root."
      ],
      "id": "4d243291"
    },
    {
      "cell_type": "code",
      "execution_count": 1,
      "metadata": {
        "colab": {
          "base_uri": "https://localhost:8080/"
        },
        "id": "fb17c8bb",
        "outputId": "29383785-d406-47b1-f47d-a773825819e7"
      },
      "outputs": [
        {
          "output_type": "execute_result",
          "data": {
            "text/plain": [
              "4"
            ]
          },
          "metadata": {},
          "execution_count": 1
        }
      ],
      "source": [
        "def divide_or_square(num):\n",
        "    if num % 5 ==0:\n",
        "        return (num**0.5)\n",
        "    if num % 5 != 0:\n",
        "        return  (num % 5)\n",
        "        \n",
        "divide_or_square(64)"
      ],
      "id": "fb17c8bb"
    },
    {
      "cell_type": "code",
      "execution_count": 2,
      "metadata": {
        "colab": {
          "base_uri": "https://localhost:8080/"
        },
        "id": "660c7f60",
        "outputId": "20a396c3-deb1-4c40-b403-b721df89ff48"
      },
      "outputs": [
        {
          "output_type": "execute_result",
          "data": {
            "text/plain": [
              "7.745966692414834"
            ]
          },
          "metadata": {},
          "execution_count": 2
        }
      ],
      "source": [
        "divide_or_square(60)"
      ],
      "id": "660c7f60"
    },
    {
      "cell_type": "markdown",
      "metadata": {
        "id": "f6eaeef0"
      },
      "source": [
        "##### Extra Challenge: Longest Value\n",
        "Write a function called longest_value that takes a dictionary \n",
        "as an argument and returns the first longest value of the \n",
        "dictionary. For example, the following dictionary should return \n",
        "– apple as the longest value.\n",
        "fruits = {'fruit': 'apple', 'color': 'green'}\n"
      ],
      "id": "f6eaeef0"
    },
    {
      "cell_type": "code",
      "execution_count": 3,
      "metadata": {
        "colab": {
          "base_uri": "https://localhost:8080/"
        },
        "id": "60227b50",
        "outputId": "7b52416e-ec80-4824-e15e-88a546505328"
      },
      "outputs": [
        {
          "output_type": "execute_result",
          "data": {
            "text/plain": [
              "1000"
            ]
          },
          "metadata": {},
          "execution_count": 3
        }
      ],
      "source": [
        "#this function does not work for dictionary of strings\n",
        "def longest_value(dictionary):\n",
        "    value = dictionary.values()\n",
        "    max_value = max(value)\n",
        "    return max_value\n",
        "              \n",
        "longest_value({'d':200,'a':1000,'b':400, 'g':800,'c':600 })"
      ],
      "id": "60227b50"
    },
    {
      "cell_type": "code",
      "execution_count": 4,
      "metadata": {
        "colab": {
          "base_uri": "https://localhost:8080/"
        },
        "id": "2cd0bb97",
        "outputId": "69a3df42-75b4-4ea6-b74a-83c25116fbd6"
      },
      "outputs": [
        {
          "output_type": "stream",
          "name": "stdout",
          "text": [
            "thought\n"
          ]
        }
      ],
      "source": [
        "#for strings\n",
        "\n",
        "def longest_value(dictionary):\n",
        "    max_list = []\n",
        "    for i in dictionary.values():\n",
        "        if len(i) > len(max_list):\n",
        "            max_list = i\n",
        "    print (max_list)\n",
        "\n",
        "longest_value({'a':'blue','e':'thought','b':'purple', 'c':'sky', 'd':'white'})"
      ],
      "id": "2cd0bb97"
    },
    {
      "cell_type": "markdown",
      "metadata": {
        "id": "a45ae6a8"
      },
      "source": [
        "##### Day 2: Strings to Integers\n",
        "Write a function called convert_add that takes a list of strings \n",
        "as an argument and converts it to integers and sums the list. For \n",
        "example [‘1’, ‘3’, ‘5’] should be converted to [1, 3, 5] and\n",
        "summed to 9."
      ],
      "id": "a45ae6a8"
    },
    {
      "cell_type": "code",
      "execution_count": 5,
      "metadata": {
        "colab": {
          "base_uri": "https://localhost:8080/"
        },
        "id": "e7d1f1ea",
        "outputId": "8d96ddc7-8f53-4319-9d22-92c36e6ab9c2"
      },
      "outputs": [
        {
          "output_type": "execute_result",
          "data": {
            "text/plain": [
              "162"
            ]
          },
          "metadata": {},
          "execution_count": 5
        }
      ],
      "source": [
        "def convert_add(lists):\n",
        "    int_list =[]\n",
        "    for i in lists:\n",
        "        int_list.append(int(i))\n",
        "    return sum(int_list)\n",
        "convert_add(['13','57','91','1'])"
      ],
      "id": "e7d1f1ea"
    },
    {
      "cell_type": "markdown",
      "metadata": {
        "id": "fe3f7e8b"
      },
      "source": [
        "##### Extra Challenge: Duplicate Names\n",
        "Write a function called check_duplicates that takes a list of \n",
        "strings as an argument. The function should check if the list has \n",
        "any duplicates. If there are duplicates, the function should return \n",
        "the duplicates. If there are no duplicates, the function should \n",
        "return \"No duplicates\". For example, the list of fruits below \n",
        "should return apple as a duplicate and list of names should \n",
        "return \"no duplicates\".\n",
        "fruits = ['apple', 'orange', 'banana', 'apple']\n",
        "names = ['Yoda', 'Moses', 'Joshua', 'Mark']\n"
      ],
      "id": "fe3f7e8b"
    },
    {
      "cell_type": "code",
      "execution_count": 6,
      "metadata": {
        "colab": {
          "base_uri": "https://localhost:8080/"
        },
        "id": "D0O9qm4Ni5bP",
        "outputId": "c38dbc93-2aeb-4951-d1a5-3217ff365ee1"
      },
      "outputs": [
        {
          "output_type": "stream",
          "name": "stdout",
          "text": [
            "orange\n",
            "banana\n",
            "apple\n",
            "No Duplicates\n"
          ]
        }
      ],
      "source": [
        "duplicates =[]\n",
        "def check_duplicates(lists):\n",
        "    for i in lists:\n",
        "        if lists.count(i) > 1:\n",
        "          if i not in duplicates:\n",
        "            duplicates.append(i)\n",
        "            print (i)\n",
        "  \n",
        "    else:\n",
        "        print('No Duplicates')\n",
        "        \n",
        "check_duplicates(['orange', 'banana','banana','banana','pear', 'orange','apple', 'apple','mango','apple'])\n",
        "\n",
        " "
      ],
      "id": "D0O9qm4Ni5bP"
    },
    {
      "cell_type": "code",
      "execution_count": 7,
      "metadata": {
        "colab": {
          "base_uri": "https://localhost:8080/"
        },
        "id": "OK1lmxamofhQ",
        "outputId": "321ee004-257c-446a-db45-8d1e5aebe673"
      },
      "outputs": [
        {
          "output_type": "stream",
          "name": "stdout",
          "text": [
            "No Duplicates\n"
          ]
        }
      ],
      "source": [
        "check_duplicates(['Yoda', 'Moses', 'Joshua', 'Mark'])"
      ],
      "id": "OK1lmxamofhQ"
    },
    {
      "cell_type": "code",
      "execution_count": 8,
      "metadata": {
        "colab": {
          "base_uri": "https://localhost:8080/"
        },
        "id": "01cb6744",
        "outputId": "cecd0723-2582-461c-d7c0-09071be849fb"
      },
      "outputs": [
        {
          "output_type": "execute_result",
          "data": {
            "text/plain": [
              "['orange', 'banana', 'apple']"
            ]
          },
          "metadata": {},
          "execution_count": 8
        }
      ],
      "source": [
        "from collections import Counter\n",
        "\n",
        "def check_duplicates(lists):\n",
        "    i = Counter(lists)\n",
        "    return [key for key,value in i.items() if value>1]\n",
        "\n",
        "check_duplicates(['orange', 'banana','banana','banana','pear', 'orange','apple', 'apple','mango','apple'])\n",
        " "
      ],
      "id": "01cb6744"
    },
    {
      "cell_type": "code",
      "execution_count": 9,
      "metadata": {
        "colab": {
          "base_uri": "https://localhost:8080/"
        },
        "id": "0lklWyaCnQVm",
        "outputId": "071c69d4-8b58-4e86-f172-4dfdd61bd31e"
      },
      "outputs": [
        {
          "output_type": "execute_result",
          "data": {
            "text/plain": [
              "[]"
            ]
          },
          "metadata": {},
          "execution_count": 9
        }
      ],
      "source": [
        "check_duplicates(['Yoda', 'Moses', 'Joshua', 'Mark'])"
      ],
      "id": "0lklWyaCnQVm"
    },
    {
      "cell_type": "markdown",
      "metadata": {
        "id": "d94f547e"
      },
      "source": [
        "##### Day 3: Register Check\n",
        "\n",
        "Write a function called register_check that checks how many \n",
        "students are in school. The function takes a dictionary as a \n",
        "parameter. If the student is in school, the dictionary says ‘yes’. If \n",
        "the student is not in school, the dictionary says ‘no’. Your \n",
        "function should return the number of students in school. Use the \n",
        "dictionary below. Your function should return 3.\n"
      ],
      "id": "d94f547e"
    },
    {
      "cell_type": "code",
      "execution_count": 10,
      "metadata": {
        "colab": {
          "base_uri": "https://localhost:8080/"
        },
        "id": "a60da8e3",
        "outputId": "00f36016-47b9-4cd8-bc4e-2a8bff6863a1"
      },
      "outputs": [
        {
          "output_type": "stream",
          "name": "stdout",
          "text": [
            "Yes, Micheal is in school\n",
            "No, John is not in school\n",
            "Yes, Peter is in school\n",
            "Yes, Mary is in school\n",
            "3\n"
          ]
        }
      ],
      "source": [
        "def register_check(register):\n",
        "    count =0\n",
        "    # k and v are randon variables but they are specifically used as the keys and values of the 'register' dictionary\n",
        "    for k,v in register.items(): \n",
        "        if v == 'yes':\n",
        "            count +=1\n",
        "            print('Yes,', k, 'is in school')\n",
        "        if v == 'no':\n",
        "            print('No,',k, 'is not in school')\n",
        "    print (count)\n",
        "            \n",
        "register_check({'Micheal': 'yes','John': 'no','Peter': 'yes','Mary': 'yes'})    "
      ],
      "id": "a60da8e3"
    },
    {
      "cell_type": "markdown",
      "metadata": {
        "id": "88360ccf"
      },
      "source": [
        "##### Extra Challenge: Lowercase Names\n",
        " \n",
        "names = [\"kerry\", \"dickson\", \"John\", \"Mary\", \n",
        " \"carol\", \"Rose\", \"adam\"]\n",
        " \n",
        "You are given a list of names above. This list is made up of names \n",
        "of lowercase and uppercase letters. Your task is to write a code \n",
        "that will return a tuple of all the names in the list that have only\n",
        "lowercase letters. Your tuple should have names sorted \n",
        "alphabetically in descending order. Using the list above, your \n",
        "code should return:\n",
        "('kerry', 'dickson', 'carol', 'adam')"
      ],
      "id": "88360ccf"
    },
    {
      "cell_type": "code",
      "execution_count": 11,
      "metadata": {
        "colab": {
          "base_uri": "https://localhost:8080/"
        },
        "id": "b0a2c7f7",
        "outputId": "dfef3f93-600b-43b9-f01c-bcad458bfccc"
      },
      "outputs": [
        {
          "output_type": "execute_result",
          "data": {
            "text/plain": [
              "('kerry', 'dickson', 'carol', 'adam')"
            ]
          },
          "metadata": {},
          "execution_count": 11
        }
      ],
      "source": [
        "names = [\"kerry\", \"dickson\", \"John\", \"Mary\", \"carol\", \"Rose\", \"adam\"]\n",
        "lower_case =[]\n",
        "for i in names:\n",
        "    if i.islower() == True: \n",
        "        lower_case.append(i)\n",
        "\n",
        "#the tuple is already arranged in descending order without using the sorted function.\n",
        "#However, I still went on to sort the tuple\n",
        "\n",
        "lower_case = tuple(sorted(lower_case,reverse=True))\n",
        "lower_case\n"
      ],
      "id": "b0a2c7f7"
    },
    {
      "cell_type": "markdown",
      "metadata": {
        "id": "6a02f595"
      },
      "source": [
        "##### Day 4: Only Floats\n",
        "Write a function called only_floats, which takes two \n",
        "parameters a and b, and returns 2 if both arguments are floats,\n",
        "returns 1 if only one argument is a float, and returns 0 if neither \n",
        "argument is a float. If you pass (12.1, 23) as an argument, your \n",
        "function should return a 1."
      ],
      "id": "6a02f595"
    },
    {
      "cell_type": "code",
      "execution_count": 12,
      "metadata": {
        "colab": {
          "base_uri": "https://localhost:8080/"
        },
        "id": "adada0e0",
        "outputId": "6b7b9c89-50ef-47ec-bbc9-65fa63f25408"
      },
      "outputs": [
        {
          "output_type": "execute_result",
          "data": {
            "text/plain": [
              "1"
            ]
          },
          "metadata": {},
          "execution_count": 12
        }
      ],
      "source": [
        "def only_floats(a,b):\n",
        "    if type(a) == float and type(b) == float:\n",
        "        return 2\n",
        "    if type(a) == float and type(b) != float:\n",
        "        return 1\n",
        "    if type(a) != float and type(b) == float:\n",
        "        return 1\n",
        "    if type(a) != float and type(b) != float:\n",
        "        return 0\n",
        "\n",
        "only_floats(2,2.5)"
      ],
      "id": "adada0e0"
    },
    {
      "cell_type": "markdown",
      "metadata": {
        "id": "cb72b19f"
      },
      "source": [
        "##### Extra Challenge: Index of the Longest Word\n",
        "\n",
        "Write a function called word_index that takes one argument, \n",
        "a list of strings and returns the index of the longest word in the \n",
        "list. If there is no longest word (if all the strings are of the same \n",
        "length), the function should return zero (0). For example, the list \n",
        "below should return 2.\n",
        "words1 = [\"Hate\", \"remorse\", \"vengeance\"]\n",
        " And this list below, shoul return zero (0)\n",
        "words2 = [\"Love\", \"Hate\"]"
      ],
      "id": "cb72b19f"
    },
    {
      "cell_type": "code",
      "execution_count": 13,
      "metadata": {
        "colab": {
          "base_uri": "https://localhost:8080/"
        },
        "id": "fd788bea",
        "outputId": "4c9959f6-b74c-40bf-97a0-cc538ffd098b"
      },
      "outputs": [
        {
          "output_type": "execute_result",
          "data": {
            "text/plain": [
              "2"
            ]
          },
          "metadata": {},
          "execution_count": 13
        }
      ],
      "source": [
        "def word_index(lists):\n",
        "    max_list = ''\n",
        "    for i in lists:\n",
        "        if len(i) > len(max_list):\n",
        "            max_list = i\n",
        "        #to return index of the longest string\n",
        "        index = lists.index(max_list)\n",
        "    return (index)\n",
        "\n",
        "word_index(['hate', 'remorseremorsess', 'vengeancefgfgfhguiolsmm'])   "
      ],
      "id": "fd788bea"
    },
    {
      "cell_type": "code",
      "execution_count": 14,
      "metadata": {
        "colab": {
          "base_uri": "https://localhost:8080/"
        },
        "id": "d5aee4ee",
        "outputId": "23c91b01-f14b-4f07-899c-afd296797815"
      },
      "outputs": [
        {
          "output_type": "execute_result",
          "data": {
            "text/plain": [
              "0"
            ]
          },
          "metadata": {},
          "execution_count": 14
        }
      ],
      "source": [
        "word_index(['hate', 'love', 'hate'])    "
      ],
      "id": "d5aee4ee"
    },
    {
      "cell_type": "markdown",
      "metadata": {
        "id": "2b0d6065"
      },
      "source": [
        "##### Day 5: My Discount\n",
        "Create a function called my_discount. The function takes no \n",
        "arguments but asks the user to input the price and the \n",
        "discount (percentage) of the product. Once the user inputs the \n",
        "price and discount, it calculates the price after the discount. \n",
        "The function should return the price after the discount. For \n",
        "example, if the user enters 150 as price and 15% as the discount, \n",
        "your function should return 127.5."
      ],
      "id": "2b0d6065"
    },
    {
      "cell_type": "code",
      "execution_count": 15,
      "metadata": {
        "colab": {
          "base_uri": "https://localhost:8080/"
        },
        "id": "d73b3112",
        "outputId": "d8781436-be98-4f20-ea8c-a19066422500"
      },
      "outputs": [
        {
          "output_type": "stream",
          "name": "stdout",
          "text": [
            "Enter the price: 150\n",
            "Enter the discount: 15\n",
            "The discounted price is 127.5\n"
          ]
        }
      ],
      "source": [
        "price = int(input('Enter the price: '))\n",
        "disc= int(input('Enter the discount: '))\n",
        "\n",
        "def my_discount():\n",
        "    new_price = price * (1-(disc/100))\n",
        "    \n",
        "    print('The discounted price is', new_price)\n",
        "    \n",
        "my_discount()    "
      ],
      "id": "d73b3112"
    },
    {
      "cell_type": "markdown",
      "metadata": {
        "id": "31b79875"
      },
      "source": [
        "##### Extra Challenge: Tuple of Student Sex\n",
        "You work for a school and your boss wants to know how many \n",
        "female and male students are enrolled in the school. The school \n",
        "has saved the students in a list. Your task is to write a code that \n",
        "will count how many males and females are in the list. Here is a \n",
        "list below:\n",
        "students = ['Male', 'Female', 'female', 'male', 'male', 'male',\n",
        " 'female', 'male', 'Female', 'Male', 'Female', 'Male', 'female']\n",
        "Your code should return a list of tuples. The list above should \n",
        "return:\n",
        "[(‘Male’,7), (‘female’,6)]"
      ],
      "id": "31b79875"
    },
    {
      "cell_type": "code",
      "execution_count": 16,
      "metadata": {
        "colab": {
          "base_uri": "https://localhost:8080/"
        },
        "id": "8dc77833",
        "outputId": "7aa2b182-4204-482f-a824-df5629bd21e4"
      },
      "outputs": [
        {
          "output_type": "stream",
          "name": "stdout",
          "text": [
            "('Males', 7) ('Females', 6)\n"
          ]
        }
      ],
      "source": [
        "females = []\n",
        "males = []\n",
        "def count_students(lists):\n",
        "    for i in lists:\n",
        "        if i == 'Female' or i == 'female':\n",
        "            females.append(i)\n",
        "        if i == 'male' or i == 'Male':\n",
        "            males.append(i)\n",
        "            \n",
        "    # to make this a tuple, I just added brackets around 'Males' & len(males) and 'Females' & len(females)\n",
        "    print (('Males',len(males)),('Females',len(females)))\n",
        "    \n",
        "count_students(['Male', 'Female', 'female', 'male', 'male', 'male', 'female', 'male', 'Female', 'Male', 'Female', 'Male', 'female'])"
      ],
      "id": "8dc77833"
    },
    {
      "cell_type": "markdown",
      "metadata": {
        "id": "20db266a"
      },
      "source": [
        "##### Day 6: User Name Generator\n",
        "Write a function called user_name that generates a username \n",
        "from the user’s email. The code should ask the user to input an \n",
        "email and the code should return everything before the @ sign \n",
        "as their user name. For example, if someone enters \n",
        "ben@gmail.com, the code should return ben as their user \n",
        "name.\n"
      ],
      "id": "20db266a"
    },
    {
      "cell_type": "code",
      "execution_count": 17,
      "metadata": {
        "colab": {
          "base_uri": "https://localhost:8080/"
        },
        "id": "e823d61e",
        "outputId": "167e5b02-5915-49d4-a5a6-43d252955d9f"
      },
      "outputs": [
        {
          "output_type": "stream",
          "name": "stdout",
          "text": [
            "Enter your email:ben@gmail.com\n",
            "Your username is  BEN\n"
          ]
        }
      ],
      "source": [
        "email = input('Enter your email:')\n",
        "def user_name():\n",
        "#Since the \"@\" symbol is common to all email addresses, I tried to locate the index of the \"@\" symbol in any email address.\n",
        "    symbol = email.index('@')\n",
        "    username = email[0:symbol]\n",
        "    print ('Your username is ',username.upper())\n",
        "\n",
        "user_name()"
      ],
      "id": "e823d61e"
    },
    {
      "cell_type": "markdown",
      "metadata": {
        "id": "8719db5c"
      },
      "source": [
        "##### Extra Challenge: Zero Both Ends\n",
        "Write a function called zeroed code that takes a list of numbers \n",
        "as an argument. The code should zero (0) the first and the last \n",
        "number in the list. For example, if the input is [2, 5, 7, 8, 9],\n",
        "your code should return [0, 5, 7, 8, 0].\n"
      ],
      "id": "8719db5c"
    },
    {
      "cell_type": "code",
      "execution_count": 18,
      "metadata": {
        "colab": {
          "base_uri": "https://localhost:8080/"
        },
        "id": "af515d1f",
        "outputId": "56c5bc2e-85b8-4073-f28a-fb1c568424ee"
      },
      "outputs": [
        {
          "output_type": "execute_result",
          "data": {
            "text/plain": [
              "[0, 2, 8, 5, 7, 8, 9, 0]"
            ]
          },
          "metadata": {},
          "execution_count": 18
        }
      ],
      "source": [
        "def zeroed_code(lists):\n",
        "    #identify the first and last index of the list and equate them to 0\n",
        "    lists[0] = 0\n",
        "    lists[-1] = 0\n",
        "    return lists\n",
        "zeroed_code([4,2,8,5,7,8,9,100])"
      ],
      "id": "af515d1f"
    },
    {
      "cell_type": "markdown",
      "metadata": {
        "id": "8c2df738"
      },
      "source": [
        "##### Day 7: A String Range\n",
        "Write a function called string_range that takes a single \n",
        "number and returns a string of its range. The string characters \n",
        "should be separated by dots(.) For example, if you pass 6 as \n",
        "an argument, your function should return ‘0.1.2.3.4.5’.\n"
      ],
      "id": "8c2df738"
    },
    {
      "cell_type": "code",
      "execution_count": 19,
      "metadata": {
        "colab": {
          "base_uri": "https://localhost:8080/"
        },
        "id": "50f6b091",
        "outputId": "3619ff7e-8bc6-4807-efd0-2b0e35aaa60c"
      },
      "outputs": [
        {
          "output_type": "stream",
          "name": "stdout",
          "text": [
            "0.1.2.3.4.5.6.7.8.9\n",
            "n_list is <class 'str'>\n"
          ]
        }
      ],
      "source": [
        "#Define the function\n",
        "def string_range(num):\n",
        "    num_list =[]                         #create a list to accept the range of numbers\n",
        "    for i in range(0,num):               #create the range\n",
        "        num_list.append(i)\n",
        "        n_list = \".\".join(str(i) for i in num_list)\n",
        "    print(n_list)\n",
        "    print('n_list is',type(n_list))\n",
        "    #print (\".\".join(str(i) for i in num_list)) #using the join method, add \".\" after each number in the list\n",
        "string_range(10)\n"
      ],
      "id": "50f6b091"
    },
    {
      "cell_type": "markdown",
      "metadata": {
        "id": "592dc275"
      },
      "source": [
        "##### Extra Challenge: Dictionary of Names\n",
        "You are given a list of names, and you are asked to write a code \n",
        "that returns all the names that start with ‘S’. Your code should \n",
        "return a dictionary of all the names that start with S and how \n",
        "many times they appear in the dictionary. Here is a list below:\n",
        "names = [\"Joseph\",\"Nathan\", \"Sasha\", \"Kelly\",\n",
        " \"Muhammad\", \"Jabulani\", \"Sera”, \"Patel\", \"Sera”]\n",
        "Your code should return: {“Sasha”: 1, “Sera”: 2}"
      ],
      "id": "592dc275"
    },
    {
      "cell_type": "code",
      "execution_count": 20,
      "metadata": {
        "colab": {
          "base_uri": "https://localhost:8080/"
        },
        "id": "531a26ba",
        "outputId": "cb3a89bb-b768-46ac-bb45-7cfd7e74d897"
      },
      "outputs": [
        {
          "output_type": "stream",
          "name": "stdout",
          "text": [
            "['Sasha', 'Sera', 'Sera', 'Sera']\n",
            "{'Sasha': 1, 'Sera': 3}\n"
          ]
        }
      ],
      "source": [
        "\n",
        "names = [\"Joseph\",\"Nathan\", \"Sasha\", \"Kelly\", \"Sera\",\"Muhammad\", \"Jabulani\", \"Sera\", \"Patel\", \"Sera\"]\n",
        "s_list = []                #create a list to accept names that start with 'S'\n",
        "dictionary ={}             #create a dictionary to accept the count of names in s_list\n",
        "for i in names:                                       \n",
        "    if i[0] == \"S\":                                   \n",
        "        s_list.append(i)  \n",
        "print(s_list)      \n",
        "                      \n",
        "for name in s_list:\n",
        "  dictionary[name] = s_list.count(name)  #for the names in s_list, count the number of times each name exists and add to the dictionary\n",
        "print(dictionary)  \n",
        "                                    \n",
        "   "
      ],
      "id": "531a26ba"
    },
    {
      "cell_type": "markdown",
      "metadata": {
        "id": "80f5392c"
      },
      "source": [
        "##### Day 8: Odd and Even\n",
        "Write a function called odd_even that has one parameter and \n",
        "takes a list of numbers as an argument. The function returns the \n",
        "difference between the largest even number in the list and the \n",
        "smallest odd number in the list. For example, if you pass \n",
        "[1,2,4,6] as an argument the function should return 6 -1= 5."
      ],
      "id": "80f5392c"
    },
    {
      "cell_type": "code",
      "execution_count": 21,
      "metadata": {
        "colab": {
          "base_uri": "https://localhost:8080/"
        },
        "id": "7658e2f9",
        "outputId": "ff9d7a21-8971-4c9c-febf-e09ab1c4a089"
      },
      "outputs": [
        {
          "output_type": "stream",
          "name": "stdout",
          "text": [
            "7\n"
          ]
        }
      ],
      "source": [
        "def odd_even(lists):\n",
        "    even_num = []\n",
        "    odd_num = []\n",
        "    for i in lists:\n",
        "        #to check for numbers that are even\n",
        "        if i % 2 == 0:\n",
        "            even_num.append(i)\n",
        "            \n",
        "        #to check for numbers that are odd\n",
        "        if i % 2 != 0:\n",
        "            odd_num.append(i)\n",
        "    #you may decide to assign the max of even_num and min of odd_num to \n",
        "    #separate variables and the do the difference of the variables.\n",
        "    #I just went ahead to do all that calculation in the print statement\n",
        "    print (max(even_num)-min(odd_num))\n",
        "\n",
        "odd_even([3,2,6,4,10])    "
      ],
      "id": "7658e2f9"
    },
    {
      "cell_type": "markdown",
      "metadata": {
        "id": "f225fd27"
      },
      "source": [
        "##### Extra Challenge: List of Prime Numbers\n",
        "    \n",
        "Write a function called prime_numbers. This function asks a \n",
        "user to enter a number (integer) as an argument and returns a \n",
        "list of all the prime numbers within its range. For example, if user \n",
        "enters 10, your code should return [2, 3, 5, 7] as prime numbers.\n"
      ],
      "id": "f225fd27"
    },
    {
      "cell_type": "code",
      "execution_count": 22,
      "metadata": {
        "colab": {
          "base_uri": "https://localhost:8080/"
        },
        "id": "3fd768fa",
        "outputId": "67c0e4b3-a2de-4dec-ec77-2b53f3611168"
      },
      "outputs": [
        {
          "output_type": "stream",
          "name": "stdout",
          "text": [
            "Enter any number:10\n",
            "[2, 3, 5, 7]\n"
          ]
        }
      ],
      "source": [
        "num = int(input('Enter any number:'))\n",
        "def prime_numbers(num):\n",
        "  prime_num = []\n",
        "    #We start by creating a \"for loop\" with i in range 1 till the actual number\n",
        "  for i in range(1,num+1):\n",
        "        #prime numbers are greater than 1\n",
        "        if i > 1:\n",
        "            for p in range(2,i):\n",
        "                #prime numbers are divisible by themselves and 1\n",
        "                if (i%p) == 0:\n",
        "                    break\n",
        "            else:      \n",
        "                prime_num.append(i)\n",
        "  print(prime_num)\n",
        "prime_numbers(num)\n",
        "    "
      ],
      "id": "3fd768fa"
    },
    {
      "cell_type": "markdown",
      "metadata": {
        "id": "07703123"
      },
      "source": [
        "##### Day 9: Biggest Odd Number\n",
        "Create a function called biggest_odd that takes a string of \n",
        "numbers and returns the biggest odd number in the list. For \n",
        "example, if you pass ‘23569’ as an argument, your function \n",
        "should return 9. Use list comprehension.\n",
        "\n"
      ],
      "id": "07703123"
    },
    {
      "cell_type": "code",
      "execution_count": 23,
      "metadata": {
        "colab": {
          "base_uri": "https://localhost:8080/"
        },
        "id": "24438b37",
        "outputId": "ff4c1e19-6635-42af-e25c-5269fdade8e4"
      },
      "outputs": [
        {
          "output_type": "stream",
          "name": "stdout",
          "text": [
            "9\n",
            "9\n"
          ]
        }
      ],
      "source": [
        "#using list comprehension\n",
        "def biggest_odd(string):                              #Define the function\n",
        "    s_list = max([int(i) for i in string])            #intialize a variable, s_list, convert each element(i) to an integer     \n",
        "    print(s_list)                                     #return the maximum of s_list\n",
        "biggest_odd('23569')\n",
        "\n",
        "#alternative method\n",
        "\n",
        "def biggest_odd(string):\n",
        "  s_list =[]\n",
        "  for i in string:\n",
        "      i = int(i)\n",
        "      s_list.append(i)\n",
        "  print(max(s_list))\n",
        "biggest_odd('23569')"
      ],
      "id": "24438b37"
    },
    {
      "cell_type": "markdown",
      "metadata": {
        "id": "c5eecd9d"
      },
      "source": [
        "##### Extra Challenge: Zeros to the End\n",
        "Write a function called zeros_last. This function takes a list as \n",
        "argument. If a list has zeros (0), it will move them to the front of \n",
        "the list and maintain the order of the other numbers in the list. \n",
        "If there are no Zeros in the list, the function should return the \n",
        "original list sorted in ascending order. For example, if you pass \n",
        "[1, 4, 6, 0, 7,0,9] as an argument, your code should return [1, \n",
        "4, 6, 7, 9, 0, 0]. If you pass [2, 1, 4, 7, 6] as your argument, \n",
        "your code should return [1, 2, 4, 6, 7].\n",
        "                                "
      ],
      "id": "c5eecd9d"
    },
    {
      "cell_type": "code",
      "execution_count": 24,
      "metadata": {
        "colab": {
          "base_uri": "https://localhost:8080/"
        },
        "id": "cab40e8b",
        "outputId": "004b8d94-b3ad-431c-b604-8adfe0e3aeb3"
      },
      "outputs": [
        {
          "output_type": "stream",
          "name": "stdout",
          "text": [
            "Old lists is - [0, 2, 1, 4, 0, 7, 6]\n",
            "New list is - [1, 2, 4, 6, 7, 0, 0]\n",
            "[1, 2, 4, 6, 7, 0, 0]\n"
          ]
        }
      ],
      "source": [
        "#I'm enjoying list comprehension and I decided to use it for this exercise\n",
        "\n",
        "def zeros_last(lists):                                                                 #Define the function\n",
        "    new_lists = sorted([i for i in lists if i !=0]) + [i for i in lists if i == 0]     #Create \"new_list\" to accept the concantenation of two lists\n",
        "    print('Old lists is -',lists)\n",
        "    print ('New list is -',new_lists)                                                                  #the first list is sorted and accepts only numbers not equal to zero\n",
        "zeros_last([0,2,1,4,0,7,6])                                                            #the second list accepts only numbers equals to zero\n",
        "\n",
        "\n",
        "#alternative method\n",
        "def zeros_last(lists):                                                \n",
        "    new_lists =[]\n",
        "    zero_lists =[]\n",
        "    for i in lists:\n",
        "        if i !=0:\n",
        "            new_lists.append(i)\n",
        "            new_lists.sort()\n",
        "        if i == 0:\n",
        "            zero_lists.append(i)\n",
        "    print (new_lists+zero_lists)\n",
        "zeros_last([0,2,1,4,0,7,6])"
      ],
      "id": "cab40e8b"
    },
    {
      "cell_type": "markdown",
      "metadata": {
        "id": "ac12a1a8"
      },
      "source": [
        "##### Day 10: Hide my Password\n",
        "Write a function called hide_password that takes no \n",
        "parameters. The function takes an input (a password) from a \n",
        "user and returns a hidden password. For example, if the user \n",
        "enters ‘hello’ as a password the function should return ‘****’ as \n",
        "a password and tell the user that the password is 4 characters\n",
        "long.\n"
      ],
      "id": "ac12a1a8"
    },
    {
      "cell_type": "code",
      "execution_count": 25,
      "metadata": {
        "colab": {
          "base_uri": "https://localhost:8080/"
        },
        "id": "d8f2dbc1",
        "outputId": "2a583fe4-93a0-4867-9aa7-99c15df1fd4e"
      },
      "outputs": [
        {
          "output_type": "stream",
          "name": "stdout",
          "text": [
            "Enter your password: hello\n",
            "Password - ***** \n",
            "Your password is 5 characters long\n"
          ]
        }
      ],
      "source": [
        "password = input('Enter your password: ')\n",
        "def hide_password():\n",
        "    hid_pass = len(password) * '*'\n",
        "    print('Password -',hid_pass, '\\nYour password is',len(password),'characters long')\n",
        "        \n",
        "hide_password()\n",
        "    "
      ],
      "id": "d8f2dbc1"
    },
    {
      "cell_type": "markdown",
      "metadata": {
        "id": "fd1e3676"
      },
      "source": [
        "##### Extra Challenge: A Thousand Separator\n",
        "Your new company has a list of figures saved in a list. The issue \n",
        "is that these numbers have no separator. The numbers are \n",
        "saved in the following format:\n",
        "[1000000, 2356989, 2354672, 9878098].\n",
        "You have been asked to write a code that will convert each of the \n",
        "numbers in the list into a string. Your code should then add a \n",
        "comma on each number as a thousand separator for \n",
        "readability. When you run your code on the above list, your \n",
        "output should be:\n",
        "[ '1,000,000', '2,356,989', '2,354,672', '9,878,098’]\n",
        "Write a function called convert_numbers that will take one \n",
        "argument, a list of numbers above."
      ],
      "id": "fd1e3676"
    },
    {
      "cell_type": "code",
      "execution_count": 26,
      "metadata": {
        "colab": {
          "base_uri": "https://localhost:8080/"
        },
        "id": "51dd3a5c",
        "outputId": "ac61222f-5076-4406-e773-2793f2624ed5"
      },
      "outputs": [
        {
          "output_type": "stream",
          "name": "stdout",
          "text": [
            "['1,000,000', '2,356,989', '2,354,672', '9,878,098']\n"
          ]
        }
      ],
      "source": [
        "def convert_numbers(num):\n",
        "    str_num =[]\n",
        "    for i in num:\n",
        "        str_num.append(\"{:,}\".format(i))\n",
        "        \n",
        "    print(str_num)\n",
        "convert_numbers([1000000, 2356989, 2354672, 9878098])"
      ],
      "id": "51dd3a5c"
    },
    {
      "cell_type": "markdown",
      "metadata": {
        "id": "c451f06e"
      },
      "source": [
        "##### Day 11: Are They Equal?\n",
        "Write a function called equal_strings. The function takes two \n",
        "strings as arguments and compares them. If the strings are equal \n",
        "(if they have the same characters and have equal length), it \n",
        "should return True, if they are not, it should return False. For \n",
        "example, ‘love’ and ‘evol’ should return True.\n"
      ],
      "id": "c451f06e"
    },
    {
      "cell_type": "code",
      "execution_count": 27,
      "metadata": {
        "colab": {
          "base_uri": "https://localhost:8080/"
        },
        "id": "8b5dc6cf",
        "outputId": "3badeba9-1cfd-47d2-c25b-a46490f334e0"
      },
      "outputs": [
        {
          "output_type": "execute_result",
          "data": {
            "text/plain": [
              "True"
            ]
          },
          "metadata": {},
          "execution_count": 27
        }
      ],
      "source": [
        "def equal_strings(string_1,string_2):\n",
        "    if sorted(string_1) == sorted(string_2):\n",
        "        return True\n",
        "    else:\n",
        "        return False\n",
        "equal_strings('evil','live')    "
      ],
      "id": "8b5dc6cf"
    },
    {
      "cell_type": "markdown",
      "metadata": {
        "id": "1af2a9bb"
      },
      "source": [
        "##### Extra Challenge: Swap Values\n",
        "Write a function called swap_values. This function takes a list \n",
        "of numbers and swaps the first element with the last element. \n",
        "For example, if you pass [2, 4,67, 7] as a parameter, your \n",
        "function should return\n",
        "[7, 4, 67, 2]"
      ],
      "id": "1af2a9bb"
    },
    {
      "cell_type": "code",
      "execution_count": 28,
      "metadata": {
        "colab": {
          "base_uri": "https://localhost:8080/"
        },
        "id": "2d00b6b9",
        "outputId": "c00e9150-356a-4dd0-cb8e-815f526a6a4e"
      },
      "outputs": [
        {
          "output_type": "execute_result",
          "data": {
            "text/plain": [
              "[17, 4, 67, 3]"
            ]
          },
          "metadata": {},
          "execution_count": 28
        }
      ],
      "source": [
        "def swap_values(lists):\n",
        "    f_ele = [lists.pop(0)]\n",
        "    s_ele = [lists.pop(-1)]\n",
        "    new_list = s_ele + lists + f_ele\n",
        "    return new_list\n",
        "\n",
        "swap_values([3, 4,67, 17])"
      ],
      "id": "2d00b6b9"
    },
    {
      "cell_type": "markdown",
      "metadata": {
        "id": "194631ca"
      },
      "source": [
        "##### Day 12: Count the Dots\n",
        "Write a function called count_dots. This function takes a \n",
        "string separated by dots as a parameter and counts how many \n",
        "dots are in the string. For example, ‘h.e.l.p.’ should return 4\n",
        "dots, and ‘he.lp.’ should return 2 dots.\n"
      ],
      "id": "194631ca"
    },
    {
      "cell_type": "code",
      "execution_count": 29,
      "metadata": {
        "colab": {
          "base_uri": "https://localhost:8080/"
        },
        "id": "f44016c7",
        "outputId": "6db69336-4131-4e25-feb7-c5545a114f81"
      },
      "outputs": [
        {
          "output_type": "stream",
          "name": "stdout",
          "text": [
            "The number of dots in h.e.l.p. is 4\n"
          ]
        }
      ],
      "source": [
        "def count_dots(string):\n",
        "    count = [i for i in string if i == '.']\n",
        "    print ('The number of dots in',string, 'is',len(count))\n",
        "\n",
        "count_dots('h.e.l.p.')"
      ],
      "id": "f44016c7"
    },
    {
      "cell_type": "markdown",
      "metadata": {
        "id": "2a6e4bb3"
      },
      "source": [
        "##### Extra Challenge: Your Age in Minutes\n",
        "Write a function called age_in_minutes that tells a user how \n",
        "old they are in minutes. Your code should ask the user to \n",
        "enter their year of birth, and it should return their age in \n",
        "minutes (by subtracting their year of birth to the current year). \n",
        "Here are things to look out for:\n",
        "a. The user can only input a 4-digit year of birth. For \n",
        "example, 1930 is a valid year. However, entering any \n",
        "number longer or less than 4 digits long should render \n",
        "input invalid. Notify the user to input a four digits \n",
        "number.\n",
        "b. If a user enters a year before 1900, your code should \n",
        "tell the user that input is invalid. If the user enters the \n",
        "year after the current year, the code should tell the user, \n",
        "to input a valid year.\n",
        "The code should run until the user inputs a valid year. \n",
        "Your function should return the user's age in minutes. For \n",
        "example, if someone enters 1930, as their year of birth your \n",
        "function should return:\n",
        "You are 48,355,200 minutes old."
      ],
      "id": "2a6e4bb3"
    },
    {
      "cell_type": "code",
      "execution_count": 30,
      "metadata": {
        "colab": {
          "base_uri": "https://localhost:8080/"
        },
        "id": "ac94b38e",
        "outputId": "1e94c1aa-50a6-49d7-9f1e-414877b36856"
      },
      "outputs": [
        {
          "output_type": "stream",
          "name": "stdout",
          "text": [
            "Enter your birth year: 1940\n",
            "Your are 43099200 minutes old\n"
          ]
        }
      ],
      "source": [
        "year = int(input('Enter your birth year: '))\n",
        "def age_in_minutes():\n",
        "    age = (2022 - year)\n",
        "    if len(str(year)) < 4:\n",
        "        return 'invalid year'\n",
        "    if year > 2022 or year < 1900:\n",
        "        return 'invalid year'\n",
        "    print('Your are', age*365*24*60, 'minutes old')\n",
        "\n",
        "age_in_minutes()"
      ],
      "id": "ac94b38e"
    },
    {
      "cell_type": "markdown",
      "metadata": {
        "id": "4027831b"
      },
      "source": [
        "##### Day 13: Pay Your Tax\n",
        "Write a function called your_vat. The function takes no \n",
        "parameter. The function asks the user to input the price of an \n",
        "item and VAT (vat should be a percentage). The function should \n",
        "return the price of the item plus VAT. If the price is 220 and, \n",
        "VAT is 15% your code should return a vat inclusive price of 253. \n",
        "Make sure that your code can handle ValueError. Ensure the \n",
        "code runs until valid numbers are entered. (hint: Your code \n",
        "should include a while loop).\n"
      ],
      "id": "4027831b"
    },
    {
      "cell_type": "code",
      "execution_count": 31,
      "metadata": {
        "colab": {
          "base_uri": "https://localhost:8080/"
        },
        "id": "cd8e983e",
        "outputId": "fe482c41-ed1f-4d5f-8658-08cf06e89447"
      },
      "outputs": [
        {
          "name": "stdout",
          "output_type": "stream",
          "text": [
            "Enter the price :220\n",
            "Enter vat :15\n"
          ]
        },
        {
          "output_type": "execute_result",
          "data": {
            "text/plain": [
              "253.0"
            ]
          },
          "metadata": {},
          "execution_count": 31
        }
      ],
      "source": [
        "price = int(input('Enter the price :'))\n",
        "vat = int(input('Enter vat :'))\n",
        "def your_vat():\n",
        "    return price + (vat/100)*price\n",
        "\n",
        "your_vat()"
      ],
      "id": "cd8e983e"
    },
    {
      "cell_type": "markdown",
      "metadata": {
        "id": "ODrTtLmKWh5z"
      },
      "source": [
        "#####Extra Challenge: Pyramid of Snakes\n",
        "Write a function called Python_snakes that takes a number\n",
        "as an argument and creates the following shape, using the \n",
        "number’s range: (hint: Use the loops and emoji library. If you \n",
        "pass 7 as argument, your code should print the following:\n"
      ],
      "id": "ODrTtLmKWh5z"
    },
    {
      "cell_type": "code",
      "execution_count": 32,
      "metadata": {
        "colab": {
          "base_uri": "https://localhost:8080/"
        },
        "id": "y0iAmkiDXDu3",
        "outputId": "80ee514d-0833-4b07-86be-2d0566245170"
      },
      "outputs": [
        {
          "output_type": "stream",
          "name": "stdout",
          "text": [
            "Looking in indexes: https://pypi.org/simple, https://us-python.pkg.dev/colab-wheels/public/simple/\n",
            "Collecting emoji\n",
            "  Downloading emoji-2.2.0.tar.gz (240 kB)\n",
            "\u001b[2K     \u001b[90m━━━━━━━━━━━━━━━━━━━━━━━━━━━━━━━━━━━━━━━\u001b[0m \u001b[32m240.9/240.9 KB\u001b[0m \u001b[31m8.9 MB/s\u001b[0m eta \u001b[36m0:00:00\u001b[0m\n",
            "\u001b[?25h  Preparing metadata (setup.py) ... \u001b[?25l\u001b[?25hdone\n",
            "Building wheels for collected packages: emoji\n",
            "  Building wheel for emoji (setup.py) ... \u001b[?25l\u001b[?25hdone\n",
            "  Created wheel for emoji: filename=emoji-2.2.0-py3-none-any.whl size=234926 sha256=043ce555397975041b508cb76b839f9760b3d691f998cfef1a4e82fab7ee39f0\n",
            "  Stored in directory: /root/.cache/pip/wheels/86/62/9e/a6b27a681abcde69970dbc0326ff51955f3beac72f15696984\n",
            "Successfully built emoji\n",
            "Installing collected packages: emoji\n",
            "Successfully installed emoji-2.2.0\n"
          ]
        }
      ],
      "source": [
        "pip install emoji"
      ],
      "id": "y0iAmkiDXDu3"
    },
    {
      "cell_type": "code",
      "execution_count": 33,
      "metadata": {
        "colab": {
          "base_uri": "https://localhost:8080/"
        },
        "id": "1NS2ejVBWXc7",
        "outputId": "23342ca3-f217-4d7b-d687-abf74bf1e1d7"
      },
      "outputs": [
        {
          "output_type": "stream",
          "name": "stdout",
          "text": [
            "🐍\n",
            "\n",
            "🐍🐍\n",
            "\n",
            "🐍🐍🐍\n",
            "\n",
            "🐍🐍🐍🐍\n",
            "\n",
            "🐍🐍🐍🐍🐍\n",
            "\n"
          ]
        }
      ],
      "source": [
        "from emoji import emojize\n",
        "\n",
        "#the variable \"num\" determines the height of the pyramid.\n",
        "#the first loop prints the number of rows\n",
        "#the second loop prints the number of snakes in a row\n",
        "\n",
        "def Python_snakes(num):\n",
        "  for i in range(0,num):\n",
        "    for j in range(0,i+1):\n",
        "      print(emojize(':snake:'), end=\"\")\n",
        "    print(\"\\n\")\n",
        "Python_snakes(5)\n",
        "\n"
      ],
      "id": "1NS2ejVBWXc7"
    },
    {
      "cell_type": "markdown",
      "metadata": {
        "id": "4aa278ab"
      },
      "source": [
        "##### Day 14: Flatten the List\n",
        "Write a function called flat_list that takes one argument, a \n",
        "nested list. The function converts the nested list into a one\u0002dimension list. For example [[2,4,5,6]] should return \n",
        "[2,4,5,6].\n"
      ],
      "id": "4aa278ab"
    },
    {
      "cell_type": "code",
      "execution_count": 34,
      "metadata": {
        "colab": {
          "base_uri": "https://localhost:8080/"
        },
        "id": "b5fc24af",
        "outputId": "332d926b-dc82-45ad-c6c3-8773b5b96c6f"
      },
      "outputs": [
        {
          "output_type": "stream",
          "name": "stdout",
          "text": [
            "[2, 4, 5, 6]\n"
          ]
        }
      ],
      "source": [
        "def flat_list(lists):\n",
        "    new_list = []\n",
        "    for i in lists:\n",
        "        for p in i:\n",
        "            new_list.append(p)\n",
        "        print(new_list)\n",
        "flat_list([[2,4,5,6]])"
      ],
      "id": "b5fc24af"
    },
    {
      "cell_type": "markdown",
      "metadata": {
        "id": "11cd19ce"
      },
      "source": [
        "##### Extra Challenge: Teacher’s Salary\n",
        "A school has asked you to write a program that will calculate \n",
        "teachers' salaries. The program should ask the user to enter the \n",
        "teacher’s name, the number of periods taught in a month, \n",
        "and the rate per period. The monthly salary is calculated by \n",
        "multiplying the number of periods by the monthly rate. \n",
        "The current monthly rate per period is $20.  If a teacher has more than 100 periods in a month, everything above 100 is \n",
        "overtime.  Overtime is $25 per period. For example, if a teacher \n",
        "has taught 105 periods, their monthly gross salary should be \n",
        "2,125. \n",
        "\n",
        "Write a function called your_salary that calculates a \n",
        "teacher’s gross salary. The function should return the \n",
        "teacher’s name, periods taught, and gross salary. Here is \n",
        "how you should format your output:\n",
        "\n",
        "Teacher: John Kelly, \n",
        "\n",
        "Periods: 105 \n",
        "\n",
        "Gross salary: 2,125"
      ],
      "id": "11cd19ce"
    },
    {
      "cell_type": "code",
      "execution_count": 36,
      "metadata": {
        "colab": {
          "base_uri": "https://localhost:8080/"
        },
        "id": "47c87868",
        "outputId": "a24c5a03-14f1-44f0-bc3e-dac1e1982bdb"
      },
      "outputs": [
        {
          "output_type": "stream",
          "name": "stdout",
          "text": [
            "Enter teacher\"s name: John Kelly\n",
            "Enter the number of periods: 105\n",
            "Gross Salary:  2125\n"
          ]
        }
      ],
      "source": [
        "name = input('Enter teacher\"s name: ')\n",
        "periods= int(input('Enter the number of periods: '))\n",
        "def your_salary():\n",
        "    if periods > 100:\n",
        "        basic = 100 * 20\n",
        "        overtime = (periods - 100)*25\n",
        "        print('Gross Salary: ',basic+overtime )\n",
        "    else:\n",
        "        print('Gross Salary: ',periods*20)\n",
        "        \n",
        "your_salary()"
      ],
      "id": "47c87868"
    },
    {
      "cell_type": "markdown",
      "metadata": {
        "id": "c16d67a2"
      },
      "source": [
        "##### Day 15: Same in Reverse\n",
        "Write a function called same_in_reverse that takes a string \n",
        "and checks if the string reads the same in reverse. If it is the \n",
        "same, the code should return True if not, it should return False. \n",
        "For example, ‘dad’ should return True, because it reads the \n",
        "same in reverse.\n"
      ],
      "id": "c16d67a2"
    },
    {
      "cell_type": "code",
      "execution_count": 37,
      "metadata": {
        "colab": {
          "base_uri": "https://localhost:8080/"
        },
        "id": "f20d6117",
        "outputId": "6905174a-f7f6-4951-b5ce-b3a0aeecdf79"
      },
      "outputs": [
        {
          "output_type": "execute_result",
          "data": {
            "text/plain": [
              "True"
            ]
          },
          "metadata": {},
          "execution_count": 37
        }
      ],
      "source": [
        "def same_in_reverse(string):\n",
        "    if string == string[::-1]:\n",
        "        return True\n",
        "    else:\n",
        "        return False\n",
        "\n",
        "same_in_reverse('noon')"
      ],
      "id": "f20d6117"
    },
    {
      "cell_type": "markdown",
      "metadata": {
        "id": "8efda4fa"
      },
      "source": [
        "##### Extra Challenge: What’s My Age?\n",
        "Write a function called your_age. This function asks a student\n",
        "to enter their name and then it returns their age. For example, if \n",
        "a user enters Peter as their name, your function should return, \n",
        "‘Hi, Peter, you are 27 years old. This function reads data \n",
        "from the database (dictionary below). If the name is not in the \n",
        "dictionary, your code should tell the user that their name is not \n",
        "in the dictionary, and ask them for their age. Your code should \n",
        "then add the name and age to the dictionary of names_age\n",
        "below. Once added your code should return to the user ‘Hi, \n",
        "(added name), you are (added age) years old’. Remember\n",
        "to convert the input from user to lowercase letters\n",
        "names_age = {\"jane\": 23, \"kerry\": 45, \"tim\": 34, “peter\": 27}"
      ],
      "id": "8efda4fa"
    },
    {
      "cell_type": "code",
      "execution_count": 38,
      "metadata": {
        "colab": {
          "base_uri": "https://localhost:8080/"
        },
        "id": "5d529710",
        "outputId": "57a2596f-617a-4ee2-9cbf-a30341ccd42f"
      },
      "outputs": [
        {
          "output_type": "stream",
          "name": "stdout",
          "text": [
            "Enter your name: Peter\n",
            "Hi, Peter -You are 27 years old\n"
          ]
        }
      ],
      "source": [
        "name = input('Enter your name: ').lower()\n",
        "def your_age(dictionary):\n",
        "    for k,v in dictionary.items():\n",
        "        if k == name:\n",
        "            print('Hi,',name.capitalize(), '-You are', v, 'years old')\n",
        "        if name not in dictionary:\n",
        "            age = int(input('Enter your age: '))\n",
        "            dictionary[name] = age\n",
        "            print('Hi,', name.capitalize(), '-You are', age, 'years old')\n",
        "            \n",
        "your_age({\"jane\": 23, \"kerry\": 45, \"tim\": 34, \"peter\": 27})  \n"
      ],
      "id": "5d529710"
    },
    {
      "cell_type": "markdown",
      "metadata": {
        "id": "eab3d00e"
      },
      "source": [
        "##### Day 16: Sum the List\n",
        "Write a function called sum_list with one parameter that takes \n",
        "a nested list of integers as an argument and returns the sum of \n",
        "the integers. For example, if you pass [[2, 4, 5, 6], [2, 3, 5, 6]]\n",
        "as an argument your function should return a sum of 33.\n"
      ],
      "id": "eab3d00e"
    },
    {
      "cell_type": "code",
      "execution_count": 39,
      "metadata": {
        "colab": {
          "base_uri": "https://localhost:8080/"
        },
        "id": "5dd80f7c",
        "outputId": "5517746a-5171-437a-e7fa-e26547c97018"
      },
      "outputs": [
        {
          "output_type": "stream",
          "name": "stdout",
          "text": [
            "38\n"
          ]
        }
      ],
      "source": [
        "def sum_list(lists):\n",
        "    sum_list = []\n",
        "    for each_list in lists:\n",
        "        for i in each_list:\n",
        "            sum_list.append(i)\n",
        "    print(sum(sum_list))\n",
        "    \n",
        "sum_list([[2, 4, 5, 6], [2, 3, 5, 6,2],[1,2]])"
      ],
      "id": "5dd80f7c"
    },
    {
      "cell_type": "markdown",
      "metadata": {
        "id": "1a6b7c7b"
      },
      "source": [
        "##### Extra Challenge: Unpack A Nest\n",
        "Nested_list = [[12, 34, 56, 67], [34, 68, 78]]\n",
        "\n",
        "Write a code that generates a list of the following numbers from \n",
        "the nested list above – 34, 67, 78. Your output should be another \n",
        "list:\n",
        "[34, 67, 78]. The list output should not have duplicates."
      ],
      "id": "1a6b7c7b"
    },
    {
      "cell_type": "code",
      "execution_count": 40,
      "metadata": {
        "colab": {
          "base_uri": "https://localhost:8080/"
        },
        "id": "c4742732",
        "outputId": "7560068c-200b-401f-d0a0-403a00b63ae7"
      },
      "outputs": [
        {
          "output_type": "stream",
          "name": "stdout",
          "text": [
            "[34, 67, 78]\n"
          ]
        }
      ],
      "source": [
        "#I was not so sure about what the question means\n",
        "nested_list = [[12, 34, 56, 67], [34, 68, 78]]\n",
        "new_list = []\n",
        "for each_list in nested_list:\n",
        "    for i in each_list:\n",
        "        if i == 34 or i == 67 or i == 78:\n",
        "            if i not in new_list:\n",
        "                new_list.append(i)\n",
        "print(new_list)\n",
        "    "
      ],
      "id": "c4742732"
    },
    {
      "cell_type": "markdown",
      "metadata": {
        "id": "296a0e35"
      },
      "source": [
        "##### Day 17: User Name Generator\n",
        "Write a function called user_name, that creates a username \n",
        "for the user. The function should ask a user to input their name. \n",
        "The function should then reverse the name and attach a \n",
        "randomly issued number between 0 – 9 at the end of the name. \n",
        "The function should return the username.\n"
      ],
      "id": "296a0e35"
    },
    {
      "cell_type": "code",
      "execution_count": 41,
      "metadata": {
        "colab": {
          "base_uri": "https://localhost:8080/"
        },
        "id": "7eb62751",
        "outputId": "fb6e56f0-7e31-4e29-ecfb-c96cec3d9289"
      },
      "outputs": [
        {
          "output_type": "stream",
          "name": "stdout",
          "text": [
            "Enter your name: Tosin\n",
            "nisot7\n"
          ]
        }
      ],
      "source": [
        "#To generate a random number, we need to import the random module from the NumPy Libraries\n",
        "\n",
        "from numpy import random\n",
        "user = input('Enter your name: ').replace(' ','').lower()\n",
        "def user_name():\n",
        "    name = user[::-1]\n",
        "    rand_num = random.randint(10)\n",
        "    username = name + str(rand_num)\n",
        "    print(username)\n",
        "user_name()"
      ],
      "id": "7eb62751"
    },
    {
      "cell_type": "markdown",
      "metadata": {
        "id": "3d34b17a"
      },
      "source": [
        "##### Extra Challenge: Sort by Length\n",
        "names = [ \"Peter\", \"Jon\", \"Andrew\"]\n",
        "\n",
        "Write a function called sort_length that takes a list of strings\n",
        "as an argument, and sorts the strings in ascending order \n",
        "according to their length. For example, the list above should \n",
        "return:\n",
        "['Jon', 'Peter', 'Andrew']\n",
        "Do not use the built-in sort functions"
      ],
      "id": "3d34b17a"
    },
    {
      "cell_type": "code",
      "execution_count": 42,
      "metadata": {
        "colab": {
          "base_uri": "https://localhost:8080/"
        },
        "id": "66590bdc",
        "outputId": "c001f7cc-1a62-479a-e230-bbd119973ebd"
      },
      "outputs": [
        {
          "output_type": "stream",
          "name": "stdout",
          "text": [
            "['Andrew', 'Jon', 'Peter']\n"
          ]
        }
      ],
      "source": [
        "\n",
        "  def sort_length(names):\n",
        "    new_list = list(set(names))                #create an ordered list of names using the set function, convert to list \n",
        "    ord_list = new_list[::-1]                  #reverse the list\n",
        "    print(ord_list)\n",
        "\n",
        "sort_length([ \"Peter\", \"Jon\", \"Andrew\"])\n",
        "\n",
        "\n"
      ],
      "id": "66590bdc"
    },
    {
      "cell_type": "markdown",
      "metadata": {
        "id": "d55807b4"
      },
      "source": [
        "##### Day 18: Any Number of Arguments\n",
        "Write a function called any_number that can receive any \n",
        "number of arguments (integers and floats) and return the \n",
        "average of those integers. If you pass 12, 90, 12, 34 as \n",
        "arguments your function should return 37.0 as average. If you \n",
        "pass 12, 90 your function should return 51.0 as average.\n"
      ],
      "id": "d55807b4"
    },
    {
      "cell_type": "code",
      "execution_count": 43,
      "metadata": {
        "colab": {
          "base_uri": "https://localhost:8080/"
        },
        "id": "3664018a",
        "outputId": "8323c85b-a089-4a41-e98b-9ec2358ac7a0"
      },
      "outputs": [
        {
          "output_type": "execute_result",
          "data": {
            "text/plain": [
              "37.0"
            ]
          },
          "metadata": {},
          "execution_count": 43
        }
      ],
      "source": [
        "#I use the asterisk(*) so that my argument can take multiple numbers\n",
        "def any_number(*numbers):\n",
        "    average = sum(numbers)/len(numbers)\n",
        "    return average\n",
        "\n",
        "any_number(12,90,12,34)\n",
        "    "
      ],
      "id": "3664018a"
    },
    {
      "cell_type": "code",
      "execution_count": 44,
      "metadata": {
        "colab": {
          "base_uri": "https://localhost:8080/"
        },
        "id": "d2bbb223",
        "outputId": "c4f50ebf-81c2-48c9-e1ea-7291dfdcd896"
      },
      "outputs": [
        {
          "output_type": "execute_result",
          "data": {
            "text/plain": [
              "51.0"
            ]
          },
          "metadata": {},
          "execution_count": 44
        }
      ],
      "source": [
        "any_number(12,90)"
      ],
      "id": "d2bbb223"
    },
    {
      "cell_type": "markdown",
      "metadata": {
        "id": "4a966124"
      },
      "source": [
        "##### Extra Challenge: Add and Reverse\n",
        "Write a function called add_reverse. This function takes two\n",
        "lists as argument and adds each corresponding number, and \n",
        "reverses the outcome. For example, if you pass [10, 12, 34]\n",
        "and [12, 56, 78]. Your code should return [112, 22, 68]. If the \n",
        "two lists are not of equal lengths, the code should return a \n",
        "message that \"the lists are not of equal lengths\"."
      ],
      "id": "4a966124"
    },
    {
      "cell_type": "code",
      "execution_count": 45,
      "metadata": {
        "colab": {
          "base_uri": "https://localhost:8080/"
        },
        "id": "629fc998",
        "outputId": "019942a0-2284-420d-fde4-c815c06a282b"
      },
      "outputs": [
        {
          "output_type": "stream",
          "name": "stdout",
          "text": [
            "[112, 68, 22]\n"
          ]
        }
      ],
      "source": [
        "def add_reverse(lists_1,lists_2):                    #create a function\n",
        "    new_list =[]                                     #initialise an empty list\n",
        "    if len(lists_1) == len(lists_2):                 #check if the length of the lists are equal to each other\n",
        "        for i in range(0, len(lists_1)):             #define a range whose upper limit is the length of each list\n",
        "            sum_list = lists_1[i] + lists_2[i]       #add the list together\n",
        "            new_list.append(sum_list)                #append to new_list\n",
        "        print(new_list[::-1])                        #reverse the list\n",
        "    \n",
        "    else:\n",
        "        print('The lists are not of equal lengths')\n",
        "\n",
        "    \n",
        "add_reverse([10, 12, 34],[12, 56,78])    "
      ],
      "id": "629fc998"
    },
    {
      "cell_type": "code",
      "execution_count": 46,
      "metadata": {
        "colab": {
          "base_uri": "https://localhost:8080/"
        },
        "id": "47ce23f2",
        "outputId": "195342ac-a3ca-47bb-a4b1-1b6c873a88e2"
      },
      "outputs": [
        {
          "output_type": "stream",
          "name": "stdout",
          "text": [
            "The lists are not of equal lengths\n"
          ]
        }
      ],
      "source": [
        "add_reverse([10, 12, 34],[12, 56])    "
      ],
      "id": "47ce23f2"
    },
    {
      "cell_type": "markdown",
      "metadata": {
        "id": "bd94cb3b"
      },
      "source": [
        "##### Day 19: Words and Elements\n",
        "Write two functions. \n",
        "\n",
        "The first function is called count_words\n",
        "which takes a string of words and counts how many words are in \n",
        "the string. \n",
        "The second function called count_elements takes a string of \n",
        "words and counts how many elements are in the string. Do not \n",
        "count the whitespaces. The first function will return the number \n",
        "of words in a string and the second one will return the number \n",
        "of elements (less whitespace). If you pass ‘I love learning’, \n",
        "the count_words function should return 3 words and \n",
        "count_elements should return 13 elements."
      ],
      "id": "bd94cb3b"
    },
    {
      "cell_type": "code",
      "execution_count": 47,
      "metadata": {
        "colab": {
          "base_uri": "https://localhost:8080/"
        },
        "id": "27755e89",
        "outputId": "d0bcaf4a-6ae4-4873-a96d-654b3ae7483d"
      },
      "outputs": [
        {
          "output_type": "stream",
          "name": "stdout",
          "text": [
            "3\n",
            "12\n"
          ]
        }
      ],
      "source": [
        "def count_words(string):\n",
        "    words = string.split()\n",
        "    print(len(words))\n",
        "count_words('string is good')\n",
        "\n",
        "def count_elements(string):\n",
        "    string = string.replace(' ','')\n",
        "    print(len(string))\n",
        "count_elements('string is good')    "
      ],
      "id": "27755e89"
    },
    {
      "cell_type": "code",
      "execution_count": 48,
      "metadata": {
        "colab": {
          "base_uri": "https://localhost:8080/"
        },
        "id": "8a2ca4e3",
        "outputId": "8fdeb7d8-62a6-47f1-c48f-e9a472de9cef"
      },
      "outputs": [
        {
          "output_type": "stream",
          "name": "stdout",
          "text": [
            "No of words - 3 \n",
            "No of letters - 12\n"
          ]
        }
      ],
      "source": [
        "def count_words_elements(string):\n",
        "    words = string.split()\n",
        "    string = string.replace(' ','')\n",
        "    print('No of words -', len(words), '\\nNo of letters -',len(string))\n",
        "    \n",
        "count_words_elements('string is good')"
      ],
      "id": "8a2ca4e3"
    },
    {
      "cell_type": "markdown",
      "metadata": {
        "id": "22a7d515"
      },
      "source": [
        "##### Day 20: Capitalize First Letter\n",
        "\n",
        "Write a function called capitalize. This python\n",
        "function takes a string \n",
        "as an argument and capitalizes the first letter of each word. For \n",
        "example, ‘i like learning’ becomes ‘I Like Learning’. . "
      ],
      "id": "22a7d515"
    },
    {
      "cell_type": "code",
      "execution_count": 49,
      "metadata": {
        "colab": {
          "base_uri": "https://localhost:8080/"
        },
        "id": "04d376c3",
        "outputId": "87dc9bbe-0c6f-4773-f540-4a08e86a0e76"
      },
      "outputs": [
        {
          "output_type": "stream",
          "name": "stdout",
          "text": [
            "I Like Learning\n",
            "My Name Is Tosin\n"
          ]
        }
      ],
      "source": [
        "def capitalize(string):\n",
        "    words = string.split()                                  #split the string into words\n",
        "    new_string = ' '.join([i.capitalize() for i in words])  #capitalize each element in words, join them together and append to \"new_string\"\n",
        "    print(new_string)                                       #print new_string\n",
        "capitalize('i like learning')\n",
        "\n",
        "\n",
        "#alternate method\n",
        "def capitalize(string):\n",
        "    cap_string = []\n",
        "    words = string.split()                                  \n",
        "    for i in words:\n",
        "        cap_string.append(i.capitalize()) \n",
        "        new_string = ' '.join(cap_string)\n",
        "    print(new_string)\n",
        "capitalize('my name is tosin')\n",
        "\n"
      ],
      "id": "04d376c3"
    },
    {
      "cell_type": "markdown",
      "metadata": {
        "id": "ca3168cc"
      },
      "source": [
        "#####**Extra Challenge: Reversed List**\n",
        "\n",
        "str1 = 'leArning is hard, bUt if You appLy youRself you can achieVe success'\n",
        "\n",
        "You are given a string of words. Some of the words in the string\n",
        "contain uppercase letters. Write a code that will return all the \n",
        "words that have an uppercase letter. Your code should return a \n",
        "list of the words. Each word in the list should be reversed. Here \n",
        "is how your output should look:\n",
        "\n",
        "['gninrAel', 'tUb', 'uoY', 'yLppa', 'flesRuoy', 'eVeihca']"
      ],
      "id": "ca3168cc"
    },
    {
      "cell_type": "code",
      "execution_count": 50,
      "metadata": {
        "colab": {
          "base_uri": "https://localhost:8080/"
        },
        "id": "ff44112c",
        "outputId": "f07e6033-a5db-4ac0-ad57-49a56c47d315"
      },
      "outputs": [
        {
          "output_type": "stream",
          "name": "stdout",
          "text": [
            "Old List - ['leArning', 'bUt', 'You', 'appLy', 'youRself', 'achieVe']\n",
            "New List - ['gninrAel', 'tUb', 'uoY', 'yLppa', 'flesRuoy', 'eVeihca']\n"
          ]
        }
      ],
      "source": [
        "\n",
        "def reverse(string):\n",
        "    upper_case =[]\n",
        "    words = string.split()\n",
        "    for i in words:\n",
        "            if i.islower() != True:\n",
        "                upper_case.append(i)\n",
        "    print ('Old List -',upper_case)\n",
        "    reverse_list = [i[::-1] for i in upper_case]\n",
        "    print ('New List -',reverse_list)\n",
        "\n",
        "reverse('leArning is hard, bUt if You appLy youRself you can achieVe success')"
      ],
      "id": "ff44112c"
    },
    {
      "cell_type": "markdown",
      "metadata": {
        "id": "f1u-HBqHTjKx"
      },
      "source": [
        "##### **Day 21: List of Tuples**\n",
        "\n",
        "Write a function called make_tuples that takes two \n",
        " lists, \n",
        "equal lists, and combines them into a list of tuples. For \n",
        "example, if list a is [1,2,3,4] and list b is [5,6,7,8], your\n",
        "function should return [(1,5), (2,6), (3,7), (4,8)]."
      ],
      "id": "f1u-HBqHTjKx"
    },
    {
      "cell_type": "code",
      "execution_count": 51,
      "metadata": {
        "colab": {
          "base_uri": "https://localhost:8080/"
        },
        "id": "317abae4",
        "outputId": "7273514e-48b2-48c5-e2ac-e9b3ae0b1a00"
      },
      "outputs": [
        {
          "output_type": "stream",
          "name": "stdout",
          "text": [
            "[(1, 5), (2, 6), (3, 7), (4, 8), (5, 9)]\n"
          ]
        }
      ],
      "source": [
        "def makes_tuples(a,b):\n",
        "  lists =[(a[i],b[i]) for i in range(0,len(a))] \n",
        "  print(lists)\n",
        "makes_tuples([1,2,3,4,5],[5,6,7,8,9])\n"
      ],
      "id": "317abae4"
    },
    {
      "cell_type": "markdown",
      "metadata": {
        "id": "XjwtMX4TXBSS"
      },
      "source": [
        "#####**Extra Challenge: Even Number or Average**\n",
        "\n",
        "Write a function called even_or_average that ask a user to \n",
        "input five numbers. Once the user is done, the code should \n",
        "return the largest even number in the inputted numbers. If \n",
        "there is no even number in the list, the code should return the \n",
        "average of all the five numbers."
      ],
      "id": "XjwtMX4TXBSS"
    },
    {
      "cell_type": "code",
      "execution_count": 52,
      "metadata": {
        "colab": {
          "base_uri": "https://localhost:8080/"
        },
        "id": "rQdK6AmXXD8I",
        "outputId": "97410c4c-0eeb-41cc-8ad5-a24007633cb1"
      },
      "outputs": [
        {
          "output_type": "stream",
          "name": "stdout",
          "text": [
            "Enter multiple values seperated by a single space: 3 5 8 1 2\n",
            "Maximum even number is 8\n"
          ]
        }
      ],
      "source": [
        "def even_or_average():\n",
        "  numbers = list(map(int, input(\"Enter multiple values seperated by a single space: \").split()))\n",
        "  even_list = []\n",
        "  for i in numbers:\n",
        "    if i % 2 == 0:\n",
        "      even_list.append(i)\n",
        "\n",
        "  if len(even_list) > 0:\n",
        "    print('Maximum even number is',max(even_list))\n",
        "\n",
        "  else:\n",
        "    print('Average Number',sum(numbers)/len(numbers))\n",
        "            \n",
        "even_or_average()"
      ],
      "id": "rQdK6AmXXD8I"
    },
    {
      "cell_type": "code",
      "execution_count": 53,
      "metadata": {
        "colab": {
          "base_uri": "https://localhost:8080/"
        },
        "id": "jVW0b4BWTI0h",
        "outputId": "90b578a6-087d-429b-fea8-cc3b2cc61af7"
      },
      "outputs": [
        {
          "output_type": "stream",
          "name": "stdout",
          "text": [
            "Enter multiple values seperated by a single space: 3 7 9 9 1\n",
            "Average Number 5.8\n"
          ]
        }
      ],
      "source": [
        "even_or_average()"
      ],
      "id": "jVW0b4BWTI0h"
    },
    {
      "cell_type": "markdown",
      "metadata": {
        "id": "1Nl2OzAGXLSr"
      },
      "source": [
        "#####**Day 22: Add Under_Score**\n",
        "\n",
        "Create three functions. The first called add_hash takes a string and \n",
        "adds a hash # between the words. The second function called \n",
        "add_underscore removes the hash (#) and replaces it with an \n",
        "underscore \"_\" The third function called remove_underscore,\n",
        "removes the underscore and replaces it with nothing. if you pass \n",
        "‘Python’ as an argument for the three functions, and you call them at \n",
        "the same time like:\n",
        "print(remove_underscore(add_underscore(add_hash('Python')))) \n",
        "it should return ‘Python’.\n"
      ],
      "id": "1Nl2OzAGXLSr"
    },
    {
      "cell_type": "code",
      "execution_count": 54,
      "metadata": {
        "colab": {
          "base_uri": "https://localhost:8080/"
        },
        "id": "fptBYsKnXXBo",
        "outputId": "9508f601-c863-41f3-85c1-3e130ca7bc41"
      },
      "outputs": [
        {
          "output_type": "stream",
          "name": "stdout",
          "text": [
            "I#love#people#who#give\n",
            "I_love_people_who_give\n",
            "I love people who give\n",
            "Python\n"
          ]
        }
      ],
      "source": [
        "def add_hash(string):\n",
        "    new_string = string.replace(' ', '#')\n",
        "    print(new_string)\n",
        "add_hash('I love people who give')\n",
        "\n",
        "def add_underscore(string):\n",
        "  if string:                                               \n",
        "    string = string.replace('#','_')                        \n",
        "    print(string)\n",
        "add_underscore('I#love#people#who#give')\n",
        "\n",
        "def remove_underscore(string):\n",
        "  if string:\n",
        "    string = string.replace('_',' ')\n",
        "    print(string)\n",
        "remove_underscore('I_love_people_who_give')\n",
        "\n",
        "remove_underscore(add_underscore(add_hash('Python')))"
      ],
      "id": "fptBYsKnXXBo"
    },
    {
      "cell_type": "markdown",
      "metadata": {
        "id": "H6HGyeEcXisP"
      },
      "source": [
        "#####**Day 23: Simple Calculator**\n",
        "\n",
        "Create a simple calculator. The calculator should be able to perform \n",
        "basic math operations, add, subtract, divide and multiply. The \n",
        "calculator should take input from users. The calculator should be \n",
        "able to handle ZeroDivisionError, NameError, and \n",
        "ValueError.\n"
      ],
      "id": "H6HGyeEcXisP"
    },
    {
      "cell_type": "code",
      "execution_count": 55,
      "metadata": {
        "colab": {
          "base_uri": "https://localhost:8080/"
        },
        "id": "2eSbDPH6Xjy2",
        "outputId": "b5f9dfa3-cc3b-4901-c57c-ab2b4f0154fa"
      },
      "outputs": [
        {
          "output_type": "stream",
          "name": "stdout",
          "text": [
            "Enter the first number -45\n",
            "Enter operator +\n",
            "Enter the second number -34\n",
            "45.0 + 34.0 = 79.0\n"
          ]
        }
      ],
      "source": [
        "num_1 = float(input('Enter the first number -'))\n",
        "operator = input('Enter operator ')\n",
        "num_2 = float(input('Enter the second number -'))\n",
        "\n",
        "if operator == '+':\n",
        "  print(num_1, \"+\",num_2,\"=\",num_1 + num_2)\n",
        "\n",
        "elif operator == '-':\n",
        "  print(num_1, \"-\",num_2,\"=\",num_1 - num_2)\n",
        "\n",
        "elif operator == '*':\n",
        "  print(num_1, \"*\",num_2,\"=\",num_1 * num_2)\n",
        "\n",
        "elif operator == '/':\n",
        "    if num_2 == 0:\n",
        "        print(\"Sorry, can't divide a number by zero, Enter a number greater than zero\")\n",
        "    else:\n",
        "        result = num_1 / num_2\n",
        "        print(num_1, \"/\", num_2,\"=\",result)\n",
        "else:\n",
        "    print(\"Please enter a valid operator from among the ones provided above\")\n"
      ],
      "id": "2eSbDPH6Xjy2"
    },
    {
      "cell_type": "markdown",
      "metadata": {
        "id": "tnFDAVK9XlE5"
      },
      "source": [
        "#####**Extra Challenge: Multiply Words**\n",
        "\n",
        "s = \"love live and laugh\"\n",
        "\n",
        "Write a function called multiply_words that takes a string as an \n",
        "argument and multiplies the length of each word in the string by\n",
        "the length of other words in the string. For example, the string \n",
        "above should return 240 - love (4) live (4) and (3) laugh (5). \n",
        "However, your function should only multiply words will all \n",
        "lowercase letters. If a word has one upper case letter, it should be\n",
        "ignored. For example, the following string:\n",
        "s = \"Hate war love Peace\" should return 12 – war (3) love (4). \n",
        "Hate and Peace will be ignored because they have at least one \n",
        "uppercase letter."
      ],
      "id": "tnFDAVK9XlE5"
    },
    {
      "cell_type": "code",
      "execution_count": 56,
      "metadata": {
        "colab": {
          "base_uri": "https://localhost:8080/"
        },
        "id": "uzySny0-X5DU",
        "outputId": "a43ce62a-6974-49d0-a1ae-18a379a4d777"
      },
      "outputs": [
        {
          "output_type": "stream",
          "name": "stdout",
          "text": [
            "12\n",
            "240\n"
          ]
        }
      ],
      "source": [
        "import numpy\n",
        "\n",
        "def multiply_words(string):\n",
        "    len_words = []                              \n",
        "    string = string.split()                          #split the string into words\n",
        "    for i in string:                                 #for each word in the string\n",
        "        if i.islower() == True:                      #if each word is in lowercase\n",
        "            len_words.append(len(i))                 #append the length of each word to a list\n",
        "    mult_num = numpy.prod(len_words)                 #multiply all the numbers in the list\n",
        "    print(mult_num)\n",
        "\n",
        "    \n",
        "multiply_words(\"Hate war love Peace\")\n",
        "multiply_words(\"love live and laugh\")\n"
      ],
      "id": "uzySny0-X5DU"
    },
    {
      "cell_type": "markdown",
      "metadata": {
        "id": "Wrp-1Z2TaPoJ"
      },
      "source": [
        "#####**Day 24: Average Calories**\n",
        "\n",
        "Create a function called average_calories that calculates the \n",
        "average calories intake of a user. The function should ask the user \n",
        "to input their calories intake for any number of days and once they \n",
        "hit ‘done’ it should calculate and return the average intake.\n"
      ],
      "id": "Wrp-1Z2TaPoJ"
    },
    {
      "cell_type": "code",
      "execution_count": 57,
      "metadata": {
        "colab": {
          "base_uri": "https://localhost:8080/"
        },
        "id": "ZHo-8Z-LaRsA",
        "outputId": "e1e884da-b513-4326-80c9-42b610bd50d2"
      },
      "outputs": [
        {
          "output_type": "stream",
          "name": "stdout",
          "text": [
            "Input Calories for any number of days: 235\n",
            "No of days: 6\n",
            "Average number of calories for 6 days is 39.166666666666664 calories\n"
          ]
        }
      ],
      "source": [
        "def average_calories():\n",
        "  total_cal = int(input('Input Calories for any number of days: '))\n",
        "  num_days = int(input('No of days: '))\n",
        "  print('Average number of calories for', num_days,'days','is',total_cal/num_days,'calories') \n",
        "\n",
        "average_calories()"
      ],
      "id": "ZHo-8Z-LaRsA"
    },
    {
      "cell_type": "markdown",
      "metadata": {
        "id": "8zKfum2aaSff"
      },
      "source": [
        "#####**Extra Challenge: Create a Nested List**\n",
        "\n",
        "Write a function called nested_lists that takes any number of \n",
        "lists and creates a 2-dimensional nested list of lists. For example,\n",
        "if you pass the following lists as arguments: [1, 2, 3, 5], [1, 2, 3, \n",
        "4], [1, 3, 4, 5].\n",
        "Your code should return: [[1, 2, 3, 5], [1, 2, 3, 4], [1, 3, 4, 5]]"
      ],
      "id": "8zKfum2aaSff"
    },
    {
      "cell_type": "code",
      "execution_count": 58,
      "metadata": {
        "colab": {
          "base_uri": "https://localhost:8080/"
        },
        "id": "E4PrqRI7aWhy",
        "outputId": "2530ccee-479d-450f-b999-6439e0dfe068"
      },
      "outputs": [
        {
          "output_type": "stream",
          "name": "stdout",
          "text": [
            "[[1, 2, 3, 5], [1, 2, 3, 4], [1, 3, 4, 5]]\n"
          ]
        }
      ],
      "source": [
        "def nested_lists(lists_1,lists_2,lists_3):\n",
        "  new_list = [[i for i in lists_1],[i for i in lists_2],[i for i in lists_3] ]\n",
        "\n",
        "  print(new_list)\n",
        "  \n",
        "nested_lists([1, 2, 3, 5], [1, 2, 3, 4], [1, 3, 4, 5])"
      ],
      "id": "E4PrqRI7aWhy"
    },
    {
      "cell_type": "markdown",
      "metadata": {
        "id": "ilm57JjCaXSF"
      },
      "source": [
        "#####**Day 25: All the Same**\n",
        "\n",
        "Create a function called all_the_same that takes one \n",
        "argument, a string, a list, or a tuple and checks if all the \n",
        "elements are the same. If the elements are the same, the function \n",
        "should return True. If not, it should return False. For example, \n",
        "[‘Mary’, ‘Mary’, ‘Mary’] should return True.\n"
      ],
      "id": "ilm57JjCaXSF"
    },
    {
      "cell_type": "code",
      "execution_count": 59,
      "metadata": {
        "colab": {
          "base_uri": "https://localhost:8080/"
        },
        "id": "NkDvhN2TabH_",
        "outputId": "91cc2d8e-ebee-4ae7-9eb4-89086a56e50f"
      },
      "outputs": [
        {
          "output_type": "execute_result",
          "data": {
            "text/plain": [
              "True"
            ]
          },
          "metadata": {},
          "execution_count": 59
        }
      ],
      "source": [
        "def all_the_same(lists):\n",
        "  for i in lists:\n",
        "    if len(set(lists)) == 1:\n",
        "      return True\n",
        "    else:\n",
        "      return False\n",
        "\n",
        "all_the_same(['Mary', 'Mary', 'Mary']) \n",
        "    \n"
      ],
      "id": "NkDvhN2TabH_"
    },
    {
      "cell_type": "markdown",
      "metadata": {
        "id": "E-WTa5-7ab2w"
      },
      "source": [
        "#####**Extra Challenge: Reverse a String**\n",
        "\n",
        "str1 = \"the love is real\"\n",
        "\n",
        "Write a function called read_backwards that takes a string as \n",
        "an argument and reverses it. For example, the string above \n",
        "should return: \"real is love the\""
      ],
      "id": "E-WTa5-7ab2w"
    },
    {
      "cell_type": "code",
      "execution_count": 60,
      "metadata": {
        "colab": {
          "base_uri": "https://localhost:8080/"
        },
        "id": "s7KOEOZhafS_",
        "outputId": "d3d9a000-1494-444a-9599-a0671ad4438e"
      },
      "outputs": [
        {
          "output_type": "stream",
          "name": "stdout",
          "text": [
            "Old String-  the love is real\n",
            "New string-  real is love the\n"
          ]
        }
      ],
      "source": [
        "def read_backwards(string):\n",
        "  string = string.split()\n",
        "  print('Old String- ',' '.join(string))\n",
        "  string = string[::-1]\n",
        "  \n",
        "  print('New string- ',' '.join(string))\n",
        "\n",
        "read_backwards('the love is real')\n"
      ],
      "id": "s7KOEOZhafS_"
    },
    {
      "cell_type": "markdown",
      "metadata": {
        "id": "OGhPfFhSmmFB"
      },
      "source": [
        "#####**Day 26: Sort Words**\n",
        "\n",
        "Write a function called sort_words that takes a string of words \n",
        "as an argument, removes the whitespaces, and returns a list of \n",
        "letters sorted in alphabetical order. Letters will be separated by \n",
        "commas. All letters should appear once in the list. This means \n",
        "that you sort and remove duplicates. For example ‘love life’\n",
        "should return as ['e,f,i,l,o,v'].\n"
      ],
      "id": "OGhPfFhSmmFB"
    },
    {
      "cell_type": "code",
      "execution_count": 61,
      "metadata": {
        "colab": {
          "base_uri": "https://localhost:8080/"
        },
        "id": "sIiaW873mpwu",
        "outputId": "cfd15539-1f77-47f3-80b6-876812d0a459"
      },
      "outputs": [
        {
          "output_type": "execute_result",
          "data": {
            "text/plain": [
              "{'e', 'f', 'i', 'l', 'o', 'v'}"
            ]
          },
          "metadata": {},
          "execution_count": 61
        }
      ],
      "source": [
        "def sort_words(string):\n",
        "  string = string.replace(\" \", \"\")\n",
        "  \n",
        "  return (set(string))\n",
        "sort_words('love life')  "
      ],
      "id": "sIiaW873mpwu"
    },
    {
      "cell_type": "markdown",
      "metadata": {
        "id": "1bvQ8yqEmv4E"
      },
      "source": [
        "#####**Extra Challenge: Length of Words**\n",
        "\n",
        "s = 'Hi my name is Richard'\n",
        "\n",
        "Write a function called string_length that takes a string of \n",
        "words (words and spaces) as argument. This function should \n",
        "return the length of all the words in the string. Return the results \n",
        "in a form of a dictionary. The string above should return:\n",
        "{'Hi': 2, 'my': 2, 'name': 4, 'is': 2, 'Richard': 7}"
      ],
      "id": "1bvQ8yqEmv4E"
    },
    {
      "cell_type": "code",
      "execution_count": 62,
      "metadata": {
        "colab": {
          "base_uri": "https://localhost:8080/"
        },
        "id": "Chb7iwHvm2R-",
        "outputId": "4ea0b989-8467-4a62-a603-4dc92d00febc"
      },
      "outputs": [
        {
          "output_type": "stream",
          "name": "stdout",
          "text": [
            "{'Hi': 2, 'my': 2, 'name': 4, 'is': 2, 'Richard': 7}\n"
          ]
        }
      ],
      "source": [
        "def string_length(string):\n",
        "  dictionary = {}                        #create an empty dictionary\n",
        "  string = string.split()                #split the string into words\n",
        "  for i in string:                       #for each word in the string,\n",
        "    dictionary[i] = len(i)               #create key for each word.....\n",
        "  print (dictionary)\n",
        "\n",
        "string_length('Hi my name is Richard') "
      ],
      "id": "Chb7iwHvm2R-"
    },
    {
      "cell_type": "markdown",
      "metadata": {
        "id": "ULw6LdTV9fC3"
      },
      "source": [
        "##### **Day 27: Unique Numbers**\n",
        "\n",
        "Write a function called unique_numbers that takes a list of \n",
        "numbers as an argument. Your function is going to find all the \n",
        "unique numbers in the list. It will then sum up the unique \n",
        "numbers. You will calculate the difference between the sum of \n",
        "all the numbers in the original list and the sum of unique \n",
        "numbers in the list. If the difference is an even number, your \n",
        "function should return the original list. If the difference is an \n",
        "odd number, your function should return a list with unique \n",
        "numbers only. For example [1, 2, 4, 5, 6, 7, 8, 8] should \n",
        "return [1, 2, 4, 5, 6, 7, 8, 8]."
      ],
      "id": "ULw6LdTV9fC3"
    },
    {
      "cell_type": "code",
      "execution_count": 63,
      "metadata": {
        "colab": {
          "base_uri": "https://localhost:8080/"
        },
        "id": "QxrK4Wyl9jtV",
        "outputId": "7dd0ac14-bcb9-4929-d24d-593e5eaf483c"
      },
      "outputs": [
        {
          "output_type": "execute_result",
          "data": {
            "text/plain": [
              "[1, 2, 4, 5, 6, 7, 8, 8]"
            ]
          },
          "metadata": {},
          "execution_count": 63
        }
      ],
      "source": [
        "def unique_numbers(lists):\n",
        "  uniq_list = set(lists)\n",
        "  diff = sum(lists) - sum(uniq_list)\n",
        "  if diff % 2 == 0:\n",
        "    return lists\n",
        "    if diff % 2 != 0:\n",
        "      return uniq_list\n",
        "unique_numbers([1, 2, 4, 5, 6, 7, 8,8])"
      ],
      "id": "QxrK4Wyl9jtV"
    },
    {
      "cell_type": "markdown",
      "metadata": {
        "id": "PY7BO65x9zLd"
      },
      "source": [
        "##### **Extra Challenge: Difference of Two Lists**\n",
        "\n",
        "Write a function called difference that takes two lists as \n",
        "arguments. This function should return all the elements that are \n",
        "in list a but not in list b and all the elements in list b not in list \n",
        "a. For example:\n",
        "list1 = [1, 2, 4, 5, 6]\n",
        "list2 = [1, 2, 5, 7, 9]\n",
        "should return:\n",
        "[4, 6, 7, 9]\n",
        "Use list comprehension in your function."
      ],
      "id": "PY7BO65x9zLd"
    },
    {
      "cell_type": "code",
      "execution_count": 64,
      "metadata": {
        "colab": {
          "base_uri": "https://localhost:8080/"
        },
        "id": "VZlkyA_T94T2",
        "outputId": "4411bc9e-9719-44cd-8e23-598d7b60e281"
      },
      "outputs": [
        {
          "output_type": "execute_result",
          "data": {
            "text/plain": [
              "[4, 6, 7, 9]"
            ]
          },
          "metadata": {},
          "execution_count": 64
        }
      ],
      "source": [
        "def difference(list_1,list_2):\n",
        "  new_list =[i for i in list_1 if i not in list_2] + [i for i in list_2 if i not in list_1 ]\n",
        "  return new_list\n",
        "\n",
        "difference([1, 2, 4, 5, 6],[1, 2, 5, 7, 9])\n"
      ],
      "id": "VZlkyA_T94T2"
    },
    {
      "cell_type": "markdown",
      "metadata": {
        "id": "N0G4ByzLHQFH"
      },
      "source": [
        "##### **Day 28: Return Indexes**\n",
        "\n",
        "Write a function called index_position. This function takes a \n",
        "string as a parameter and returns the positions or indexes of all \n",
        "lower letters in the string. For example, ‘LovE’ should return \n",
        "[1,2].\n"
      ],
      "id": "N0G4ByzLHQFH"
    },
    {
      "cell_type": "code",
      "execution_count": 65,
      "metadata": {
        "colab": {
          "base_uri": "https://localhost:8080/"
        },
        "id": "HRCGwq26E2L1",
        "outputId": "55775856-16ce-4b55-9bc8-922f4b097fbf"
      },
      "outputs": [
        {
          "output_type": "stream",
          "name": "stdout",
          "text": [
            "[1, 2]\n"
          ]
        }
      ],
      "source": [
        "def index_position(string):\n",
        "  index = []\n",
        "  for i in string:\n",
        "    if i.islower() == True:\n",
        "      index.append(string.index(i))\n",
        "  print(index)\n",
        "    \n",
        "index_position('LovE')\n"
      ],
      "id": "HRCGwq26E2L1"
    },
    {
      "cell_type": "markdown",
      "metadata": {
        "id": "LMaMJnTyHZnu"
      },
      "source": [
        "##### **Extra Challenge: Largest Number**\n",
        "\n",
        "Write a function called largest_number that takes a list of \n",
        "integers and re-arrange the individual digits to create the largest \n",
        "number possible. For example, if you pass the following as an \n",
        "argument: list1 = [3, 67, 87, 9, 2]. Your code should return the \n",
        "number in this exact format: 9,877,632 as the largest number."
      ],
      "id": "LMaMJnTyHZnu"
    },
    {
      "cell_type": "code",
      "execution_count": 66,
      "metadata": {
        "colab": {
          "base_uri": "https://localhost:8080/"
        },
        "id": "XYLQ6dPgaWl3",
        "outputId": "effa0d26-bda0-4487-a39e-f1d4dc56117e"
      },
      "outputs": [
        {
          "output_type": "stream",
          "name": "stdout",
          "text": [
            "Joined_list- 3678792\n",
            "List- ['3', '6', '7', '8', '7', '9', '2']\n",
            "Sorted_list- ['9', '8', '7', '7', '6', '3', '2']\n",
            "Integer - 9877632\n",
            "Largest No-  9,877,632\n"
          ]
        }
      ],
      "source": [
        "def largest_number(lists):\n",
        "\n",
        "  #joined the numbers together to form a single unit  of numbers\n",
        "  joined_list = ''.join(str(i) for i in lists)\n",
        "\n",
        "  #Converted the number to a list                \n",
        "  lists = list(joined_list)\n",
        "\n",
        "  #Rearranged the number from the maximum to the minimum\n",
        "  sorted_list = sorted(joined_list, reverse = True)\n",
        "\n",
        "  #converted each number to a string, joined them and converted to an integer\n",
        "  integer = int(''.join(str(i) for i in sorted_list))\n",
        "\n",
        "  #added the commas\n",
        "  largest_no = (f\"{integer:,}\")  \n",
        "\n",
        "  print('Joined_list-',joined_list)\n",
        "  print('List-',lists)\n",
        "  print('Sorted_list-', sorted_list)\n",
        "  print('Integer -', integer)\n",
        "  print('Largest No- ',largest_no)\n",
        "largest_number([3,67,87,9,2])"
      ],
      "id": "XYLQ6dPgaWl3"
    },
    {
      "cell_type": "markdown",
      "metadata": {
        "id": "ZS3WJFhnTD-X"
      },
      "source": [
        "##### **Day 29: Middle Figure**\n",
        "\n",
        "Write a function called middle_figure that takes two \n",
        "parameters a, and b. The two parameters are strings. The \n",
        "function joins the two strings and finds the middle element. \n",
        "If the combined string has a middle element, the function should \n",
        "return the element, otherwise, return ‘no middle figure’. Use\n",
        "‘make love’ as an argument for a and ‘not wars’ as an \n",
        "argument for b. Your function should return ‘e’ as the middle \n",
        "element. Whitespaces should be removed."
      ],
      "id": "ZS3WJFhnTD-X"
    },
    {
      "cell_type": "code",
      "execution_count": 67,
      "metadata": {
        "colab": {
          "base_uri": "https://localhost:8080/"
        },
        "id": "SBlgg2Y5TbKH",
        "outputId": "dbddf24b-7809-462a-81b1-900f18b5616d"
      },
      "outputs": [
        {
          "output_type": "stream",
          "name": "stdout",
          "text": [
            "e\n"
          ]
        }
      ],
      "source": [
        "def middle_figure(str_1,str_2):\n",
        "\n",
        "  str_1 = str_1.replace(' ','')\n",
        "  str_2 = str_2.replace(' ','')\n",
        "  new_string = str_1 + str_2\n",
        "\n",
        "  if len(new_string) % 2 != 0:\n",
        "    pos = (len(new_string)//2) \n",
        "    print(new_string[pos])\n",
        "\n",
        "  else:\n",
        "    print('No middle figure')\n",
        "\n",
        "middle_figure('make love', 'not wars')"
      ],
      "id": "SBlgg2Y5TbKH"
    },
    {
      "cell_type": "code",
      "execution_count": 68,
      "metadata": {
        "colab": {
          "base_uri": "https://localhost:8080/"
        },
        "id": "bL5qwHj9BaQp",
        "outputId": "48eb32f0-7f02-47e0-ac23-9431c92dcec3"
      },
      "outputs": [
        {
          "output_type": "stream",
          "name": "stdout",
          "text": [
            "No middle figure\n"
          ]
        }
      ],
      "source": [
        "middle_figure('make love', 'not war')"
      ],
      "id": "bL5qwHj9BaQp"
    },
    {
      "cell_type": "markdown",
      "metadata": {
        "id": "Fjrf2AjZTIXU"
      },
      "source": [
        "##### **Day 30: Most Repeated Name**\n",
        "\n",
        "Write a function called repeated_name that finds the most \n",
        "repeated name in the following list.\n",
        "name = [\"John\", \"Peter\", \"John\", \"Peter\", \"Jones\", \"Peter\"]\n",
        " \n"
      ],
      "id": "Fjrf2AjZTIXU"
    },
    {
      "cell_type": "code",
      "execution_count": 69,
      "metadata": {
        "colab": {
          "base_uri": "https://localhost:8080/"
        },
        "id": "tiL0J8UIFaVY",
        "outputId": "d8182fd8-8287-4427-b01a-a781284a18b7"
      },
      "outputs": [
        {
          "output_type": "stream",
          "name": "stdout",
          "text": [
            "{'John': 2, 'Peter': 3, 'Jones': 1}\n",
            "The most repeated name is:  Peter\n"
          ]
        }
      ],
      "source": [
        "def repeated_name(lists):\n",
        "  dictionary = {}\n",
        "  for i in lists:\n",
        "    dictionary[i] = lists.count(i)\n",
        "  print (dictionary)\n",
        "  print ('The most repeated name is: ',max(dictionary))\n",
        "\n",
        "repeated_name( [\"John\", \"Peter\", \"John\", \"Peter\", \"Jones\", \"Peter\"])"
      ],
      "id": "tiL0J8UIFaVY"
    },
    {
      "cell_type": "markdown",
      "metadata": {
        "id": "mUbD4eHtThu7"
      },
      "source": [
        "##### **Extra Challenge: Sort by Last Name**\n",
        "\n",
        "You work for a local school in your area. The school has a list of \n",
        "names of students saved in a list. The school has asked you to \n",
        "write a program that takes a list of names and sorts them\n",
        "alphabetically. The names should be sorted by last names. Here \n",
        "is a list of names:\n",
        "[‘Beyonce Knowles, ‘Alicia Keys’, ‘Katie Perry’, ‘Chris \n",
        "Brown’,’ Tom Cruise’]\n",
        "Your code should not just sort them alphabetically, but it should \n",
        "also switch the names (the last name must be the first). Here is \n",
        "how your code output should look:\n",
        "['Brown Chris', 'Cruise Tom', 'Keys Alicia', 'Perry Katie', \n",
        "'Knowles Beyonce']\n",
        "Write a function called sorted_names."
      ],
      "id": "mUbD4eHtThu7"
    },
    {
      "cell_type": "code",
      "execution_count": 70,
      "metadata": {
        "colab": {
          "base_uri": "https://localhost:8080/"
        },
        "id": "3Gi9nhJtTF59",
        "outputId": "a19ea14a-26df-4779-858b-669678093621"
      },
      "outputs": [
        {
          "output_type": "stream",
          "name": "stdout",
          "text": [
            "Old List- [['Beyonce', 'Knowles'], ['Alicia', 'Keys'], ['Katie', 'Perry'], ['Chris', 'Brown'], ['Tom', 'Cruise']]\n",
            "New List- ['Knowles Beyonce', 'Keys Alicia', 'Perry Katie', 'Brown Chris', 'Cruise Tom']\n"
          ]
        }
      ],
      "source": [
        "def sorted_names(lists):\n",
        "\n",
        "  split_names = [i.split() for i in lists]\n",
        "  print('Old List-',split_names)\n",
        "\n",
        "  new_names = []\n",
        "  for i in split_names:\n",
        "    first_name = i[0]\n",
        "    last_name = i[1]\n",
        "    \n",
        "    new_names.append( ' '.join([last_name,first_name]))\n",
        "  print('New List-',new_names)\n",
        "\n",
        "sorted_names(['Beyonce Knowles', 'Alicia Keys', 'Katie Perry', 'Chris Brown','Tom Cruise'] )\n"
      ],
      "id": "3Gi9nhJtTF59"
    },
    {
      "cell_type": "markdown",
      "metadata": {
        "id": "wv7HVC-BJq4E"
      },
      "source": [
        "##### **Day 31: Longest Word**\n",
        "Write a function that has one parameter and takes a list of words \n",
        "as an argument. The function returns the longest word from the \n",
        "list. Name the function longest_word. The function should \n",
        "return the longest word and the number of letters in that word. \n",
        "For example, if you pass [‘Java, ‘JavaScript’, ‘Python’], your \n",
        "function should return \n",
        "[10, JavaScript] as the longest word."
      ],
      "id": "wv7HVC-BJq4E"
    },
    {
      "cell_type": "code",
      "execution_count": 71,
      "metadata": {
        "colab": {
          "base_uri": "https://localhost:8080/"
        },
        "id": "IEmN8JaXJtfe",
        "outputId": "cb4f12f8-b6e4-4049-d1ed-820896224943"
      },
      "outputs": [
        {
          "output_type": "stream",
          "name": "stdout",
          "text": [
            "{'Java': 4, 'JavaScript': 10, 'Python': 6}\n",
            "[10, 'JavaScript']\n"
          ]
        }
      ],
      "source": [
        "def longest_word(lists):\n",
        "  dictionary = {}\n",
        "  for i in lists:\n",
        "    dictionary[i] = len(i)\n",
        "    max_value = max(dictionary, key=dictionary.get)\n",
        "  print(dictionary)\n",
        "  print([len(max_value),max_value])\n",
        "  \n",
        "longest_word(['Java', 'JavaScript', 'Python'])"
      ],
      "id": "IEmN8JaXJtfe"
    },
    {
      "cell_type": "markdown",
      "metadata": {
        "id": "IlSwH6kzJuZg"
      },
      "source": [
        "##### **Extra Challenge: Create User**\n",
        "Write a function called create_user. This function asks the \n",
        "user to enter their name, age, and password. The function \n",
        "saves this information in a dictionary. For example, if the use \n",
        "enters name as Peter, age - 18 and password - love. The \n",
        "function should save the information as: {'name': 'Peter', \n",
        "'age': 18, 'password': 'love'}\n",
        "Once the information is saved. The function should print to the \n",
        "user that - \"User saved. Please login\"\n",
        "The function should then ask the user to re-enter their name \n",
        "and password. If the name and password match with what is \n",
        "saved in the dictionary, the function should return \"Logged in \n",
        "successfully\". If the name and password do not match with \n",
        "what is saved in the dictionary, the function should print\n",
        "('Wrong password or user name. Please try again'. The \n",
        "function should keep running until the user enters correct \n",
        "logging details."
      ],
      "id": "IlSwH6kzJuZg"
    },
    {
      "cell_type": "code",
      "execution_count": 72,
      "metadata": {
        "colab": {
          "base_uri": "https://localhost:8080/"
        },
        "id": "GE3Ta2A6J3LS",
        "outputId": "4ff9915c-1a33-472e-d9f9-66d0b1238709"
      },
      "outputs": [
        {
          "output_type": "stream",
          "name": "stdout",
          "text": [
            "Enter your name- Bello\n",
            "Enter your age- 35\n",
            "Enter your password- Bello345\n",
            "{'Name': 'Bello', 'Age': '35', 'Password': 'Bello345'}\n",
            "User saved. Please login\n",
            "\n",
            "Enter your name- Bello\n",
            "Enter your password- Bello345\n",
            "Logged in successfully\n"
          ]
        }
      ],
      "source": [
        "def create_user():\n",
        "  dictionary = {}\n",
        "  name = input('Enter your name- ')\n",
        "  age = input('Enter your age- ')\n",
        "  password = input('Enter your password- ')\n",
        "\n",
        "  dictionary['Name'] = name\n",
        "  dictionary['Age'] = age\n",
        "  dictionary['Password'] = password\n",
        "  print(dictionary)\n",
        "  print(\"User saved. Please login\" '\\n')\n",
        "\n",
        "  s_name = input('Enter your name- ')\n",
        "  s_password = input('Enter your password- ')\n",
        "  if dictionary['Name'] == s_name and dictionary['Password'] == s_password: \n",
        "    print('Logged in successfully')\n",
        "  else:\n",
        "    print('Wrong password or user name. Please try again')\n",
        "  \n",
        "\n",
        "create_user()"
      ],
      "id": "GE3Ta2A6J3LS"
    },
    {
      "cell_type": "markdown",
      "metadata": {
        "id": "3vG_IKfGJ4Qr"
      },
      "source": [
        "##### **Day 32: Password Validator**\n",
        "Write a function called password_validator. The function \n",
        "asks the user to enter a password. A valid password should have \n",
        "at least one upper letter, one lower letter, and one \n",
        "number. It should not be less than 8 characters long. When \n",
        "the user enters a password, the function should check if the \n",
        "password is valid. If the password is valid, the function should \n",
        "return the valid password. If the password is not valid, the \n",
        "function should tell the users the errors in the password and \n",
        "prompt the user to enter another password. The code should \n",
        "only stop once the user enters a valid password. (use while loop)."
      ],
      "id": "3vG_IKfGJ4Qr"
    },
    {
      "cell_type": "code",
      "execution_count": 73,
      "metadata": {
        "colab": {
          "base_uri": "https://localhost:8080/"
        },
        "id": "kFwlPkmBJ9iq",
        "outputId": "69608ed6-a283-46f2-c3a5-933eac85084b"
      },
      "outputs": [
        {
          "output_type": "stream",
          "name": "stdout",
          "text": [
            "\n",
            "  Enter a password- \n",
            "\n",
            "  It should be at least 8 characters long,\n",
            "  have at least one uppercase letter, \n",
            "  one lowercase letter, \n",
            "  and one number. \n",
            "  Bello3456\n",
            "Valid password\n"
          ]
        }
      ],
      "source": [
        "def password_validator():\n",
        "  password = input('''\n",
        "  Enter a password- \n",
        "\n",
        "  It should be at least 8 characters long,\n",
        "  have at least one uppercase letter, \n",
        "  one lowercase letter, \n",
        "  and one number. \n",
        "  ''')\n",
        "  \n",
        "  upper_case = 0\n",
        "  lower_case = 0\n",
        "  number = 0\n",
        "  if len(password)>= 8:\n",
        "    for i in password:\n",
        "      if i.isupper() == True:\n",
        "        upper_case+=1\n",
        "\n",
        "      if i.islower() == True:\n",
        "        lower_case+=1\n",
        "\n",
        "      if i.isnumeric() == True:\n",
        "        number+=1\n",
        "\n",
        "  if upper_case >=1 and lower_case >=1 and number >= 1:\n",
        "    print('Valid password')\n",
        "  else:\n",
        "    print('Invalid password')\n",
        "\n",
        "password_validator()"
      ],
      "id": "kFwlPkmBJ9iq"
    },
    {
      "cell_type": "markdown",
      "metadata": {
        "id": "PDbIb-wUJ-MH"
      },
      "source": [
        "##### **Extra Challenge: Valid Email**\n",
        "emails = ['ben@mail.com', 'john@mail.cm', 'kenny@gmail.com', '@list.com' ]\n",
        "\n",
        "Write a function called email_validator that takes a list of \n",
        "emails and checks if the emails are valid. The function returns a \n",
        "list of only valid emails. A valid email address will have the\n",
        "following - @ symbol (if the @ sign is at the beginning of the \n",
        "name, the email is invalid. If there are more than one @signs, \n",
        "the email is invalid. All valid emails must have a dot com at the \n",
        "end (.com), if not, the email is invalid. For example, the list of \n",
        "emails above should output the following as valid emails:\n",
        "['ben@mail.com', 'kenny@gmail.com']\n",
        "If no emails in the list are valid, the function should return ‘all emails are \n",
        "invalid’"
      ],
      "id": "PDbIb-wUJ-MH"
    },
    {
      "cell_type": "code",
      "execution_count": 74,
      "metadata": {
        "colab": {
          "base_uri": "https://localhost:8080/"
        },
        "id": "WjgrWJtsbS9S",
        "outputId": "3b95bf38-a0cf-40f3-ae65-da944876fcd2"
      },
      "outputs": [
        {
          "output_type": "stream",
          "name": "stdout",
          "text": [
            "['ben@mail.com', 'kenny@gmail.com']\n"
          ]
        }
      ],
      "source": [
        "import re\n",
        " \n",
        "def check(emails):\n",
        "\n",
        "    #create a format for my emails \n",
        "    format = r'\\b[A-Za-z0-9._%+-]+@[gmail]+\\.[A-Z|a-z]{3}\\b'\n",
        "\n",
        "\n",
        "    valid_emails = []\n",
        "    for i in emails:\n",
        "      if re.match(format,i):\n",
        "        valid_emails.append(i)\n",
        "    if len(valid_emails) != 0:\n",
        "      print(valid_emails)\n",
        "    else:\n",
        "      print('All emails are invalid')\n",
        "\n",
        "\n",
        "check(['ben@mail.com', 'john@mail.cm', 'kenny@gmail.com', '@list.com' ])"
      ],
      "id": "WjgrWJtsbS9S"
    },
    {
      "cell_type": "markdown",
      "metadata": {
        "id": "5OU-jEBXAtnj"
      },
      "source": [
        "##### **Day 33: List Intersection**\n",
        "Write a function called inter_section that takes two lists and \n",
        "finds the intersection (the elements that are present in both \n",
        "lists). The function should return a tuple of intersections. Use \n",
        "list comprehension in your solution. Use the lists below. Your \n",
        "function should return (30, 65, 80).\n",
        "list1 = [20, 30, 60, 65, 75, 80, 85]\n",
        "list2 = [ 42, 30, 80, 65, 68, 88, 95]"
      ],
      "id": "5OU-jEBXAtnj"
    },
    {
      "cell_type": "code",
      "execution_count": 75,
      "metadata": {
        "colab": {
          "base_uri": "https://localhost:8080/"
        },
        "id": "3_JBH04LAyjq",
        "outputId": "bb86991f-5632-4b99-d80a-6d505f988e89"
      },
      "outputs": [
        {
          "output_type": "stream",
          "name": "stdout",
          "text": [
            "(30, 80, 65)\n"
          ]
        }
      ],
      "source": [
        "def inter_section(lists_1,lists_2):\n",
        "  tuple_list = [i for i in lists_1 and lists_2 if i in lists_1 and lists_2]\n",
        "  \n",
        "  print(tuple(tuple_list))\n",
        "inter_section([20, 30, 60, 65, 75, 80, 85],[ 42, 30, 80, 65, 68, 88, 95])\n"
      ],
      "id": "3_JBH04LAyjq"
    },
    {
      "cell_type": "markdown",
      "metadata": {
        "id": "9ya5PntGAzZt"
      },
      "source": [
        "##### **Extra Challenge: Set or list**\n",
        "You want to implement a code that will search for a number in \n",
        "a range. You have a decision to make as to whether to store the \n",
        "number in a set or a list. Your decision will be based on time. \n",
        "You have to pick a data type that executes faster.\n",
        "You have a range and you can either store it in a set or a list\n",
        "depending on which one executes faster when you are searching \n",
        "for a number in the range. See below:\n",
        "a = range(10000000)\n",
        "x = set(a)\n",
        "y = list(a)\n",
        "Let’s say you are looking for a number 9999999 in the range \n",
        "above. Search for this number in the list and the set. Your \n",
        "challenge is to find which code executes faster. You will pick the \n",
        "one that executes quicker, lists, or sets. Run the two searches \n",
        "and time them"
      ],
      "id": "9ya5PntGAzZt"
    },
    {
      "cell_type": "code",
      "execution_count": 76,
      "metadata": {
        "colab": {
          "base_uri": "https://localhost:8080/"
        },
        "id": "_GsrvM8FA_k3",
        "outputId": "8d7553e3-db7b-4341-92ca-d319c47e33fd"
      },
      "outputs": [
        {
          "output_type": "stream",
          "name": "stdout",
          "text": [
            "Enter a number : 99999\n",
            "x takes 1.0122103691101074 seconds to run\n",
            "y takes 0.3918936252593994 seconds to run\n",
            "Lists run faster than sets\n"
          ]
        }
      ],
      "source": [
        "import time\n",
        "\n",
        "number = int(input('Enter a number : '))\n",
        "a = range(10000000)\n",
        "\n",
        "start_time = time.time()\n",
        "if number in a:\n",
        "  x = set(a) \n",
        "end_time = time.time()\n",
        "x_duration = (end_time - start_time)\n",
        "print('x takes',x_duration,'seconds to run') \n",
        "\n",
        "start_time = time.time()\n",
        "if number in a:\n",
        "  y = list(a) \n",
        "end_time = time.time()\n",
        "y_duration = (end_time - start_time)\n",
        "print('y takes',y_duration,'seconds to run') \n",
        "\n",
        "if x_duration > y_duration:\n",
        "  print('Lists run faster than sets')\n",
        "else:\n",
        "  print('Sets run faster than lists')"
      ],
      "id": "_GsrvM8FA_k3"
    },
    {
      "cell_type": "markdown",
      "metadata": {
        "id": "dc6AtZh_BM3d"
      },
      "source": [
        "##### **Day 34: Just Digits**\n",
        "In this challenge, copy the text below and save it as a CSV file. \n",
        "Save it in the same folder as your Python file. Save it as \n",
        "python.csv.\n",
        "Write a function called just_digits that reads the text from the \n",
        "CSV file and returns only digit elements from the file. Your \n",
        "function should return 1991, 2, 200, 3, 2008 as a list of \n",
        "strings.\n",
        "\n",
        "\n",
        "“Python was released in 1991 for the first time. Python 2 was \n",
        "released in 2000 and introduced new features, such as list \n",
        "comprehensions and a cycle-detecting garbage collection system \n",
        "(in addition to reference counting). Python 3 was released in 2008 \n",
        "and was a major revision of the language that is not \n",
        "completely backward-compatible.”\n",
        "Source: Wikipedia"
      ],
      "id": "dc6AtZh_BM3d"
    },
    {
      "cell_type": "code",
      "execution_count": 78,
      "metadata": {
        "colab": {
          "base_uri": "https://localhost:8080/"
        },
        "id": "waAA0IppV2iW",
        "outputId": "ba807a75-1147-4c30-90be-8a6cf72f1cd3"
      },
      "outputs": [
        {
          "output_type": "stream",
          "name": "stdout",
          "text": [
            "['1991', '2', '2000', '3', '2008']\n"
          ]
        }
      ],
      "source": [
        "import pandas as pd\n",
        "import re\n",
        "\n",
        "def just_digits():\n",
        "  text = pd.read_csv('python.csv')\n",
        "  text = str(text)\n",
        "  print(re.findall(r'\\d+', text))\n",
        "just_digits()"
      ],
      "id": "waAA0IppV2iW"
    },
    {
      "cell_type": "markdown",
      "metadata": {
        "id": "I8WTCDjpO2-H"
      },
      "source": [
        "##### **Day 35: Pangram**\n",
        "Write a function called check_pangram that takes a string \n",
        "and checks if it is a pangram. A pangram is a sentence that \n",
        "contains all the letters of the alphabet. If it is a pangram, \n",
        "the function should return True, otherwise, return False. The \n",
        "following sentence is a pangram so it should return True:\n",
        "'the quick brown fox jumps over a lazy dog'"
      ],
      "id": "I8WTCDjpO2-H"
    },
    {
      "cell_type": "code",
      "execution_count": 80,
      "metadata": {
        "colab": {
          "base_uri": "https://localhost:8080/"
        },
        "id": "72AkwMJPO5CT",
        "outputId": "260d11ee-4ce4-4a16-b4a5-b4e451d2a7c8"
      },
      "outputs": [
        {
          "output_type": "stream",
          "name": "stdout",
          "text": [
            "True\n"
          ]
        }
      ],
      "source": [
        "def check_pangram(string):\n",
        "  \n",
        "  string = set(string)\n",
        "  if len(string) > 26:\n",
        "    print(True)\n",
        "\n",
        "  else:\n",
        "    print(False)\n",
        "\n",
        "check_pangram('the quick brown fox jumps over a lazy dog')\n"
      ],
      "id": "72AkwMJPO5CT"
    },
    {
      "cell_type": "markdown",
      "metadata": {
        "id": "iFP0WXS3O8tK"
      },
      "source": [
        "#####**Extra Challenge: Find my Position**\n",
        "Write a function called find_index that takes two arguments; \n",
        "a list of integers, and an integer. The function should return the \n",
        "indexes of the integer in the list. If the integer is not in the list, \n",
        "the function should convert all the numbers in the list into the \n",
        "given integer. \n",
        "For example, if the list is: [1, 2, 4, 6, 7, 7] and the integer is 7, \n",
        "your code should return [4, 5] as the indexes of 7 in the list. If \n",
        "the list is [1, 2, 4, 6, 7, 7] and the integer is 8, your code should \n",
        "return [8, 8, 8, 8, 8, 8] because 8 is not in the list."
      ],
      "id": "iFP0WXS3O8tK"
    },
    {
      "cell_type": "code",
      "source": [
        "def find_index(lists_1,num):\n",
        "\n",
        "  if num in lists_1:\n",
        "    index = [i for i, e in enumerate(lists_1) if e == num]\n",
        "    print(index)\n",
        "  else:\n",
        "    print([num for i in lists_1 if num not in lists_1])\n",
        "find_index([1, 2, 4, 6, 7, 7],7)\n",
        "find_index([1, 2, 4, 6, 7, 7],8)"
      ],
      "metadata": {
        "colab": {
          "base_uri": "https://localhost:8080/"
        },
        "id": "ZonvU7ue77Cp",
        "outputId": "916151a0-3e04-4ba9-d9ee-cd5b85d77daf"
      },
      "id": "ZonvU7ue77Cp",
      "execution_count": 81,
      "outputs": [
        {
          "output_type": "stream",
          "name": "stdout",
          "text": [
            "[4, 5]\n",
            "[8, 8, 8, 8, 8, 8]\n"
          ]
        }
      ]
    },
    {
      "cell_type": "markdown",
      "metadata": {
        "id": "sG6TtQ9BPTDe"
      },
      "source": [
        "#####**Day 36: Count String**\n",
        "Write a function called count that takes one argument a string,*italicised text*\n",
        "and returns a dictionary of how many times each element \n",
        "appears in the string. For example, ‘hello’ should return:\n",
        "{‘h’:1,’e’: 1,’l’:2, ‘o’:1}."
      ],
      "id": "sG6TtQ9BPTDe"
    },
    {
      "cell_type": "code",
      "execution_count": 82,
      "metadata": {
        "colab": {
          "base_uri": "https://localhost:8080/"
        },
        "id": "tBF4zdtEPWL8",
        "outputId": "cbc10a21-4729-4fff-e457-87e022377296"
      },
      "outputs": [
        {
          "output_type": "stream",
          "name": "stdout",
          "text": [
            "{'h': 1, 'e': 1, 'l': 2, 'o': 1}\n"
          ]
        }
      ],
      "source": [
        "def count(string):\n",
        "  dictionary ={}\n",
        "  for i in string:\n",
        "    dictionary[i] = string.count(i)\n",
        "  print(dictionary)\n",
        "count('hello')\n"
      ],
      "id": "tBF4zdtEPWL8"
    },
    {
      "cell_type": "markdown",
      "metadata": {
        "id": "E8pyKkEbjQJx"
      },
      "source": [
        "##### **Day 37: Count the Vowels**\n",
        "Create a function called count_the_vowels. The function \n",
        "takes one argument, a string, and returns the number of vowels\n",
        "in the string. For example, ‘hello’ should return 2 vowels. If a \n",
        "vowel appears in a string more than once it should be counted \n",
        "as one. For example, ‘saas’ should return 1 vowel. Your code \n",
        "should count lowercase and uppercase vowels."
      ],
      "id": "E8pyKkEbjQJx"
    },
    {
      "cell_type": "code",
      "source": [
        "def count_the_vowels(string):\n",
        "  vowels = ('a','A','I','i','E','e','O','o','U','u')  \n",
        "  vowel_list =[i for i in set(string) if i in vowels]\n",
        "  print(vowel_list)\n",
        "\n",
        "count_the_vowels('hello')\n",
        "count_the_vowels('saas')"
      ],
      "metadata": {
        "colab": {
          "base_uri": "https://localhost:8080/"
        },
        "id": "FSUSu9bKrtSu",
        "outputId": "8368c4d4-7a81-4b74-f039-53bd86107476"
      },
      "id": "FSUSu9bKrtSu",
      "execution_count": 83,
      "outputs": [
        {
          "output_type": "stream",
          "name": "stdout",
          "text": [
            "['e', 'o']\n",
            "['a']\n"
          ]
        }
      ]
    },
    {
      "cell_type": "markdown",
      "metadata": {
        "id": "pqvMn3hYcc_-"
      },
      "source": [
        "#####**Day 38: Guess a Number**\n",
        "\n",
        "Write a function called guess_a_number. The function \n",
        "should ask a user to guess a randomly generated number. If the \n",
        "user guesses a higher number, the code should tell them that the \n",
        "guess is too high, if the user guesses low, the code should tell \n",
        "them that their guess is too low. The user should get a maximum \n",
        "of three guesses. When the user guesses right, the code should \n",
        "declare them a winner. After three wrong guesses, the code \n",
        "should declare them a loser.\n"
      ],
      "id": "pqvMn3hYcc_-"
    },
    {
      "cell_type": "code",
      "execution_count": 84,
      "metadata": {
        "colab": {
          "base_uri": "https://localhost:8080/"
        },
        "id": "VQqqHRTgDhAV",
        "outputId": "b0782af5-4b09-42c5-f51f-b2feeae891d1"
      },
      "outputs": [
        {
          "output_type": "stream",
          "name": "stdout",
          "text": [
            "Guess a randomly generated number between 1 to 9: 4\n",
            "Guess is too low\n",
            "Guess a randomly generated number between 1 to 9: 5\n",
            "Guess is too low\n",
            "Guess a randomly generated number between 1 to 9: 6\n",
            "You win. Grand Master of guesses\n"
          ]
        }
      ],
      "source": [
        "import numpy as np\n",
        "import random\n",
        "\n",
        "rand_num = random.randint(1,9)\n",
        "\n",
        "def guess_a_number():\n",
        "  count = 0\n",
        "  while count < 4:\n",
        "    g_num = int(input('Guess a randomly generated number between 1 to 9: '))\n",
        "    count+=1\n",
        "  \n",
        "    if g_num == rand_num: \n",
        "      print('You win. Grand Master of guesses')\n",
        "      break\n",
        "\n",
        "    if count == 3 and g_num != rand_num:\n",
        "      print('Oops. Stop guessing. You lose')\n",
        "      break\n",
        "\n",
        "    if g_num > rand_num:\n",
        "      print('Guess is too high')\n",
        "    if g_num < rand_num:\n",
        "      print('Guess is too low')\n",
        "\n",
        "guess_a_number()"
      ],
      "id": "VQqqHRTgDhAV"
    },
    {
      "cell_type": "markdown",
      "metadata": {
        "id": "8cfD9YtzcgON"
      },
      "source": [
        "#####**Extra Challenge: Find Missing Numbers**\n",
        "list = [1, 2, 3, 5, 6, 7, 9, 11, 12, 23, 14, 15, 17, \n",
        " 18, 19, 20, 21, 22, 24, 25, 26, 27, 28, 31]\n",
        "Write a function called missing_numbers that takes a list of \n",
        "sequence of numbers and finds the missing numbers in the \n",
        "sequence. The list above should return:\n",
        "[4, 8, 10, 13, 16, 29, 30]"
      ],
      "id": "8cfD9YtzcgON"
    },
    {
      "cell_type": "code",
      "execution_count": 85,
      "metadata": {
        "colab": {
          "base_uri": "https://localhost:8080/"
        },
        "id": "Rl15t5ZGci7e",
        "outputId": "52cd0710-3a52-49bc-bcc5-97d1dc3c6a90"
      },
      "outputs": [
        {
          "output_type": "stream",
          "name": "stdout",
          "text": [
            "[4, 8, 10, 13, 16, 29, 30]\n"
          ]
        }
      ],
      "source": [
        "def missing_numbers(lists):\n",
        "      missing_num =[]\n",
        "      for i in range(lists[0], lists[-1] + 1):\n",
        "        if i not in lists:\n",
        "          missing_num.append(i)\n",
        "          \n",
        "      print(missing_num)\n",
        "\n",
        "missing_numbers( [1, 2, 3, 5, 6, 7, 9, 11, 12, 23, 14, 15, 17, 18, 19, 20, 21, 22, 24, 25, 26, 27, 28, 31] )"
      ],
      "id": "Rl15t5ZGci7e"
    },
    {
      "cell_type": "markdown",
      "metadata": {
        "id": "nyjSQr4VcvT5"
      },
      "source": [
        "#####**Day 39: Password Generator**\n",
        "Create a function called generate_password that generates any \n",
        "length of password for the user. The password should have a\n",
        "random mix of upper letters, lower letters, numbers, and \n",
        "punctuation symbols. The function should ask the user how \n",
        "strong they want the password to be. The user should pick from -\n",
        "weak, strong, and very strong. If the user picks weak, the \n",
        "function should generate a 5-character long password. If the user \n",
        "picks strong, generate an 8-character password and if they pick \n",
        "very strong, generate a 12-character password."
      ],
      "id": "nyjSQr4VcvT5"
    },
    {
      "cell_type": "code",
      "execution_count": 86,
      "metadata": {
        "colab": {
          "base_uri": "https://localhost:8080/"
        },
        "id": "Te7og-Lwcxki",
        "outputId": "0e07e094-ffd9-41e1-b44b-91b39c374e98"
      },
      "outputs": [
        {
          "output_type": "stream",
          "name": "stdout",
          "text": [
            "\n",
            "  Select the type of password you want to generate\n",
            "  + Weak\n",
            "  + Strong\n",
            "  + Very Strong\n",
            "  Strong\n",
            "Your strong password is -  4{{pEPp'\n"
          ]
        }
      ],
      "source": [
        "#The secrets module is used for generating cryptographically \n",
        "#strong random numbers suitable for managing data such as passwords, \n",
        "#account authentication, security tokens, and related secrets.\n",
        "\n",
        "\n",
        "import secrets, string\n",
        "\n",
        "def generate_password():\n",
        "  password = input('''\n",
        "  Select the type of password you want to generate\n",
        "  + Weak\n",
        "  + Strong\n",
        "  + Very Strong\n",
        "  ''')\n",
        "\n",
        "  characters = string.ascii_letters + string.digits + string.punctuation\n",
        "  \n",
        "  if password == 'Weak':\n",
        "    weak_pass = ''.join(secrets.choice(characters) for _ in range(5))\n",
        "    print('Your weak password is- ',weak_pass)\n",
        "\n",
        "  if password == 'Strong':\n",
        "    strong_pass = ''.join(secrets.choice(characters) for _ in range(8))\n",
        "    print('Your strong password is - ',strong_pass)\n",
        "\n",
        "  if password == 'Very Strong':\n",
        "    very_strong_pass = ''.join(secrets.choice(characters) for _ in range(12))\n",
        "    print('Your very strong password is - ',very_strong_pass)\n",
        "\n",
        "generate_password()"
      ],
      "id": "Te7og-Lwcxki"
    },
    {
      "cell_type": "markdown",
      "metadata": {
        "id": "KYGKO7EVcyN1"
      },
      "source": [
        "#####**Day 40: Pig Latin**\n",
        "Write a function called translate that takes the following \n",
        "words and translates them into pig Latin.\n",
        "a = 'i love python'\n",
        "Here are the rules:\n",
        "1. If a word starts with a vowel (a,e, i, o, u) add ‘yay’ at the \n",
        "end. For example, ‘eat’ will become ‘eatyay’\n",
        "2. If a word starts with anything other than a vowel, move \n",
        "the first letter to the end and add ‘ay’ to the end. For \n",
        "example, ‘day’ will become ‘ayday’.\n",
        "Your code should return:\n",
        "iyay ovelay ythonpay"
      ],
      "id": "KYGKO7EVcyN1"
    },
    {
      "cell_type": "code",
      "execution_count": 87,
      "metadata": {
        "colab": {
          "base_uri": "https://localhost:8080/"
        },
        "id": "XXNT2UB5c3j_",
        "outputId": "7735bebc-1a1e-4a46-d7b1-ba7ab98607c4"
      },
      "outputs": [
        {
          "output_type": "stream",
          "name": "stdout",
          "text": [
            "iyay ovelyay ythonpyay\n"
          ]
        }
      ],
      "source": [
        "def piglatin(string):\n",
        "  string = string.split()\n",
        "  vowels = ('a','i','e','o','u')\n",
        "\n",
        "  new_list=[]\n",
        "  for i in string:\n",
        "    if i[0] in vowels:\n",
        "      new_list.append(i+'yay')\n",
        "    if i[0] not in vowels:\n",
        "      new_list.append(i[1:]+i[0] + 'yay')\n",
        "  pig_list = ' '.join(new_list)\n",
        "  \n",
        "  print(pig_list)\n",
        "\n",
        "piglatin('i love python')"
      ],
      "id": "XXNT2UB5c3j_"
    }
  ],
  "metadata": {
    "colab": {
      "provenance": [],
      "include_colab_link": true
    },
    "kernelspec": {
      "display_name": "Python 3.10.7 64-bit",
      "language": "python",
      "name": "python3"
    },
    "language_info": {
      "codemirror_mode": {
        "name": "ipython",
        "version": 3
      },
      "file_extension": ".py",
      "mimetype": "text/x-python",
      "name": "python",
      "nbconvert_exporter": "python",
      "pygments_lexer": "ipython3",
      "version": "3.10.7"
    },
    "vscode": {
      "interpreter": {
        "hash": "1979313bc0a26f16e3ff992a2d0b566c5dd63a38db55abcf4fb58953f9045efa"
      }
    }
  },
  "nbformat": 4,
  "nbformat_minor": 5
}
