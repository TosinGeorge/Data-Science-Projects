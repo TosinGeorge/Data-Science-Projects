{
  "nbformat": 4,
  "nbformat_minor": 0,
  "metadata": {
    "colab": {
      "provenance": [],
      "authorship_tag": "ABX9TyNVU8ee7xoXRS2W4CRfiEgK",
      "include_colab_link": true
    },
    "kernelspec": {
      "name": "python3",
      "display_name": "Python 3"
    },
    "language_info": {
      "name": "python"
    }
  },
  "cells": [
    {
      "cell_type": "markdown",
      "metadata": {
        "id": "view-in-github",
        "colab_type": "text"
      },
      "source": [
        "<a href=\"https://colab.research.google.com/github/TosinGeorge/Data-Science-Projects/blob/main/Profitable_Mobile_English_Apps.ipynb\" target=\"_parent\"><img src=\"https://colab.research.google.com/assets/colab-badge.svg\" alt=\"Open In Colab\"/></a>"
      ]
    },
    {
      "cell_type": "markdown",
      "source": [
        "### **Guided Project: Profitable App Profiles for the App Store and Google Play Markets**"
      ],
      "metadata": {
        "id": "Cxs-pCTqilgj"
      }
    },
    {
      "cell_type": "markdown",
      "source": [
        "Introduction\n",
        "\n",
        "The aim of this project is to recommend profitable and free mobile English apps profiles for the Google Playstore and App store. We would be exploring two datasets consisting of **10,000+** `Android` apps and **7,000+** `ios` apps. "
      ],
      "metadata": {
        "id": "lpPagaPviuls"
      }
    },
    {
      "cell_type": "markdown",
      "source": [
        "\n",
        "\n",
        "#### **Exploring our datasets**"
      ],
      "metadata": {
        "id": "YwPLpkizZIzY"
      }
    },
    {
      "cell_type": "code",
      "source": [
        "#importing our libraries\n",
        "import pandas as pd"
      ],
      "metadata": {
        "id": "0YKFeHZqiqRn"
      },
      "execution_count": null,
      "outputs": []
    },
    {
      "cell_type": "code",
      "source": [
        "#reading our ios and android dataset\n",
        "\n",
        "#Google datset\n",
        "android = pd.read_csv('googleplaystore (2).csv')\n",
        "\n",
        "#ios dataset\n",
        "ios = pd.read_csv('AppleStore (1).csv')"
      ],
      "metadata": {
        "id": "XCxMPBi4j5nh"
      },
      "execution_count": null,
      "outputs": []
    },
    {
      "cell_type": "markdown",
      "source": [
        "* *Determing the number of columns and rows in each dataset*"
      ],
      "metadata": {
        "id": "y4ikzW2XEoxH"
      }
    },
    {
      "cell_type": "code",
      "source": [
        "#ios dataset\n",
        "ios.shape"
      ],
      "metadata": {
        "colab": {
          "base_uri": "https://localhost:8080/"
        },
        "id": "E5ps0F7RELfD",
        "outputId": "b0f0f690-efde-4dac-da0e-6f0d322a0f77"
      },
      "execution_count": null,
      "outputs": [
        {
          "output_type": "execute_result",
          "data": {
            "text/plain": [
              "(7197, 16)"
            ]
          },
          "metadata": {},
          "execution_count": 46
        }
      ]
    },
    {
      "cell_type": "code",
      "source": [
        "#Google dataset\n",
        "android.shape"
      ],
      "metadata": {
        "colab": {
          "base_uri": "https://localhost:8080/"
        },
        "id": "f30yKj8tED66",
        "outputId": "277e2c05-d5b0-4c75-80d2-ada483af4c17"
      },
      "execution_count": null,
      "outputs": [
        {
          "output_type": "execute_result",
          "data": {
            "text/plain": [
              "(10841, 13)"
            ]
          },
          "metadata": {},
          "execution_count": 47
        }
      ]
    },
    {
      "cell_type": "markdown",
      "source": [
        "**Comment**: *The google dataset has **13** columns and **10841** rows while the ios dataset has **16** \n",
        "columns and **7197** rows.*"
      ],
      "metadata": {
        "id": "7lYKmR18EOQv"
      }
    },
    {
      "cell_type": "code",
      "source": [
        "#exploring the columns names and their datatypes\n",
        "android.info()"
      ],
      "metadata": {
        "colab": {
          "base_uri": "https://localhost:8080/"
        },
        "id": "ogoJIG2JpD6X",
        "outputId": "22e720b7-6e00-466a-8d3e-d7d37be83cc2"
      },
      "execution_count": null,
      "outputs": [
        {
          "output_type": "stream",
          "name": "stdout",
          "text": [
            "<class 'pandas.core.frame.DataFrame'>\n",
            "RangeIndex: 10841 entries, 0 to 10840\n",
            "Data columns (total 13 columns):\n",
            " #   Column          Non-Null Count  Dtype  \n",
            "---  ------          --------------  -----  \n",
            " 0   App             10841 non-null  object \n",
            " 1   Category        10841 non-null  object \n",
            " 2   Rating          9367 non-null   float64\n",
            " 3   Reviews         10841 non-null  object \n",
            " 4   Size            10841 non-null  object \n",
            " 5   Installs        10841 non-null  object \n",
            " 6   Type            10840 non-null  object \n",
            " 7   Price           10841 non-null  object \n",
            " 8   Content Rating  10840 non-null  object \n",
            " 9   Genres          10841 non-null  object \n",
            " 10  Last Updated    10841 non-null  object \n",
            " 11  Current Ver     10833 non-null  object \n",
            " 12  Android Ver     10838 non-null  object \n",
            "dtypes: float64(1), object(12)\n",
            "memory usage: 1.1+ MB\n"
          ]
        }
      ]
    },
    {
      "cell_type": "code",
      "source": [
        "ios.info()"
      ],
      "metadata": {
        "colab": {
          "base_uri": "https://localhost:8080/"
        },
        "id": "qiMmZhlNo2jJ",
        "outputId": "7bbbc018-6586-4ed1-b90c-977a8e662a95"
      },
      "execution_count": null,
      "outputs": [
        {
          "output_type": "stream",
          "name": "stdout",
          "text": [
            "<class 'pandas.core.frame.DataFrame'>\n",
            "RangeIndex: 7197 entries, 0 to 7196\n",
            "Data columns (total 16 columns):\n",
            " #   Column            Non-Null Count  Dtype  \n",
            "---  ------            --------------  -----  \n",
            " 0   id                7197 non-null   int64  \n",
            " 1   track_name        7197 non-null   object \n",
            " 2   size_bytes        7197 non-null   int64  \n",
            " 3   currency          7197 non-null   object \n",
            " 4   price             7197 non-null   float64\n",
            " 5   rating_count_tot  7197 non-null   int64  \n",
            " 6   rating_count_ver  7197 non-null   int64  \n",
            " 7   user_rating       7197 non-null   float64\n",
            " 8   user_rating_ver   7197 non-null   float64\n",
            " 9   ver               7197 non-null   object \n",
            " 10  cont_rating       7197 non-null   object \n",
            " 11  prime_genre       7197 non-null   object \n",
            " 12  sup_devices.num   7197 non-null   int64  \n",
            " 13  ipadSc_urls.num   7197 non-null   int64  \n",
            " 14  lang.num          7197 non-null   int64  \n",
            " 15  vpp_lic           7197 non-null   int64  \n",
            "dtypes: float64(3), int64(8), object(5)\n",
            "memory usage: 899.8+ KB\n"
          ]
        }
      ]
    },
    {
      "cell_type": "markdown",
      "source": [
        "**Comment**: *The google dataset has **12** objects columns and **1** float column. There are a couple of missing values across some columns (`Rating`, `Type`, `Content Rating`, `Current Ver` and `Android Ver`). The ios datset has a mix of floats, integers and objects across across **16** columns. There are no missing values in the ios dataset. There is no need to drop the missing values in the Rating column since the column is of very little interest. We would be losing useful data if we drop the values in this column.*"
      ],
      "metadata": {
        "id": "g-HHaz6gbojp"
      }
    },
    {
      "cell_type": "code",
      "source": [
        "#exploring samples of our datasets\n",
        "android.sample(2)"
      ],
      "metadata": {
        "colab": {
          "base_uri": "https://localhost:8080/",
          "height": 225
        },
        "id": "8Dhe2Fg5opgw",
        "outputId": "37e97377-a6e6-44e6-fba9-a8ad49410f4a"
      },
      "execution_count": null,
      "outputs": [
        {
          "output_type": "execute_result",
          "data": {
            "text/plain": [
              "                         App  Category  Rating Reviews Size     Installs  \\\n",
              "2675                  CJmall  SHOPPING     3.6   18252  10M  10,000,000+   \n",
              "7207  Beast of Lycan Isle CE    FAMILY     4.1    2683  20M      50,000+   \n",
              "\n",
              "      Type Price Content Rating    Genres      Last Updated Current Ver  \\\n",
              "2675  Free     0       Everyone  Shopping    August 6, 2018       6.3.8   \n",
              "7207  Free     0   Everyone 10+    Casual  January 23, 2014         1.0   \n",
              "\n",
              "     Android Ver  \n",
              "2675  4.1 and up  \n",
              "7207  2.3 and up  "
            ],
            "text/html": [
              "\n",
              "  <div id=\"df-4aba9a42-bd7a-41a6-a415-b11fa13e24cd\">\n",
              "    <div class=\"colab-df-container\">\n",
              "      <div>\n",
              "<style scoped>\n",
              "    .dataframe tbody tr th:only-of-type {\n",
              "        vertical-align: middle;\n",
              "    }\n",
              "\n",
              "    .dataframe tbody tr th {\n",
              "        vertical-align: top;\n",
              "    }\n",
              "\n",
              "    .dataframe thead th {\n",
              "        text-align: right;\n",
              "    }\n",
              "</style>\n",
              "<table border=\"1\" class=\"dataframe\">\n",
              "  <thead>\n",
              "    <tr style=\"text-align: right;\">\n",
              "      <th></th>\n",
              "      <th>App</th>\n",
              "      <th>Category</th>\n",
              "      <th>Rating</th>\n",
              "      <th>Reviews</th>\n",
              "      <th>Size</th>\n",
              "      <th>Installs</th>\n",
              "      <th>Type</th>\n",
              "      <th>Price</th>\n",
              "      <th>Content Rating</th>\n",
              "      <th>Genres</th>\n",
              "      <th>Last Updated</th>\n",
              "      <th>Current Ver</th>\n",
              "      <th>Android Ver</th>\n",
              "    </tr>\n",
              "  </thead>\n",
              "  <tbody>\n",
              "    <tr>\n",
              "      <th>2675</th>\n",
              "      <td>CJmall</td>\n",
              "      <td>SHOPPING</td>\n",
              "      <td>3.6</td>\n",
              "      <td>18252</td>\n",
              "      <td>10M</td>\n",
              "      <td>10,000,000+</td>\n",
              "      <td>Free</td>\n",
              "      <td>0</td>\n",
              "      <td>Everyone</td>\n",
              "      <td>Shopping</td>\n",
              "      <td>August 6, 2018</td>\n",
              "      <td>6.3.8</td>\n",
              "      <td>4.1 and up</td>\n",
              "    </tr>\n",
              "    <tr>\n",
              "      <th>7207</th>\n",
              "      <td>Beast of Lycan Isle CE</td>\n",
              "      <td>FAMILY</td>\n",
              "      <td>4.1</td>\n",
              "      <td>2683</td>\n",
              "      <td>20M</td>\n",
              "      <td>50,000+</td>\n",
              "      <td>Free</td>\n",
              "      <td>0</td>\n",
              "      <td>Everyone 10+</td>\n",
              "      <td>Casual</td>\n",
              "      <td>January 23, 2014</td>\n",
              "      <td>1.0</td>\n",
              "      <td>2.3 and up</td>\n",
              "    </tr>\n",
              "  </tbody>\n",
              "</table>\n",
              "</div>\n",
              "      <button class=\"colab-df-convert\" onclick=\"convertToInteractive('df-4aba9a42-bd7a-41a6-a415-b11fa13e24cd')\"\n",
              "              title=\"Convert this dataframe to an interactive table.\"\n",
              "              style=\"display:none;\">\n",
              "        \n",
              "  <svg xmlns=\"http://www.w3.org/2000/svg\" height=\"24px\"viewBox=\"0 0 24 24\"\n",
              "       width=\"24px\">\n",
              "    <path d=\"M0 0h24v24H0V0z\" fill=\"none\"/>\n",
              "    <path d=\"M18.56 5.44l.94 2.06.94-2.06 2.06-.94-2.06-.94-.94-2.06-.94 2.06-2.06.94zm-11 1L8.5 8.5l.94-2.06 2.06-.94-2.06-.94L8.5 2.5l-.94 2.06-2.06.94zm10 10l.94 2.06.94-2.06 2.06-.94-2.06-.94-.94-2.06-.94 2.06-2.06.94z\"/><path d=\"M17.41 7.96l-1.37-1.37c-.4-.4-.92-.59-1.43-.59-.52 0-1.04.2-1.43.59L10.3 9.45l-7.72 7.72c-.78.78-.78 2.05 0 2.83L4 21.41c.39.39.9.59 1.41.59.51 0 1.02-.2 1.41-.59l7.78-7.78 2.81-2.81c.8-.78.8-2.07 0-2.86zM5.41 20L4 18.59l7.72-7.72 1.47 1.35L5.41 20z\"/>\n",
              "  </svg>\n",
              "      </button>\n",
              "      \n",
              "  <style>\n",
              "    .colab-df-container {\n",
              "      display:flex;\n",
              "      flex-wrap:wrap;\n",
              "      gap: 12px;\n",
              "    }\n",
              "\n",
              "    .colab-df-convert {\n",
              "      background-color: #E8F0FE;\n",
              "      border: none;\n",
              "      border-radius: 50%;\n",
              "      cursor: pointer;\n",
              "      display: none;\n",
              "      fill: #1967D2;\n",
              "      height: 32px;\n",
              "      padding: 0 0 0 0;\n",
              "      width: 32px;\n",
              "    }\n",
              "\n",
              "    .colab-df-convert:hover {\n",
              "      background-color: #E2EBFA;\n",
              "      box-shadow: 0px 1px 2px rgba(60, 64, 67, 0.3), 0px 1px 3px 1px rgba(60, 64, 67, 0.15);\n",
              "      fill: #174EA6;\n",
              "    }\n",
              "\n",
              "    [theme=dark] .colab-df-convert {\n",
              "      background-color: #3B4455;\n",
              "      fill: #D2E3FC;\n",
              "    }\n",
              "\n",
              "    [theme=dark] .colab-df-convert:hover {\n",
              "      background-color: #434B5C;\n",
              "      box-shadow: 0px 1px 3px 1px rgba(0, 0, 0, 0.15);\n",
              "      filter: drop-shadow(0px 1px 2px rgba(0, 0, 0, 0.3));\n",
              "      fill: #FFFFFF;\n",
              "    }\n",
              "  </style>\n",
              "\n",
              "      <script>\n",
              "        const buttonEl =\n",
              "          document.querySelector('#df-4aba9a42-bd7a-41a6-a415-b11fa13e24cd button.colab-df-convert');\n",
              "        buttonEl.style.display =\n",
              "          google.colab.kernel.accessAllowed ? 'block' : 'none';\n",
              "\n",
              "        async function convertToInteractive(key) {\n",
              "          const element = document.querySelector('#df-4aba9a42-bd7a-41a6-a415-b11fa13e24cd');\n",
              "          const dataTable =\n",
              "            await google.colab.kernel.invokeFunction('convertToInteractive',\n",
              "                                                     [key], {});\n",
              "          if (!dataTable) return;\n",
              "\n",
              "          const docLinkHtml = 'Like what you see? Visit the ' +\n",
              "            '<a target=\"_blank\" href=https://colab.research.google.com/notebooks/data_table.ipynb>data table notebook</a>'\n",
              "            + ' to learn more about interactive tables.';\n",
              "          element.innerHTML = '';\n",
              "          dataTable['output_type'] = 'display_data';\n",
              "          await google.colab.output.renderOutput(dataTable, element);\n",
              "          const docLink = document.createElement('div');\n",
              "          docLink.innerHTML = docLinkHtml;\n",
              "          element.appendChild(docLink);\n",
              "        }\n",
              "      </script>\n",
              "    </div>\n",
              "  </div>\n",
              "  "
            ]
          },
          "metadata": {},
          "execution_count": 50
        }
      ]
    },
    {
      "cell_type": "markdown",
      "source": [
        "**Comment**: *The columns that might be useful for our analysis are `App`, `Category`, `Reviews`, `Installs`, `Type`, `Price` and `Genre`*.\n",
        "\n"
      ],
      "metadata": {
        "id": "nFXfB9R3GAkl"
      }
    },
    {
      "cell_type": "code",
      "source": [
        "ios.sample(2)"
      ],
      "metadata": {
        "colab": {
          "base_uri": "https://localhost:8080/",
          "height": 228
        },
        "id": "dT6Xh1bOwuf5",
        "outputId": "e2d3697f-51d8-4a0f-e533-2d3005ed2b0a"
      },
      "execution_count": null,
      "outputs": [
        {
          "output_type": "execute_result",
          "data": {
            "text/plain": [
              "              id                   track_name  size_bytes currency  price  \\\n",
              "1705   871694174              Toca Life: Town   453559296      USD   2.99   \n",
              "4936  1100639820  HorseMoji: Equestrian Emoji    16315392      USD   1.99   \n",
              "\n",
              "      rating_count_tot  rating_count_ver  user_rating  user_rating_ver    ver  \\\n",
              "1705              3174               884          4.5              4.0  1.4.1   \n",
              "4936                58                32          2.0              1.5    1.3   \n",
              "\n",
              "     cont_rating    prime_genre  sup_devices.num  ipadSc_urls.num  lang.num  \\\n",
              "1705          4+      Education               40                5         1   \n",
              "4936          4+  Entertainment               37                5         1   \n",
              "\n",
              "      vpp_lic  \n",
              "1705        1  \n",
              "4936        1  "
            ],
            "text/html": [
              "\n",
              "  <div id=\"df-845b7a02-bb51-4238-8b0a-f068b02e1ee5\">\n",
              "    <div class=\"colab-df-container\">\n",
              "      <div>\n",
              "<style scoped>\n",
              "    .dataframe tbody tr th:only-of-type {\n",
              "        vertical-align: middle;\n",
              "    }\n",
              "\n",
              "    .dataframe tbody tr th {\n",
              "        vertical-align: top;\n",
              "    }\n",
              "\n",
              "    .dataframe thead th {\n",
              "        text-align: right;\n",
              "    }\n",
              "</style>\n",
              "<table border=\"1\" class=\"dataframe\">\n",
              "  <thead>\n",
              "    <tr style=\"text-align: right;\">\n",
              "      <th></th>\n",
              "      <th>id</th>\n",
              "      <th>track_name</th>\n",
              "      <th>size_bytes</th>\n",
              "      <th>currency</th>\n",
              "      <th>price</th>\n",
              "      <th>rating_count_tot</th>\n",
              "      <th>rating_count_ver</th>\n",
              "      <th>user_rating</th>\n",
              "      <th>user_rating_ver</th>\n",
              "      <th>ver</th>\n",
              "      <th>cont_rating</th>\n",
              "      <th>prime_genre</th>\n",
              "      <th>sup_devices.num</th>\n",
              "      <th>ipadSc_urls.num</th>\n",
              "      <th>lang.num</th>\n",
              "      <th>vpp_lic</th>\n",
              "    </tr>\n",
              "  </thead>\n",
              "  <tbody>\n",
              "    <tr>\n",
              "      <th>1705</th>\n",
              "      <td>871694174</td>\n",
              "      <td>Toca Life: Town</td>\n",
              "      <td>453559296</td>\n",
              "      <td>USD</td>\n",
              "      <td>2.99</td>\n",
              "      <td>3174</td>\n",
              "      <td>884</td>\n",
              "      <td>4.5</td>\n",
              "      <td>4.0</td>\n",
              "      <td>1.4.1</td>\n",
              "      <td>4+</td>\n",
              "      <td>Education</td>\n",
              "      <td>40</td>\n",
              "      <td>5</td>\n",
              "      <td>1</td>\n",
              "      <td>1</td>\n",
              "    </tr>\n",
              "    <tr>\n",
              "      <th>4936</th>\n",
              "      <td>1100639820</td>\n",
              "      <td>HorseMoji: Equestrian Emoji</td>\n",
              "      <td>16315392</td>\n",
              "      <td>USD</td>\n",
              "      <td>1.99</td>\n",
              "      <td>58</td>\n",
              "      <td>32</td>\n",
              "      <td>2.0</td>\n",
              "      <td>1.5</td>\n",
              "      <td>1.3</td>\n",
              "      <td>4+</td>\n",
              "      <td>Entertainment</td>\n",
              "      <td>37</td>\n",
              "      <td>5</td>\n",
              "      <td>1</td>\n",
              "      <td>1</td>\n",
              "    </tr>\n",
              "  </tbody>\n",
              "</table>\n",
              "</div>\n",
              "      <button class=\"colab-df-convert\" onclick=\"convertToInteractive('df-845b7a02-bb51-4238-8b0a-f068b02e1ee5')\"\n",
              "              title=\"Convert this dataframe to an interactive table.\"\n",
              "              style=\"display:none;\">\n",
              "        \n",
              "  <svg xmlns=\"http://www.w3.org/2000/svg\" height=\"24px\"viewBox=\"0 0 24 24\"\n",
              "       width=\"24px\">\n",
              "    <path d=\"M0 0h24v24H0V0z\" fill=\"none\"/>\n",
              "    <path d=\"M18.56 5.44l.94 2.06.94-2.06 2.06-.94-2.06-.94-.94-2.06-.94 2.06-2.06.94zm-11 1L8.5 8.5l.94-2.06 2.06-.94-2.06-.94L8.5 2.5l-.94 2.06-2.06.94zm10 10l.94 2.06.94-2.06 2.06-.94-2.06-.94-.94-2.06-.94 2.06-2.06.94z\"/><path d=\"M17.41 7.96l-1.37-1.37c-.4-.4-.92-.59-1.43-.59-.52 0-1.04.2-1.43.59L10.3 9.45l-7.72 7.72c-.78.78-.78 2.05 0 2.83L4 21.41c.39.39.9.59 1.41.59.51 0 1.02-.2 1.41-.59l7.78-7.78 2.81-2.81c.8-.78.8-2.07 0-2.86zM5.41 20L4 18.59l7.72-7.72 1.47 1.35L5.41 20z\"/>\n",
              "  </svg>\n",
              "      </button>\n",
              "      \n",
              "  <style>\n",
              "    .colab-df-container {\n",
              "      display:flex;\n",
              "      flex-wrap:wrap;\n",
              "      gap: 12px;\n",
              "    }\n",
              "\n",
              "    .colab-df-convert {\n",
              "      background-color: #E8F0FE;\n",
              "      border: none;\n",
              "      border-radius: 50%;\n",
              "      cursor: pointer;\n",
              "      display: none;\n",
              "      fill: #1967D2;\n",
              "      height: 32px;\n",
              "      padding: 0 0 0 0;\n",
              "      width: 32px;\n",
              "    }\n",
              "\n",
              "    .colab-df-convert:hover {\n",
              "      background-color: #E2EBFA;\n",
              "      box-shadow: 0px 1px 2px rgba(60, 64, 67, 0.3), 0px 1px 3px 1px rgba(60, 64, 67, 0.15);\n",
              "      fill: #174EA6;\n",
              "    }\n",
              "\n",
              "    [theme=dark] .colab-df-convert {\n",
              "      background-color: #3B4455;\n",
              "      fill: #D2E3FC;\n",
              "    }\n",
              "\n",
              "    [theme=dark] .colab-df-convert:hover {\n",
              "      background-color: #434B5C;\n",
              "      box-shadow: 0px 1px 3px 1px rgba(0, 0, 0, 0.15);\n",
              "      filter: drop-shadow(0px 1px 2px rgba(0, 0, 0, 0.3));\n",
              "      fill: #FFFFFF;\n",
              "    }\n",
              "  </style>\n",
              "\n",
              "      <script>\n",
              "        const buttonEl =\n",
              "          document.querySelector('#df-845b7a02-bb51-4238-8b0a-f068b02e1ee5 button.colab-df-convert');\n",
              "        buttonEl.style.display =\n",
              "          google.colab.kernel.accessAllowed ? 'block' : 'none';\n",
              "\n",
              "        async function convertToInteractive(key) {\n",
              "          const element = document.querySelector('#df-845b7a02-bb51-4238-8b0a-f068b02e1ee5');\n",
              "          const dataTable =\n",
              "            await google.colab.kernel.invokeFunction('convertToInteractive',\n",
              "                                                     [key], {});\n",
              "          if (!dataTable) return;\n",
              "\n",
              "          const docLinkHtml = 'Like what you see? Visit the ' +\n",
              "            '<a target=\"_blank\" href=https://colab.research.google.com/notebooks/data_table.ipynb>data table notebook</a>'\n",
              "            + ' to learn more about interactive tables.';\n",
              "          element.innerHTML = '';\n",
              "          dataTable['output_type'] = 'display_data';\n",
              "          await google.colab.output.renderOutput(dataTable, element);\n",
              "          const docLink = document.createElement('div');\n",
              "          docLink.innerHTML = docLinkHtml;\n",
              "          element.appendChild(docLink);\n",
              "        }\n",
              "      </script>\n",
              "    </div>\n",
              "  </div>\n",
              "  "
            ]
          },
          "metadata": {},
          "execution_count": 51
        }
      ]
    },
    {
      "cell_type": "markdown",
      "source": [
        "**Comment:** *The columns that might be useful for our analysis are `track_name`, `currency`, `price`, `rating_count_tot`, `rating_count_ver` and `prime_genre`*."
      ],
      "metadata": {
        "id": "TpBZ3p9UHRxv"
      }
    },
    {
      "cell_type": "markdown",
      "source": [
        "#### **Deleting Wrong data and duplicated values**\n",
        "\n",
        "*The Google Play Store dataset has a dedicated discussion section that describes an error for a certain row. I printed the affected row including the row before and after so I could easily make comparison.*\n",
        "\n"
      ],
      "metadata": {
        "id": "gHTLklSiIKmt"
      }
    },
    {
      "cell_type": "code",
      "source": [
        "android[10471:10474]"
      ],
      "metadata": {
        "colab": {
          "base_uri": "https://localhost:8080/",
          "height": 329
        },
        "id": "ltFJi54wIfMy",
        "outputId": "75da6288-e60d-44a1-dcf7-75aaf6112dbb"
      },
      "execution_count": null,
      "outputs": [
        {
          "output_type": "execute_result",
          "data": {
            "text/plain": [
              "                                           App         Category  Rating  \\\n",
              "10471                         Xposed Wi-Fi-Pwd  PERSONALIZATION     3.5   \n",
              "10472  Life Made WI-Fi Touchscreen Photo Frame              1.9    19.0   \n",
              "10473                  osmino Wi-Fi: free WiFi            TOOLS     4.2   \n",
              "\n",
              "      Reviews    Size     Installs  Type     Price Content Rating  \\\n",
              "10471    1042    404k     100,000+  Free         0       Everyone   \n",
              "10472    3.0M  1,000+         Free     0  Everyone            NaN   \n",
              "10473  134203    4.1M  10,000,000+  Free         0       Everyone   \n",
              "\n",
              "                  Genres    Last Updated Current Ver   Android Ver  \n",
              "10471    Personalization  August 5, 2014       3.0.0  4.0.3 and up  \n",
              "10472  February 11, 2018          1.0.19  4.0 and up           NaN  \n",
              "10473              Tools  August 7, 2018     6.06.14    4.4 and up  "
            ],
            "text/html": [
              "\n",
              "  <div id=\"df-a75024a1-1d09-462a-8c87-5c43775aee99\">\n",
              "    <div class=\"colab-df-container\">\n",
              "      <div>\n",
              "<style scoped>\n",
              "    .dataframe tbody tr th:only-of-type {\n",
              "        vertical-align: middle;\n",
              "    }\n",
              "\n",
              "    .dataframe tbody tr th {\n",
              "        vertical-align: top;\n",
              "    }\n",
              "\n",
              "    .dataframe thead th {\n",
              "        text-align: right;\n",
              "    }\n",
              "</style>\n",
              "<table border=\"1\" class=\"dataframe\">\n",
              "  <thead>\n",
              "    <tr style=\"text-align: right;\">\n",
              "      <th></th>\n",
              "      <th>App</th>\n",
              "      <th>Category</th>\n",
              "      <th>Rating</th>\n",
              "      <th>Reviews</th>\n",
              "      <th>Size</th>\n",
              "      <th>Installs</th>\n",
              "      <th>Type</th>\n",
              "      <th>Price</th>\n",
              "      <th>Content Rating</th>\n",
              "      <th>Genres</th>\n",
              "      <th>Last Updated</th>\n",
              "      <th>Current Ver</th>\n",
              "      <th>Android Ver</th>\n",
              "    </tr>\n",
              "  </thead>\n",
              "  <tbody>\n",
              "    <tr>\n",
              "      <th>10471</th>\n",
              "      <td>Xposed Wi-Fi-Pwd</td>\n",
              "      <td>PERSONALIZATION</td>\n",
              "      <td>3.5</td>\n",
              "      <td>1042</td>\n",
              "      <td>404k</td>\n",
              "      <td>100,000+</td>\n",
              "      <td>Free</td>\n",
              "      <td>0</td>\n",
              "      <td>Everyone</td>\n",
              "      <td>Personalization</td>\n",
              "      <td>August 5, 2014</td>\n",
              "      <td>3.0.0</td>\n",
              "      <td>4.0.3 and up</td>\n",
              "    </tr>\n",
              "    <tr>\n",
              "      <th>10472</th>\n",
              "      <td>Life Made WI-Fi Touchscreen Photo Frame</td>\n",
              "      <td>1.9</td>\n",
              "      <td>19.0</td>\n",
              "      <td>3.0M</td>\n",
              "      <td>1,000+</td>\n",
              "      <td>Free</td>\n",
              "      <td>0</td>\n",
              "      <td>Everyone</td>\n",
              "      <td>NaN</td>\n",
              "      <td>February 11, 2018</td>\n",
              "      <td>1.0.19</td>\n",
              "      <td>4.0 and up</td>\n",
              "      <td>NaN</td>\n",
              "    </tr>\n",
              "    <tr>\n",
              "      <th>10473</th>\n",
              "      <td>osmino Wi-Fi: free WiFi</td>\n",
              "      <td>TOOLS</td>\n",
              "      <td>4.2</td>\n",
              "      <td>134203</td>\n",
              "      <td>4.1M</td>\n",
              "      <td>10,000,000+</td>\n",
              "      <td>Free</td>\n",
              "      <td>0</td>\n",
              "      <td>Everyone</td>\n",
              "      <td>Tools</td>\n",
              "      <td>August 7, 2018</td>\n",
              "      <td>6.06.14</td>\n",
              "      <td>4.4 and up</td>\n",
              "    </tr>\n",
              "  </tbody>\n",
              "</table>\n",
              "</div>\n",
              "      <button class=\"colab-df-convert\" onclick=\"convertToInteractive('df-a75024a1-1d09-462a-8c87-5c43775aee99')\"\n",
              "              title=\"Convert this dataframe to an interactive table.\"\n",
              "              style=\"display:none;\">\n",
              "        \n",
              "  <svg xmlns=\"http://www.w3.org/2000/svg\" height=\"24px\"viewBox=\"0 0 24 24\"\n",
              "       width=\"24px\">\n",
              "    <path d=\"M0 0h24v24H0V0z\" fill=\"none\"/>\n",
              "    <path d=\"M18.56 5.44l.94 2.06.94-2.06 2.06-.94-2.06-.94-.94-2.06-.94 2.06-2.06.94zm-11 1L8.5 8.5l.94-2.06 2.06-.94-2.06-.94L8.5 2.5l-.94 2.06-2.06.94zm10 10l.94 2.06.94-2.06 2.06-.94-2.06-.94-.94-2.06-.94 2.06-2.06.94z\"/><path d=\"M17.41 7.96l-1.37-1.37c-.4-.4-.92-.59-1.43-.59-.52 0-1.04.2-1.43.59L10.3 9.45l-7.72 7.72c-.78.78-.78 2.05 0 2.83L4 21.41c.39.39.9.59 1.41.59.51 0 1.02-.2 1.41-.59l7.78-7.78 2.81-2.81c.8-.78.8-2.07 0-2.86zM5.41 20L4 18.59l7.72-7.72 1.47 1.35L5.41 20z\"/>\n",
              "  </svg>\n",
              "      </button>\n",
              "      \n",
              "  <style>\n",
              "    .colab-df-container {\n",
              "      display:flex;\n",
              "      flex-wrap:wrap;\n",
              "      gap: 12px;\n",
              "    }\n",
              "\n",
              "    .colab-df-convert {\n",
              "      background-color: #E8F0FE;\n",
              "      border: none;\n",
              "      border-radius: 50%;\n",
              "      cursor: pointer;\n",
              "      display: none;\n",
              "      fill: #1967D2;\n",
              "      height: 32px;\n",
              "      padding: 0 0 0 0;\n",
              "      width: 32px;\n",
              "    }\n",
              "\n",
              "    .colab-df-convert:hover {\n",
              "      background-color: #E2EBFA;\n",
              "      box-shadow: 0px 1px 2px rgba(60, 64, 67, 0.3), 0px 1px 3px 1px rgba(60, 64, 67, 0.15);\n",
              "      fill: #174EA6;\n",
              "    }\n",
              "\n",
              "    [theme=dark] .colab-df-convert {\n",
              "      background-color: #3B4455;\n",
              "      fill: #D2E3FC;\n",
              "    }\n",
              "\n",
              "    [theme=dark] .colab-df-convert:hover {\n",
              "      background-color: #434B5C;\n",
              "      box-shadow: 0px 1px 3px 1px rgba(0, 0, 0, 0.15);\n",
              "      filter: drop-shadow(0px 1px 2px rgba(0, 0, 0, 0.3));\n",
              "      fill: #FFFFFF;\n",
              "    }\n",
              "  </style>\n",
              "\n",
              "      <script>\n",
              "        const buttonEl =\n",
              "          document.querySelector('#df-a75024a1-1d09-462a-8c87-5c43775aee99 button.colab-df-convert');\n",
              "        buttonEl.style.display =\n",
              "          google.colab.kernel.accessAllowed ? 'block' : 'none';\n",
              "\n",
              "        async function convertToInteractive(key) {\n",
              "          const element = document.querySelector('#df-a75024a1-1d09-462a-8c87-5c43775aee99');\n",
              "          const dataTable =\n",
              "            await google.colab.kernel.invokeFunction('convertToInteractive',\n",
              "                                                     [key], {});\n",
              "          if (!dataTable) return;\n",
              "\n",
              "          const docLinkHtml = 'Like what you see? Visit the ' +\n",
              "            '<a target=\"_blank\" href=https://colab.research.google.com/notebooks/data_table.ipynb>data table notebook</a>'\n",
              "            + ' to learn more about interactive tables.';\n",
              "          element.innerHTML = '';\n",
              "          dataTable['output_type'] = 'display_data';\n",
              "          await google.colab.output.renderOutput(dataTable, element);\n",
              "          const docLink = document.createElement('div');\n",
              "          docLink.innerHTML = docLinkHtml;\n",
              "          element.appendChild(docLink);\n",
              "        }\n",
              "      </script>\n",
              "    </div>\n",
              "  </div>\n",
              "  "
            ]
          },
          "metadata": {},
          "execution_count": 52
        }
      ]
    },
    {
      "cell_type": "code",
      "source": [
        "#dropping the row\n",
        "android=android.drop(10472)"
      ],
      "metadata": {
        "id": "ohHaD3U4In7d"
      },
      "execution_count": null,
      "outputs": []
    },
    {
      "cell_type": "markdown",
      "source": [
        "#### **Removing Duplicate Entries**\n",
        "\n",
        "*I also checked for duplicate entries across each datset.*"
      ],
      "metadata": {
        "id": "94HcEc0wJ3wv"
      }
    },
    {
      "cell_type": "code",
      "source": [
        "android.duplicated('App').sum()"
      ],
      "metadata": {
        "colab": {
          "base_uri": "https://localhost:8080/"
        },
        "id": "jfGv0eKV9hxl",
        "outputId": "459e67ba-597b-420b-f6b6-4fcf5b7b2e72"
      },
      "execution_count": null,
      "outputs": [
        {
          "output_type": "execute_result",
          "data": {
            "text/plain": [
              "1181"
            ]
          },
          "metadata": {},
          "execution_count": 54
        }
      ]
    },
    {
      "cell_type": "code",
      "source": [
        "ios.duplicated('track_name').sum()"
      ],
      "metadata": {
        "colab": {
          "base_uri": "https://localhost:8080/"
        },
        "id": "dxl8_KNqgCa6",
        "outputId": "b6f28861-116d-4ae9-c6c1-09702720fde7"
      },
      "execution_count": null,
      "outputs": [
        {
          "output_type": "execute_result",
          "data": {
            "text/plain": [
              "2"
            ]
          },
          "metadata": {},
          "execution_count": 55
        }
      ]
    },
    {
      "cell_type": "markdown",
      "source": [
        "**Comment:** *There are **1181** duplicate apps name in the google dataset and **2** duplicate apps name in the ios dataset* "
      ],
      "metadata": {
        "id": "ZTeFmyxFgBCp"
      }
    },
    {
      "cell_type": "code",
      "source": [
        "#Exploring some of the duplicate app names in the Google Dataset\n",
        "android.App.value_counts()\n"
      ],
      "metadata": {
        "colab": {
          "base_uri": "https://localhost:8080/"
        },
        "id": "vPfXQ16fCShq",
        "outputId": "780643bd-7828-4906-b214-9b4f79ea821a"
      },
      "execution_count": null,
      "outputs": [
        {
          "output_type": "execute_result",
          "data": {
            "text/plain": [
              "ROBLOX                                                9\n",
              "CBS Sports App - Scores, News, Stats & Watch Live     8\n",
              "ESPN                                                  7\n",
              "Duolingo: Learn Languages Free                        7\n",
              "Candy Crush Saga                                      7\n",
              "                                                     ..\n",
              "Meet U - Get Friends for Snapchat, Kik & Instagram    1\n",
              "U-Report                                              1\n",
              "U of I Community Credit Union                         1\n",
              "Waiting For U Launcher Theme                          1\n",
              "iHoroscope - 2018 Daily Horoscope & Astrology         1\n",
              "Name: App, Length: 9659, dtype: int64"
            ]
          },
          "metadata": {},
          "execution_count": 56
        }
      ]
    },
    {
      "cell_type": "markdown",
      "source": [
        "**Comment:** *`ROBLOX`, `CBS Sports App - Scores, News, Stats & Watch Live`,`ESPN`, `Duolingo: Learn Languages Free` and `Candy Crush Saga` are some of the duplicated app names in the google dataset*"
      ],
      "metadata": {
        "id": "gINlBo2u_H2R"
      }
    },
    {
      "cell_type": "code",
      "source": [
        "#Exploring one of the duplicated app name. Roblox exists 9 times in the Google dataset\n",
        "android.groupby('App').get_group('ROBLOX')"
      ],
      "metadata": {
        "colab": {
          "base_uri": "https://localhost:8080/",
          "height": 569
        },
        "id": "p4kvYgUXLBEj",
        "outputId": "1e985a69-8822-48c5-9676-323722f6f189"
      },
      "execution_count": null,
      "outputs": [
        {
          "output_type": "execute_result",
          "data": {
            "text/plain": [
              "         App Category  Rating  Reviews Size      Installs  Type Price  \\\n",
              "1653  ROBLOX     GAME     4.5  4447388  67M  100,000,000+  Free     0   \n",
              "1701  ROBLOX     GAME     4.5  4447346  67M  100,000,000+  Free     0   \n",
              "1748  ROBLOX     GAME     4.5  4448791  67M  100,000,000+  Free     0   \n",
              "1841  ROBLOX     GAME     4.5  4449882  67M  100,000,000+  Free     0   \n",
              "1870  ROBLOX     GAME     4.5  4449910  67M  100,000,000+  Free     0   \n",
              "2016  ROBLOX   FAMILY     4.5  4449910  67M  100,000,000+  Free     0   \n",
              "2088  ROBLOX   FAMILY     4.5  4450855  67M  100,000,000+  Free     0   \n",
              "2206  ROBLOX   FAMILY     4.5  4450890  67M  100,000,000+  Free     0   \n",
              "4527  ROBLOX   FAMILY     4.5  4443407  67M  100,000,000+  Free     0   \n",
              "\n",
              "     Content Rating                        Genres   Last Updated  \\\n",
              "1653   Everyone 10+  Adventure;Action & Adventure  July 31, 2018   \n",
              "1701   Everyone 10+  Adventure;Action & Adventure  July 31, 2018   \n",
              "1748   Everyone 10+  Adventure;Action & Adventure  July 31, 2018   \n",
              "1841   Everyone 10+  Adventure;Action & Adventure  July 31, 2018   \n",
              "1870   Everyone 10+  Adventure;Action & Adventure  July 31, 2018   \n",
              "2016   Everyone 10+  Adventure;Action & Adventure  July 31, 2018   \n",
              "2088   Everyone 10+  Adventure;Action & Adventure  July 31, 2018   \n",
              "2206   Everyone 10+  Adventure;Action & Adventure  July 31, 2018   \n",
              "4527   Everyone 10+  Adventure;Action & Adventure  July 31, 2018   \n",
              "\n",
              "       Current Ver Android Ver  \n",
              "1653  2.347.225742  4.1 and up  \n",
              "1701  2.347.225742  4.1 and up  \n",
              "1748  2.347.225742  4.1 and up  \n",
              "1841  2.347.225742  4.1 and up  \n",
              "1870  2.347.225742  4.1 and up  \n",
              "2016  2.347.225742  4.1 and up  \n",
              "2088  2.347.225742  4.1 and up  \n",
              "2206  2.347.225742  4.1 and up  \n",
              "4527  2.347.225742  4.1 and up  "
            ],
            "text/html": [
              "\n",
              "  <div id=\"df-08401d78-930e-4378-a533-689bb2372cf2\">\n",
              "    <div class=\"colab-df-container\">\n",
              "      <div>\n",
              "<style scoped>\n",
              "    .dataframe tbody tr th:only-of-type {\n",
              "        vertical-align: middle;\n",
              "    }\n",
              "\n",
              "    .dataframe tbody tr th {\n",
              "        vertical-align: top;\n",
              "    }\n",
              "\n",
              "    .dataframe thead th {\n",
              "        text-align: right;\n",
              "    }\n",
              "</style>\n",
              "<table border=\"1\" class=\"dataframe\">\n",
              "  <thead>\n",
              "    <tr style=\"text-align: right;\">\n",
              "      <th></th>\n",
              "      <th>App</th>\n",
              "      <th>Category</th>\n",
              "      <th>Rating</th>\n",
              "      <th>Reviews</th>\n",
              "      <th>Size</th>\n",
              "      <th>Installs</th>\n",
              "      <th>Type</th>\n",
              "      <th>Price</th>\n",
              "      <th>Content Rating</th>\n",
              "      <th>Genres</th>\n",
              "      <th>Last Updated</th>\n",
              "      <th>Current Ver</th>\n",
              "      <th>Android Ver</th>\n",
              "    </tr>\n",
              "  </thead>\n",
              "  <tbody>\n",
              "    <tr>\n",
              "      <th>1653</th>\n",
              "      <td>ROBLOX</td>\n",
              "      <td>GAME</td>\n",
              "      <td>4.5</td>\n",
              "      <td>4447388</td>\n",
              "      <td>67M</td>\n",
              "      <td>100,000,000+</td>\n",
              "      <td>Free</td>\n",
              "      <td>0</td>\n",
              "      <td>Everyone 10+</td>\n",
              "      <td>Adventure;Action &amp; Adventure</td>\n",
              "      <td>July 31, 2018</td>\n",
              "      <td>2.347.225742</td>\n",
              "      <td>4.1 and up</td>\n",
              "    </tr>\n",
              "    <tr>\n",
              "      <th>1701</th>\n",
              "      <td>ROBLOX</td>\n",
              "      <td>GAME</td>\n",
              "      <td>4.5</td>\n",
              "      <td>4447346</td>\n",
              "      <td>67M</td>\n",
              "      <td>100,000,000+</td>\n",
              "      <td>Free</td>\n",
              "      <td>0</td>\n",
              "      <td>Everyone 10+</td>\n",
              "      <td>Adventure;Action &amp; Adventure</td>\n",
              "      <td>July 31, 2018</td>\n",
              "      <td>2.347.225742</td>\n",
              "      <td>4.1 and up</td>\n",
              "    </tr>\n",
              "    <tr>\n",
              "      <th>1748</th>\n",
              "      <td>ROBLOX</td>\n",
              "      <td>GAME</td>\n",
              "      <td>4.5</td>\n",
              "      <td>4448791</td>\n",
              "      <td>67M</td>\n",
              "      <td>100,000,000+</td>\n",
              "      <td>Free</td>\n",
              "      <td>0</td>\n",
              "      <td>Everyone 10+</td>\n",
              "      <td>Adventure;Action &amp; Adventure</td>\n",
              "      <td>July 31, 2018</td>\n",
              "      <td>2.347.225742</td>\n",
              "      <td>4.1 and up</td>\n",
              "    </tr>\n",
              "    <tr>\n",
              "      <th>1841</th>\n",
              "      <td>ROBLOX</td>\n",
              "      <td>GAME</td>\n",
              "      <td>4.5</td>\n",
              "      <td>4449882</td>\n",
              "      <td>67M</td>\n",
              "      <td>100,000,000+</td>\n",
              "      <td>Free</td>\n",
              "      <td>0</td>\n",
              "      <td>Everyone 10+</td>\n",
              "      <td>Adventure;Action &amp; Adventure</td>\n",
              "      <td>July 31, 2018</td>\n",
              "      <td>2.347.225742</td>\n",
              "      <td>4.1 and up</td>\n",
              "    </tr>\n",
              "    <tr>\n",
              "      <th>1870</th>\n",
              "      <td>ROBLOX</td>\n",
              "      <td>GAME</td>\n",
              "      <td>4.5</td>\n",
              "      <td>4449910</td>\n",
              "      <td>67M</td>\n",
              "      <td>100,000,000+</td>\n",
              "      <td>Free</td>\n",
              "      <td>0</td>\n",
              "      <td>Everyone 10+</td>\n",
              "      <td>Adventure;Action &amp; Adventure</td>\n",
              "      <td>July 31, 2018</td>\n",
              "      <td>2.347.225742</td>\n",
              "      <td>4.1 and up</td>\n",
              "    </tr>\n",
              "    <tr>\n",
              "      <th>2016</th>\n",
              "      <td>ROBLOX</td>\n",
              "      <td>FAMILY</td>\n",
              "      <td>4.5</td>\n",
              "      <td>4449910</td>\n",
              "      <td>67M</td>\n",
              "      <td>100,000,000+</td>\n",
              "      <td>Free</td>\n",
              "      <td>0</td>\n",
              "      <td>Everyone 10+</td>\n",
              "      <td>Adventure;Action &amp; Adventure</td>\n",
              "      <td>July 31, 2018</td>\n",
              "      <td>2.347.225742</td>\n",
              "      <td>4.1 and up</td>\n",
              "    </tr>\n",
              "    <tr>\n",
              "      <th>2088</th>\n",
              "      <td>ROBLOX</td>\n",
              "      <td>FAMILY</td>\n",
              "      <td>4.5</td>\n",
              "      <td>4450855</td>\n",
              "      <td>67M</td>\n",
              "      <td>100,000,000+</td>\n",
              "      <td>Free</td>\n",
              "      <td>0</td>\n",
              "      <td>Everyone 10+</td>\n",
              "      <td>Adventure;Action &amp; Adventure</td>\n",
              "      <td>July 31, 2018</td>\n",
              "      <td>2.347.225742</td>\n",
              "      <td>4.1 and up</td>\n",
              "    </tr>\n",
              "    <tr>\n",
              "      <th>2206</th>\n",
              "      <td>ROBLOX</td>\n",
              "      <td>FAMILY</td>\n",
              "      <td>4.5</td>\n",
              "      <td>4450890</td>\n",
              "      <td>67M</td>\n",
              "      <td>100,000,000+</td>\n",
              "      <td>Free</td>\n",
              "      <td>0</td>\n",
              "      <td>Everyone 10+</td>\n",
              "      <td>Adventure;Action &amp; Adventure</td>\n",
              "      <td>July 31, 2018</td>\n",
              "      <td>2.347.225742</td>\n",
              "      <td>4.1 and up</td>\n",
              "    </tr>\n",
              "    <tr>\n",
              "      <th>4527</th>\n",
              "      <td>ROBLOX</td>\n",
              "      <td>FAMILY</td>\n",
              "      <td>4.5</td>\n",
              "      <td>4443407</td>\n",
              "      <td>67M</td>\n",
              "      <td>100,000,000+</td>\n",
              "      <td>Free</td>\n",
              "      <td>0</td>\n",
              "      <td>Everyone 10+</td>\n",
              "      <td>Adventure;Action &amp; Adventure</td>\n",
              "      <td>July 31, 2018</td>\n",
              "      <td>2.347.225742</td>\n",
              "      <td>4.1 and up</td>\n",
              "    </tr>\n",
              "  </tbody>\n",
              "</table>\n",
              "</div>\n",
              "      <button class=\"colab-df-convert\" onclick=\"convertToInteractive('df-08401d78-930e-4378-a533-689bb2372cf2')\"\n",
              "              title=\"Convert this dataframe to an interactive table.\"\n",
              "              style=\"display:none;\">\n",
              "        \n",
              "  <svg xmlns=\"http://www.w3.org/2000/svg\" height=\"24px\"viewBox=\"0 0 24 24\"\n",
              "       width=\"24px\">\n",
              "    <path d=\"M0 0h24v24H0V0z\" fill=\"none\"/>\n",
              "    <path d=\"M18.56 5.44l.94 2.06.94-2.06 2.06-.94-2.06-.94-.94-2.06-.94 2.06-2.06.94zm-11 1L8.5 8.5l.94-2.06 2.06-.94-2.06-.94L8.5 2.5l-.94 2.06-2.06.94zm10 10l.94 2.06.94-2.06 2.06-.94-2.06-.94-.94-2.06-.94 2.06-2.06.94z\"/><path d=\"M17.41 7.96l-1.37-1.37c-.4-.4-.92-.59-1.43-.59-.52 0-1.04.2-1.43.59L10.3 9.45l-7.72 7.72c-.78.78-.78 2.05 0 2.83L4 21.41c.39.39.9.59 1.41.59.51 0 1.02-.2 1.41-.59l7.78-7.78 2.81-2.81c.8-.78.8-2.07 0-2.86zM5.41 20L4 18.59l7.72-7.72 1.47 1.35L5.41 20z\"/>\n",
              "  </svg>\n",
              "      </button>\n",
              "      \n",
              "  <style>\n",
              "    .colab-df-container {\n",
              "      display:flex;\n",
              "      flex-wrap:wrap;\n",
              "      gap: 12px;\n",
              "    }\n",
              "\n",
              "    .colab-df-convert {\n",
              "      background-color: #E8F0FE;\n",
              "      border: none;\n",
              "      border-radius: 50%;\n",
              "      cursor: pointer;\n",
              "      display: none;\n",
              "      fill: #1967D2;\n",
              "      height: 32px;\n",
              "      padding: 0 0 0 0;\n",
              "      width: 32px;\n",
              "    }\n",
              "\n",
              "    .colab-df-convert:hover {\n",
              "      background-color: #E2EBFA;\n",
              "      box-shadow: 0px 1px 2px rgba(60, 64, 67, 0.3), 0px 1px 3px 1px rgba(60, 64, 67, 0.15);\n",
              "      fill: #174EA6;\n",
              "    }\n",
              "\n",
              "    [theme=dark] .colab-df-convert {\n",
              "      background-color: #3B4455;\n",
              "      fill: #D2E3FC;\n",
              "    }\n",
              "\n",
              "    [theme=dark] .colab-df-convert:hover {\n",
              "      background-color: #434B5C;\n",
              "      box-shadow: 0px 1px 3px 1px rgba(0, 0, 0, 0.15);\n",
              "      filter: drop-shadow(0px 1px 2px rgba(0, 0, 0, 0.3));\n",
              "      fill: #FFFFFF;\n",
              "    }\n",
              "  </style>\n",
              "\n",
              "      <script>\n",
              "        const buttonEl =\n",
              "          document.querySelector('#df-08401d78-930e-4378-a533-689bb2372cf2 button.colab-df-convert');\n",
              "        buttonEl.style.display =\n",
              "          google.colab.kernel.accessAllowed ? 'block' : 'none';\n",
              "\n",
              "        async function convertToInteractive(key) {\n",
              "          const element = document.querySelector('#df-08401d78-930e-4378-a533-689bb2372cf2');\n",
              "          const dataTable =\n",
              "            await google.colab.kernel.invokeFunction('convertToInteractive',\n",
              "                                                     [key], {});\n",
              "          if (!dataTable) return;\n",
              "\n",
              "          const docLinkHtml = 'Like what you see? Visit the ' +\n",
              "            '<a target=\"_blank\" href=https://colab.research.google.com/notebooks/data_table.ipynb>data table notebook</a>'\n",
              "            + ' to learn more about interactive tables.';\n",
              "          element.innerHTML = '';\n",
              "          dataTable['output_type'] = 'display_data';\n",
              "          await google.colab.output.renderOutput(dataTable, element);\n",
              "          const docLink = document.createElement('div');\n",
              "          docLink.innerHTML = docLinkHtml;\n",
              "          element.appendChild(docLink);\n",
              "        }\n",
              "      </script>\n",
              "    </div>\n",
              "  </div>\n",
              "  "
            ]
          },
          "metadata": {},
          "execution_count": 57
        }
      ]
    },
    {
      "cell_type": "code",
      "source": [
        "#Exploring some of the duplicate app names in the ios Dataset\n",
        "ios.track_name.value_counts()"
      ],
      "metadata": {
        "colab": {
          "base_uri": "https://localhost:8080/"
        },
        "id": "MlGvsMvPgKtE",
        "outputId": "db92b1c6-8c88-444e-d8ce-dac4ef2cfb3b"
      },
      "execution_count": null,
      "outputs": [
        {
          "output_type": "execute_result",
          "data": {
            "text/plain": [
              "VR Roller Coaster                                   2\n",
              "Mannequin Challenge                                 2\n",
              "Facebook                                            1\n",
              "iFleeing                                            1\n",
              "Fear for Sale: The House on Black River (Full)      1\n",
              "                                                   ..\n",
              "PDF Converter - Convert Documents, Photos to PDF    1\n",
              "Motion Math: Hungry Fish                            1\n",
              "MindNode – Delightful Mind Mapping                  1\n",
              "Skylanders SuperChargers                            1\n",
              "みんなのお弁当 by クックパッド ~お弁当をレシピ付きで記録・共有~                 1\n",
              "Name: track_name, Length: 7195, dtype: int64"
            ]
          },
          "metadata": {},
          "execution_count": 58
        }
      ]
    },
    {
      "cell_type": "markdown",
      "source": [
        "**Comment:** *The duplicated app names across ios datsets are `VR Roller Coaster` and `Mannequin Challenge`.*"
      ],
      "metadata": {
        "id": "-ZGjkOnFrSrX"
      }
    },
    {
      "cell_type": "code",
      "source": [
        "ios.groupby('track_name').get_group('VR Roller Coaster')"
      ],
      "metadata": {
        "colab": {
          "base_uri": "https://localhost:8080/",
          "height": 211
        },
        "id": "fMEYbF9vgySD",
        "outputId": "984489c2-6331-4332-9af5-251674abbc22"
      },
      "execution_count": null,
      "outputs": [
        {
          "output_type": "execute_result",
          "data": {
            "text/plain": [
              "              id         track_name  size_bytes currency  price  \\\n",
              "4442   952877179  VR Roller Coaster   169523200      USD    0.0   \n",
              "4831  1089824278  VR Roller Coaster   240964608      USD    0.0   \n",
              "\n",
              "      rating_count_tot  rating_count_ver  user_rating  user_rating_ver    ver  \\\n",
              "4442               107               102          3.5              3.5  2.0.0   \n",
              "4831                67                44          3.5              4.0   0.81   \n",
              "\n",
              "     cont_rating prime_genre  sup_devices.num  ipadSc_urls.num  lang.num  \\\n",
              "4442          4+       Games               37                5         1   \n",
              "4831          4+       Games               38                0         1   \n",
              "\n",
              "      vpp_lic  \n",
              "4442        1  \n",
              "4831        1  "
            ],
            "text/html": [
              "\n",
              "  <div id=\"df-dbe20a66-030f-4cbd-ac41-de81eafa3462\">\n",
              "    <div class=\"colab-df-container\">\n",
              "      <div>\n",
              "<style scoped>\n",
              "    .dataframe tbody tr th:only-of-type {\n",
              "        vertical-align: middle;\n",
              "    }\n",
              "\n",
              "    .dataframe tbody tr th {\n",
              "        vertical-align: top;\n",
              "    }\n",
              "\n",
              "    .dataframe thead th {\n",
              "        text-align: right;\n",
              "    }\n",
              "</style>\n",
              "<table border=\"1\" class=\"dataframe\">\n",
              "  <thead>\n",
              "    <tr style=\"text-align: right;\">\n",
              "      <th></th>\n",
              "      <th>id</th>\n",
              "      <th>track_name</th>\n",
              "      <th>size_bytes</th>\n",
              "      <th>currency</th>\n",
              "      <th>price</th>\n",
              "      <th>rating_count_tot</th>\n",
              "      <th>rating_count_ver</th>\n",
              "      <th>user_rating</th>\n",
              "      <th>user_rating_ver</th>\n",
              "      <th>ver</th>\n",
              "      <th>cont_rating</th>\n",
              "      <th>prime_genre</th>\n",
              "      <th>sup_devices.num</th>\n",
              "      <th>ipadSc_urls.num</th>\n",
              "      <th>lang.num</th>\n",
              "      <th>vpp_lic</th>\n",
              "    </tr>\n",
              "  </thead>\n",
              "  <tbody>\n",
              "    <tr>\n",
              "      <th>4442</th>\n",
              "      <td>952877179</td>\n",
              "      <td>VR Roller Coaster</td>\n",
              "      <td>169523200</td>\n",
              "      <td>USD</td>\n",
              "      <td>0.0</td>\n",
              "      <td>107</td>\n",
              "      <td>102</td>\n",
              "      <td>3.5</td>\n",
              "      <td>3.5</td>\n",
              "      <td>2.0.0</td>\n",
              "      <td>4+</td>\n",
              "      <td>Games</td>\n",
              "      <td>37</td>\n",
              "      <td>5</td>\n",
              "      <td>1</td>\n",
              "      <td>1</td>\n",
              "    </tr>\n",
              "    <tr>\n",
              "      <th>4831</th>\n",
              "      <td>1089824278</td>\n",
              "      <td>VR Roller Coaster</td>\n",
              "      <td>240964608</td>\n",
              "      <td>USD</td>\n",
              "      <td>0.0</td>\n",
              "      <td>67</td>\n",
              "      <td>44</td>\n",
              "      <td>3.5</td>\n",
              "      <td>4.0</td>\n",
              "      <td>0.81</td>\n",
              "      <td>4+</td>\n",
              "      <td>Games</td>\n",
              "      <td>38</td>\n",
              "      <td>0</td>\n",
              "      <td>1</td>\n",
              "      <td>1</td>\n",
              "    </tr>\n",
              "  </tbody>\n",
              "</table>\n",
              "</div>\n",
              "      <button class=\"colab-df-convert\" onclick=\"convertToInteractive('df-dbe20a66-030f-4cbd-ac41-de81eafa3462')\"\n",
              "              title=\"Convert this dataframe to an interactive table.\"\n",
              "              style=\"display:none;\">\n",
              "        \n",
              "  <svg xmlns=\"http://www.w3.org/2000/svg\" height=\"24px\"viewBox=\"0 0 24 24\"\n",
              "       width=\"24px\">\n",
              "    <path d=\"M0 0h24v24H0V0z\" fill=\"none\"/>\n",
              "    <path d=\"M18.56 5.44l.94 2.06.94-2.06 2.06-.94-2.06-.94-.94-2.06-.94 2.06-2.06.94zm-11 1L8.5 8.5l.94-2.06 2.06-.94-2.06-.94L8.5 2.5l-.94 2.06-2.06.94zm10 10l.94 2.06.94-2.06 2.06-.94-2.06-.94-.94-2.06-.94 2.06-2.06.94z\"/><path d=\"M17.41 7.96l-1.37-1.37c-.4-.4-.92-.59-1.43-.59-.52 0-1.04.2-1.43.59L10.3 9.45l-7.72 7.72c-.78.78-.78 2.05 0 2.83L4 21.41c.39.39.9.59 1.41.59.51 0 1.02-.2 1.41-.59l7.78-7.78 2.81-2.81c.8-.78.8-2.07 0-2.86zM5.41 20L4 18.59l7.72-7.72 1.47 1.35L5.41 20z\"/>\n",
              "  </svg>\n",
              "      </button>\n",
              "      \n",
              "  <style>\n",
              "    .colab-df-container {\n",
              "      display:flex;\n",
              "      flex-wrap:wrap;\n",
              "      gap: 12px;\n",
              "    }\n",
              "\n",
              "    .colab-df-convert {\n",
              "      background-color: #E8F0FE;\n",
              "      border: none;\n",
              "      border-radius: 50%;\n",
              "      cursor: pointer;\n",
              "      display: none;\n",
              "      fill: #1967D2;\n",
              "      height: 32px;\n",
              "      padding: 0 0 0 0;\n",
              "      width: 32px;\n",
              "    }\n",
              "\n",
              "    .colab-df-convert:hover {\n",
              "      background-color: #E2EBFA;\n",
              "      box-shadow: 0px 1px 2px rgba(60, 64, 67, 0.3), 0px 1px 3px 1px rgba(60, 64, 67, 0.15);\n",
              "      fill: #174EA6;\n",
              "    }\n",
              "\n",
              "    [theme=dark] .colab-df-convert {\n",
              "      background-color: #3B4455;\n",
              "      fill: #D2E3FC;\n",
              "    }\n",
              "\n",
              "    [theme=dark] .colab-df-convert:hover {\n",
              "      background-color: #434B5C;\n",
              "      box-shadow: 0px 1px 3px 1px rgba(0, 0, 0, 0.15);\n",
              "      filter: drop-shadow(0px 1px 2px rgba(0, 0, 0, 0.3));\n",
              "      fill: #FFFFFF;\n",
              "    }\n",
              "  </style>\n",
              "\n",
              "      <script>\n",
              "        const buttonEl =\n",
              "          document.querySelector('#df-dbe20a66-030f-4cbd-ac41-de81eafa3462 button.colab-df-convert');\n",
              "        buttonEl.style.display =\n",
              "          google.colab.kernel.accessAllowed ? 'block' : 'none';\n",
              "\n",
              "        async function convertToInteractive(key) {\n",
              "          const element = document.querySelector('#df-dbe20a66-030f-4cbd-ac41-de81eafa3462');\n",
              "          const dataTable =\n",
              "            await google.colab.kernel.invokeFunction('convertToInteractive',\n",
              "                                                     [key], {});\n",
              "          if (!dataTable) return;\n",
              "\n",
              "          const docLinkHtml = 'Like what you see? Visit the ' +\n",
              "            '<a target=\"_blank\" href=https://colab.research.google.com/notebooks/data_table.ipynb>data table notebook</a>'\n",
              "            + ' to learn more about interactive tables.';\n",
              "          element.innerHTML = '';\n",
              "          dataTable['output_type'] = 'display_data';\n",
              "          await google.colab.output.renderOutput(dataTable, element);\n",
              "          const docLink = document.createElement('div');\n",
              "          docLink.innerHTML = docLinkHtml;\n",
              "          element.appendChild(docLink);\n",
              "        }\n",
              "      </script>\n",
              "    </div>\n",
              "  </div>\n",
              "  "
            ]
          },
          "metadata": {},
          "execution_count": 59
        }
      ]
    },
    {
      "cell_type": "markdown",
      "source": [
        "* Dropping duplicates"
      ],
      "metadata": {
        "id": "ViolVV9mk-Sq"
      }
    },
    {
      "cell_type": "code",
      "source": [
        "#I sorted the values in the Reviews columns by descending order, identified duplicates app names and dropped them. \n",
        "android_clean = android.sort_values('Reviews', ascending=False).drop_duplicates('App').sort_index()\n",
        "android_clean"
      ],
      "metadata": {
        "colab": {
          "base_uri": "https://localhost:8080/",
          "height": 1000
        },
        "id": "IpwbejoaChjF",
        "outputId": "9a3a3457-0e66-4967-baf1-7dc5ccd53411"
      },
      "execution_count": null,
      "outputs": [
        {
          "output_type": "execute_result",
          "data": {
            "text/plain": [
              "                                                     App             Category  \\\n",
              "0         Photo Editor & Candy Camera & Grid & ScrapBook       ART_AND_DESIGN   \n",
              "2      U Launcher Lite – FREE Live Cool Themes, Hide ...       ART_AND_DESIGN   \n",
              "3                                  Sketch - Draw & Paint       ART_AND_DESIGN   \n",
              "4                  Pixel Draw - Number Art Coloring Book       ART_AND_DESIGN   \n",
              "5                             Paper flowers instructions       ART_AND_DESIGN   \n",
              "...                                                  ...                  ...   \n",
              "10836                                   Sya9a Maroc - FR               FAMILY   \n",
              "10837                   Fr. Mike Schmitz Audio Teachings               FAMILY   \n",
              "10838                             Parkinson Exercices FR              MEDICAL   \n",
              "10839                      The SCP Foundation DB fr nn5n  BOOKS_AND_REFERENCE   \n",
              "10840      iHoroscope - 2018 Daily Horoscope & Astrology            LIFESTYLE   \n",
              "\n",
              "       Rating Reviews                Size     Installs  Type Price  \\\n",
              "0         4.1     159                 19M      10,000+  Free     0   \n",
              "2         4.7   87510                8.7M   5,000,000+  Free     0   \n",
              "3         4.5  215644                 25M  50,000,000+  Free     0   \n",
              "4         4.3     967                2.8M     100,000+  Free     0   \n",
              "5         4.4     167                5.6M      50,000+  Free     0   \n",
              "...       ...     ...                 ...          ...   ...   ...   \n",
              "10836     4.5      38                 53M       5,000+  Free     0   \n",
              "10837     5.0       4                3.6M         100+  Free     0   \n",
              "10838     NaN       3                9.5M       1,000+  Free     0   \n",
              "10839     4.5     114  Varies with device       1,000+  Free     0   \n",
              "10840     4.5  398307                 19M  10,000,000+  Free     0   \n",
              "\n",
              "      Content Rating                   Genres      Last Updated  \\\n",
              "0           Everyone             Art & Design   January 7, 2018   \n",
              "2           Everyone             Art & Design    August 1, 2018   \n",
              "3               Teen             Art & Design      June 8, 2018   \n",
              "4           Everyone  Art & Design;Creativity     June 20, 2018   \n",
              "5           Everyone             Art & Design    March 26, 2017   \n",
              "...              ...                      ...               ...   \n",
              "10836       Everyone                Education     July 25, 2017   \n",
              "10837       Everyone                Education      July 6, 2018   \n",
              "10838       Everyone                  Medical  January 20, 2017   \n",
              "10839     Mature 17+        Books & Reference  January 19, 2015   \n",
              "10840       Everyone                Lifestyle     July 25, 2018   \n",
              "\n",
              "              Current Ver         Android Ver  \n",
              "0                   1.0.0        4.0.3 and up  \n",
              "2                   1.2.4        4.0.3 and up  \n",
              "3      Varies with device          4.2 and up  \n",
              "4                     1.1          4.4 and up  \n",
              "5                     1.0          2.3 and up  \n",
              "...                   ...                 ...  \n",
              "10836                1.48          4.1 and up  \n",
              "10837                 1.0          4.1 and up  \n",
              "10838                 1.0          2.2 and up  \n",
              "10839  Varies with device  Varies with device  \n",
              "10840  Varies with device  Varies with device  \n",
              "\n",
              "[9659 rows x 13 columns]"
            ],
            "text/html": [
              "\n",
              "  <div id=\"df-5adc4fad-84b7-405e-98a8-a508efdfccc6\">\n",
              "    <div class=\"colab-df-container\">\n",
              "      <div>\n",
              "<style scoped>\n",
              "    .dataframe tbody tr th:only-of-type {\n",
              "        vertical-align: middle;\n",
              "    }\n",
              "\n",
              "    .dataframe tbody tr th {\n",
              "        vertical-align: top;\n",
              "    }\n",
              "\n",
              "    .dataframe thead th {\n",
              "        text-align: right;\n",
              "    }\n",
              "</style>\n",
              "<table border=\"1\" class=\"dataframe\">\n",
              "  <thead>\n",
              "    <tr style=\"text-align: right;\">\n",
              "      <th></th>\n",
              "      <th>App</th>\n",
              "      <th>Category</th>\n",
              "      <th>Rating</th>\n",
              "      <th>Reviews</th>\n",
              "      <th>Size</th>\n",
              "      <th>Installs</th>\n",
              "      <th>Type</th>\n",
              "      <th>Price</th>\n",
              "      <th>Content Rating</th>\n",
              "      <th>Genres</th>\n",
              "      <th>Last Updated</th>\n",
              "      <th>Current Ver</th>\n",
              "      <th>Android Ver</th>\n",
              "    </tr>\n",
              "  </thead>\n",
              "  <tbody>\n",
              "    <tr>\n",
              "      <th>0</th>\n",
              "      <td>Photo Editor &amp; Candy Camera &amp; Grid &amp; ScrapBook</td>\n",
              "      <td>ART_AND_DESIGN</td>\n",
              "      <td>4.1</td>\n",
              "      <td>159</td>\n",
              "      <td>19M</td>\n",
              "      <td>10,000+</td>\n",
              "      <td>Free</td>\n",
              "      <td>0</td>\n",
              "      <td>Everyone</td>\n",
              "      <td>Art &amp; Design</td>\n",
              "      <td>January 7, 2018</td>\n",
              "      <td>1.0.0</td>\n",
              "      <td>4.0.3 and up</td>\n",
              "    </tr>\n",
              "    <tr>\n",
              "      <th>2</th>\n",
              "      <td>U Launcher Lite – FREE Live Cool Themes, Hide ...</td>\n",
              "      <td>ART_AND_DESIGN</td>\n",
              "      <td>4.7</td>\n",
              "      <td>87510</td>\n",
              "      <td>8.7M</td>\n",
              "      <td>5,000,000+</td>\n",
              "      <td>Free</td>\n",
              "      <td>0</td>\n",
              "      <td>Everyone</td>\n",
              "      <td>Art &amp; Design</td>\n",
              "      <td>August 1, 2018</td>\n",
              "      <td>1.2.4</td>\n",
              "      <td>4.0.3 and up</td>\n",
              "    </tr>\n",
              "    <tr>\n",
              "      <th>3</th>\n",
              "      <td>Sketch - Draw &amp; Paint</td>\n",
              "      <td>ART_AND_DESIGN</td>\n",
              "      <td>4.5</td>\n",
              "      <td>215644</td>\n",
              "      <td>25M</td>\n",
              "      <td>50,000,000+</td>\n",
              "      <td>Free</td>\n",
              "      <td>0</td>\n",
              "      <td>Teen</td>\n",
              "      <td>Art &amp; Design</td>\n",
              "      <td>June 8, 2018</td>\n",
              "      <td>Varies with device</td>\n",
              "      <td>4.2 and up</td>\n",
              "    </tr>\n",
              "    <tr>\n",
              "      <th>4</th>\n",
              "      <td>Pixel Draw - Number Art Coloring Book</td>\n",
              "      <td>ART_AND_DESIGN</td>\n",
              "      <td>4.3</td>\n",
              "      <td>967</td>\n",
              "      <td>2.8M</td>\n",
              "      <td>100,000+</td>\n",
              "      <td>Free</td>\n",
              "      <td>0</td>\n",
              "      <td>Everyone</td>\n",
              "      <td>Art &amp; Design;Creativity</td>\n",
              "      <td>June 20, 2018</td>\n",
              "      <td>1.1</td>\n",
              "      <td>4.4 and up</td>\n",
              "    </tr>\n",
              "    <tr>\n",
              "      <th>5</th>\n",
              "      <td>Paper flowers instructions</td>\n",
              "      <td>ART_AND_DESIGN</td>\n",
              "      <td>4.4</td>\n",
              "      <td>167</td>\n",
              "      <td>5.6M</td>\n",
              "      <td>50,000+</td>\n",
              "      <td>Free</td>\n",
              "      <td>0</td>\n",
              "      <td>Everyone</td>\n",
              "      <td>Art &amp; Design</td>\n",
              "      <td>March 26, 2017</td>\n",
              "      <td>1.0</td>\n",
              "      <td>2.3 and up</td>\n",
              "    </tr>\n",
              "    <tr>\n",
              "      <th>...</th>\n",
              "      <td>...</td>\n",
              "      <td>...</td>\n",
              "      <td>...</td>\n",
              "      <td>...</td>\n",
              "      <td>...</td>\n",
              "      <td>...</td>\n",
              "      <td>...</td>\n",
              "      <td>...</td>\n",
              "      <td>...</td>\n",
              "      <td>...</td>\n",
              "      <td>...</td>\n",
              "      <td>...</td>\n",
              "      <td>...</td>\n",
              "    </tr>\n",
              "    <tr>\n",
              "      <th>10836</th>\n",
              "      <td>Sya9a Maroc - FR</td>\n",
              "      <td>FAMILY</td>\n",
              "      <td>4.5</td>\n",
              "      <td>38</td>\n",
              "      <td>53M</td>\n",
              "      <td>5,000+</td>\n",
              "      <td>Free</td>\n",
              "      <td>0</td>\n",
              "      <td>Everyone</td>\n",
              "      <td>Education</td>\n",
              "      <td>July 25, 2017</td>\n",
              "      <td>1.48</td>\n",
              "      <td>4.1 and up</td>\n",
              "    </tr>\n",
              "    <tr>\n",
              "      <th>10837</th>\n",
              "      <td>Fr. Mike Schmitz Audio Teachings</td>\n",
              "      <td>FAMILY</td>\n",
              "      <td>5.0</td>\n",
              "      <td>4</td>\n",
              "      <td>3.6M</td>\n",
              "      <td>100+</td>\n",
              "      <td>Free</td>\n",
              "      <td>0</td>\n",
              "      <td>Everyone</td>\n",
              "      <td>Education</td>\n",
              "      <td>July 6, 2018</td>\n",
              "      <td>1.0</td>\n",
              "      <td>4.1 and up</td>\n",
              "    </tr>\n",
              "    <tr>\n",
              "      <th>10838</th>\n",
              "      <td>Parkinson Exercices FR</td>\n",
              "      <td>MEDICAL</td>\n",
              "      <td>NaN</td>\n",
              "      <td>3</td>\n",
              "      <td>9.5M</td>\n",
              "      <td>1,000+</td>\n",
              "      <td>Free</td>\n",
              "      <td>0</td>\n",
              "      <td>Everyone</td>\n",
              "      <td>Medical</td>\n",
              "      <td>January 20, 2017</td>\n",
              "      <td>1.0</td>\n",
              "      <td>2.2 and up</td>\n",
              "    </tr>\n",
              "    <tr>\n",
              "      <th>10839</th>\n",
              "      <td>The SCP Foundation DB fr nn5n</td>\n",
              "      <td>BOOKS_AND_REFERENCE</td>\n",
              "      <td>4.5</td>\n",
              "      <td>114</td>\n",
              "      <td>Varies with device</td>\n",
              "      <td>1,000+</td>\n",
              "      <td>Free</td>\n",
              "      <td>0</td>\n",
              "      <td>Mature 17+</td>\n",
              "      <td>Books &amp; Reference</td>\n",
              "      <td>January 19, 2015</td>\n",
              "      <td>Varies with device</td>\n",
              "      <td>Varies with device</td>\n",
              "    </tr>\n",
              "    <tr>\n",
              "      <th>10840</th>\n",
              "      <td>iHoroscope - 2018 Daily Horoscope &amp; Astrology</td>\n",
              "      <td>LIFESTYLE</td>\n",
              "      <td>4.5</td>\n",
              "      <td>398307</td>\n",
              "      <td>19M</td>\n",
              "      <td>10,000,000+</td>\n",
              "      <td>Free</td>\n",
              "      <td>0</td>\n",
              "      <td>Everyone</td>\n",
              "      <td>Lifestyle</td>\n",
              "      <td>July 25, 2018</td>\n",
              "      <td>Varies with device</td>\n",
              "      <td>Varies with device</td>\n",
              "    </tr>\n",
              "  </tbody>\n",
              "</table>\n",
              "<p>9659 rows × 13 columns</p>\n",
              "</div>\n",
              "      <button class=\"colab-df-convert\" onclick=\"convertToInteractive('df-5adc4fad-84b7-405e-98a8-a508efdfccc6')\"\n",
              "              title=\"Convert this dataframe to an interactive table.\"\n",
              "              style=\"display:none;\">\n",
              "        \n",
              "  <svg xmlns=\"http://www.w3.org/2000/svg\" height=\"24px\"viewBox=\"0 0 24 24\"\n",
              "       width=\"24px\">\n",
              "    <path d=\"M0 0h24v24H0V0z\" fill=\"none\"/>\n",
              "    <path d=\"M18.56 5.44l.94 2.06.94-2.06 2.06-.94-2.06-.94-.94-2.06-.94 2.06-2.06.94zm-11 1L8.5 8.5l.94-2.06 2.06-.94-2.06-.94L8.5 2.5l-.94 2.06-2.06.94zm10 10l.94 2.06.94-2.06 2.06-.94-2.06-.94-.94-2.06-.94 2.06-2.06.94z\"/><path d=\"M17.41 7.96l-1.37-1.37c-.4-.4-.92-.59-1.43-.59-.52 0-1.04.2-1.43.59L10.3 9.45l-7.72 7.72c-.78.78-.78 2.05 0 2.83L4 21.41c.39.39.9.59 1.41.59.51 0 1.02-.2 1.41-.59l7.78-7.78 2.81-2.81c.8-.78.8-2.07 0-2.86zM5.41 20L4 18.59l7.72-7.72 1.47 1.35L5.41 20z\"/>\n",
              "  </svg>\n",
              "      </button>\n",
              "      \n",
              "  <style>\n",
              "    .colab-df-container {\n",
              "      display:flex;\n",
              "      flex-wrap:wrap;\n",
              "      gap: 12px;\n",
              "    }\n",
              "\n",
              "    .colab-df-convert {\n",
              "      background-color: #E8F0FE;\n",
              "      border: none;\n",
              "      border-radius: 50%;\n",
              "      cursor: pointer;\n",
              "      display: none;\n",
              "      fill: #1967D2;\n",
              "      height: 32px;\n",
              "      padding: 0 0 0 0;\n",
              "      width: 32px;\n",
              "    }\n",
              "\n",
              "    .colab-df-convert:hover {\n",
              "      background-color: #E2EBFA;\n",
              "      box-shadow: 0px 1px 2px rgba(60, 64, 67, 0.3), 0px 1px 3px 1px rgba(60, 64, 67, 0.15);\n",
              "      fill: #174EA6;\n",
              "    }\n",
              "\n",
              "    [theme=dark] .colab-df-convert {\n",
              "      background-color: #3B4455;\n",
              "      fill: #D2E3FC;\n",
              "    }\n",
              "\n",
              "    [theme=dark] .colab-df-convert:hover {\n",
              "      background-color: #434B5C;\n",
              "      box-shadow: 0px 1px 3px 1px rgba(0, 0, 0, 0.15);\n",
              "      filter: drop-shadow(0px 1px 2px rgba(0, 0, 0, 0.3));\n",
              "      fill: #FFFFFF;\n",
              "    }\n",
              "  </style>\n",
              "\n",
              "      <script>\n",
              "        const buttonEl =\n",
              "          document.querySelector('#df-5adc4fad-84b7-405e-98a8-a508efdfccc6 button.colab-df-convert');\n",
              "        buttonEl.style.display =\n",
              "          google.colab.kernel.accessAllowed ? 'block' : 'none';\n",
              "\n",
              "        async function convertToInteractive(key) {\n",
              "          const element = document.querySelector('#df-5adc4fad-84b7-405e-98a8-a508efdfccc6');\n",
              "          const dataTable =\n",
              "            await google.colab.kernel.invokeFunction('convertToInteractive',\n",
              "                                                     [key], {});\n",
              "          if (!dataTable) return;\n",
              "\n",
              "          const docLinkHtml = 'Like what you see? Visit the ' +\n",
              "            '<a target=\"_blank\" href=https://colab.research.google.com/notebooks/data_table.ipynb>data table notebook</a>'\n",
              "            + ' to learn more about interactive tables.';\n",
              "          element.innerHTML = '';\n",
              "          dataTable['output_type'] = 'display_data';\n",
              "          await google.colab.output.renderOutput(dataTable, element);\n",
              "          const docLink = document.createElement('div');\n",
              "          docLink.innerHTML = docLinkHtml;\n",
              "          element.appendChild(docLink);\n",
              "        }\n",
              "      </script>\n",
              "    </div>\n",
              "  </div>\n",
              "  "
            ]
          },
          "metadata": {},
          "execution_count": 60
        }
      ]
    },
    {
      "cell_type": "code",
      "source": [
        "ios_clean = ios.sort_values('rating_count_tot', ascending=False).drop_duplicates('track_name').sort_index()\n",
        "ios_clean"
      ],
      "metadata": {
        "colab": {
          "base_uri": "https://localhost:8080/",
          "height": 869
        },
        "id": "N1i7kowgnoQB",
        "outputId": "c251e059-e5de-44e7-940c-20668345de81"
      },
      "execution_count": null,
      "outputs": [
        {
          "output_type": "execute_result",
          "data": {
            "text/plain": [
              "              id                                    track_name  size_bytes  \\\n",
              "0      284882215                                      Facebook   389879808   \n",
              "1      389801252                                     Instagram   113954816   \n",
              "2      529479190                                Clash of Clans   116476928   \n",
              "3      420009108                                    Temple Run    65921024   \n",
              "4      284035177                       Pandora - Music & Radio   130242560   \n",
              "...          ...                                           ...         ...   \n",
              "7192  1170406182  Shark Boom - Challenge Friends with your Pet   245415936   \n",
              "7193  1069830936                           【謎解き】ヤミすぎ彼女からのメッセージ    16808960   \n",
              "7194  1070052833                                    Go!Go!Cat!    91468800   \n",
              "7195  1081295232   Suppin Detective: Expose their true visage!    83026944   \n",
              "7196   977965019           みんなのお弁当 by クックパッド ~お弁当をレシピ付きで記録・共有~    51174400   \n",
              "\n",
              "     currency  price  rating_count_tot  rating_count_ver  user_rating  \\\n",
              "0         USD    0.0           2974676               212          3.5   \n",
              "1         USD    0.0           2161558              1289          4.5   \n",
              "2         USD    0.0           2130805               579          4.5   \n",
              "3         USD    0.0           1724546              3842          4.5   \n",
              "4         USD    0.0           1126879              3594          4.0   \n",
              "...       ...    ...               ...               ...          ...   \n",
              "7192      USD    0.0                 0                 0          0.0   \n",
              "7193      USD    0.0                 0                 0          0.0   \n",
              "7194      USD    0.0                 0                 0          0.0   \n",
              "7195      USD    0.0                 0                 0          0.0   \n",
              "7196      USD    0.0                 0                 0          0.0   \n",
              "\n",
              "      user_rating_ver      ver cont_rating        prime_genre  \\\n",
              "0                 3.5     95.0          4+  Social Networking   \n",
              "1                 4.0    10.23         12+      Photo & Video   \n",
              "2                 4.5  9.24.12          9+              Games   \n",
              "3                 4.0    1.6.2          9+              Games   \n",
              "4                 4.5    8.4.1         12+              Music   \n",
              "...               ...      ...         ...                ...   \n",
              "7192              0.0    1.0.9          4+              Games   \n",
              "7193              0.0      1.2          9+               Book   \n",
              "7194              0.0    1.1.2         12+              Games   \n",
              "7195              0.0    1.0.3         12+      Entertainment   \n",
              "7196              0.0    1.4.0          4+       Food & Drink   \n",
              "\n",
              "      sup_devices.num  ipadSc_urls.num  lang.num  vpp_lic  \n",
              "0                  37                1        29        1  \n",
              "1                  37                0        29        1  \n",
              "2                  38                5        18        1  \n",
              "3                  40                5         1        1  \n",
              "4                  37                4         1        1  \n",
              "...               ...              ...       ...      ...  \n",
              "7192               38                5         1        1  \n",
              "7193               38                0         1        1  \n",
              "7194               37                2         2        1  \n",
              "7195               40                0         1        1  \n",
              "7196               37                0         1        1  \n",
              "\n",
              "[7195 rows x 16 columns]"
            ],
            "text/html": [
              "\n",
              "  <div id=\"df-c4b356b2-2a59-4d60-a1a3-cea49d28cc80\">\n",
              "    <div class=\"colab-df-container\">\n",
              "      <div>\n",
              "<style scoped>\n",
              "    .dataframe tbody tr th:only-of-type {\n",
              "        vertical-align: middle;\n",
              "    }\n",
              "\n",
              "    .dataframe tbody tr th {\n",
              "        vertical-align: top;\n",
              "    }\n",
              "\n",
              "    .dataframe thead th {\n",
              "        text-align: right;\n",
              "    }\n",
              "</style>\n",
              "<table border=\"1\" class=\"dataframe\">\n",
              "  <thead>\n",
              "    <tr style=\"text-align: right;\">\n",
              "      <th></th>\n",
              "      <th>id</th>\n",
              "      <th>track_name</th>\n",
              "      <th>size_bytes</th>\n",
              "      <th>currency</th>\n",
              "      <th>price</th>\n",
              "      <th>rating_count_tot</th>\n",
              "      <th>rating_count_ver</th>\n",
              "      <th>user_rating</th>\n",
              "      <th>user_rating_ver</th>\n",
              "      <th>ver</th>\n",
              "      <th>cont_rating</th>\n",
              "      <th>prime_genre</th>\n",
              "      <th>sup_devices.num</th>\n",
              "      <th>ipadSc_urls.num</th>\n",
              "      <th>lang.num</th>\n",
              "      <th>vpp_lic</th>\n",
              "    </tr>\n",
              "  </thead>\n",
              "  <tbody>\n",
              "    <tr>\n",
              "      <th>0</th>\n",
              "      <td>284882215</td>\n",
              "      <td>Facebook</td>\n",
              "      <td>389879808</td>\n",
              "      <td>USD</td>\n",
              "      <td>0.0</td>\n",
              "      <td>2974676</td>\n",
              "      <td>212</td>\n",
              "      <td>3.5</td>\n",
              "      <td>3.5</td>\n",
              "      <td>95.0</td>\n",
              "      <td>4+</td>\n",
              "      <td>Social Networking</td>\n",
              "      <td>37</td>\n",
              "      <td>1</td>\n",
              "      <td>29</td>\n",
              "      <td>1</td>\n",
              "    </tr>\n",
              "    <tr>\n",
              "      <th>1</th>\n",
              "      <td>389801252</td>\n",
              "      <td>Instagram</td>\n",
              "      <td>113954816</td>\n",
              "      <td>USD</td>\n",
              "      <td>0.0</td>\n",
              "      <td>2161558</td>\n",
              "      <td>1289</td>\n",
              "      <td>4.5</td>\n",
              "      <td>4.0</td>\n",
              "      <td>10.23</td>\n",
              "      <td>12+</td>\n",
              "      <td>Photo &amp; Video</td>\n",
              "      <td>37</td>\n",
              "      <td>0</td>\n",
              "      <td>29</td>\n",
              "      <td>1</td>\n",
              "    </tr>\n",
              "    <tr>\n",
              "      <th>2</th>\n",
              "      <td>529479190</td>\n",
              "      <td>Clash of Clans</td>\n",
              "      <td>116476928</td>\n",
              "      <td>USD</td>\n",
              "      <td>0.0</td>\n",
              "      <td>2130805</td>\n",
              "      <td>579</td>\n",
              "      <td>4.5</td>\n",
              "      <td>4.5</td>\n",
              "      <td>9.24.12</td>\n",
              "      <td>9+</td>\n",
              "      <td>Games</td>\n",
              "      <td>38</td>\n",
              "      <td>5</td>\n",
              "      <td>18</td>\n",
              "      <td>1</td>\n",
              "    </tr>\n",
              "    <tr>\n",
              "      <th>3</th>\n",
              "      <td>420009108</td>\n",
              "      <td>Temple Run</td>\n",
              "      <td>65921024</td>\n",
              "      <td>USD</td>\n",
              "      <td>0.0</td>\n",
              "      <td>1724546</td>\n",
              "      <td>3842</td>\n",
              "      <td>4.5</td>\n",
              "      <td>4.0</td>\n",
              "      <td>1.6.2</td>\n",
              "      <td>9+</td>\n",
              "      <td>Games</td>\n",
              "      <td>40</td>\n",
              "      <td>5</td>\n",
              "      <td>1</td>\n",
              "      <td>1</td>\n",
              "    </tr>\n",
              "    <tr>\n",
              "      <th>4</th>\n",
              "      <td>284035177</td>\n",
              "      <td>Pandora - Music &amp; Radio</td>\n",
              "      <td>130242560</td>\n",
              "      <td>USD</td>\n",
              "      <td>0.0</td>\n",
              "      <td>1126879</td>\n",
              "      <td>3594</td>\n",
              "      <td>4.0</td>\n",
              "      <td>4.5</td>\n",
              "      <td>8.4.1</td>\n",
              "      <td>12+</td>\n",
              "      <td>Music</td>\n",
              "      <td>37</td>\n",
              "      <td>4</td>\n",
              "      <td>1</td>\n",
              "      <td>1</td>\n",
              "    </tr>\n",
              "    <tr>\n",
              "      <th>...</th>\n",
              "      <td>...</td>\n",
              "      <td>...</td>\n",
              "      <td>...</td>\n",
              "      <td>...</td>\n",
              "      <td>...</td>\n",
              "      <td>...</td>\n",
              "      <td>...</td>\n",
              "      <td>...</td>\n",
              "      <td>...</td>\n",
              "      <td>...</td>\n",
              "      <td>...</td>\n",
              "      <td>...</td>\n",
              "      <td>...</td>\n",
              "      <td>...</td>\n",
              "      <td>...</td>\n",
              "      <td>...</td>\n",
              "    </tr>\n",
              "    <tr>\n",
              "      <th>7192</th>\n",
              "      <td>1170406182</td>\n",
              "      <td>Shark Boom - Challenge Friends with your Pet</td>\n",
              "      <td>245415936</td>\n",
              "      <td>USD</td>\n",
              "      <td>0.0</td>\n",
              "      <td>0</td>\n",
              "      <td>0</td>\n",
              "      <td>0.0</td>\n",
              "      <td>0.0</td>\n",
              "      <td>1.0.9</td>\n",
              "      <td>4+</td>\n",
              "      <td>Games</td>\n",
              "      <td>38</td>\n",
              "      <td>5</td>\n",
              "      <td>1</td>\n",
              "      <td>1</td>\n",
              "    </tr>\n",
              "    <tr>\n",
              "      <th>7193</th>\n",
              "      <td>1069830936</td>\n",
              "      <td>【謎解き】ヤミすぎ彼女からのメッセージ</td>\n",
              "      <td>16808960</td>\n",
              "      <td>USD</td>\n",
              "      <td>0.0</td>\n",
              "      <td>0</td>\n",
              "      <td>0</td>\n",
              "      <td>0.0</td>\n",
              "      <td>0.0</td>\n",
              "      <td>1.2</td>\n",
              "      <td>9+</td>\n",
              "      <td>Book</td>\n",
              "      <td>38</td>\n",
              "      <td>0</td>\n",
              "      <td>1</td>\n",
              "      <td>1</td>\n",
              "    </tr>\n",
              "    <tr>\n",
              "      <th>7194</th>\n",
              "      <td>1070052833</td>\n",
              "      <td>Go!Go!Cat!</td>\n",
              "      <td>91468800</td>\n",
              "      <td>USD</td>\n",
              "      <td>0.0</td>\n",
              "      <td>0</td>\n",
              "      <td>0</td>\n",
              "      <td>0.0</td>\n",
              "      <td>0.0</td>\n",
              "      <td>1.1.2</td>\n",
              "      <td>12+</td>\n",
              "      <td>Games</td>\n",
              "      <td>37</td>\n",
              "      <td>2</td>\n",
              "      <td>2</td>\n",
              "      <td>1</td>\n",
              "    </tr>\n",
              "    <tr>\n",
              "      <th>7195</th>\n",
              "      <td>1081295232</td>\n",
              "      <td>Suppin Detective: Expose their true visage!</td>\n",
              "      <td>83026944</td>\n",
              "      <td>USD</td>\n",
              "      <td>0.0</td>\n",
              "      <td>0</td>\n",
              "      <td>0</td>\n",
              "      <td>0.0</td>\n",
              "      <td>0.0</td>\n",
              "      <td>1.0.3</td>\n",
              "      <td>12+</td>\n",
              "      <td>Entertainment</td>\n",
              "      <td>40</td>\n",
              "      <td>0</td>\n",
              "      <td>1</td>\n",
              "      <td>1</td>\n",
              "    </tr>\n",
              "    <tr>\n",
              "      <th>7196</th>\n",
              "      <td>977965019</td>\n",
              "      <td>みんなのお弁当 by クックパッド ~お弁当をレシピ付きで記録・共有~</td>\n",
              "      <td>51174400</td>\n",
              "      <td>USD</td>\n",
              "      <td>0.0</td>\n",
              "      <td>0</td>\n",
              "      <td>0</td>\n",
              "      <td>0.0</td>\n",
              "      <td>0.0</td>\n",
              "      <td>1.4.0</td>\n",
              "      <td>4+</td>\n",
              "      <td>Food &amp; Drink</td>\n",
              "      <td>37</td>\n",
              "      <td>0</td>\n",
              "      <td>1</td>\n",
              "      <td>1</td>\n",
              "    </tr>\n",
              "  </tbody>\n",
              "</table>\n",
              "<p>7195 rows × 16 columns</p>\n",
              "</div>\n",
              "      <button class=\"colab-df-convert\" onclick=\"convertToInteractive('df-c4b356b2-2a59-4d60-a1a3-cea49d28cc80')\"\n",
              "              title=\"Convert this dataframe to an interactive table.\"\n",
              "              style=\"display:none;\">\n",
              "        \n",
              "  <svg xmlns=\"http://www.w3.org/2000/svg\" height=\"24px\"viewBox=\"0 0 24 24\"\n",
              "       width=\"24px\">\n",
              "    <path d=\"M0 0h24v24H0V0z\" fill=\"none\"/>\n",
              "    <path d=\"M18.56 5.44l.94 2.06.94-2.06 2.06-.94-2.06-.94-.94-2.06-.94 2.06-2.06.94zm-11 1L8.5 8.5l.94-2.06 2.06-.94-2.06-.94L8.5 2.5l-.94 2.06-2.06.94zm10 10l.94 2.06.94-2.06 2.06-.94-2.06-.94-.94-2.06-.94 2.06-2.06.94z\"/><path d=\"M17.41 7.96l-1.37-1.37c-.4-.4-.92-.59-1.43-.59-.52 0-1.04.2-1.43.59L10.3 9.45l-7.72 7.72c-.78.78-.78 2.05 0 2.83L4 21.41c.39.39.9.59 1.41.59.51 0 1.02-.2 1.41-.59l7.78-7.78 2.81-2.81c.8-.78.8-2.07 0-2.86zM5.41 20L4 18.59l7.72-7.72 1.47 1.35L5.41 20z\"/>\n",
              "  </svg>\n",
              "      </button>\n",
              "      \n",
              "  <style>\n",
              "    .colab-df-container {\n",
              "      display:flex;\n",
              "      flex-wrap:wrap;\n",
              "      gap: 12px;\n",
              "    }\n",
              "\n",
              "    .colab-df-convert {\n",
              "      background-color: #E8F0FE;\n",
              "      border: none;\n",
              "      border-radius: 50%;\n",
              "      cursor: pointer;\n",
              "      display: none;\n",
              "      fill: #1967D2;\n",
              "      height: 32px;\n",
              "      padding: 0 0 0 0;\n",
              "      width: 32px;\n",
              "    }\n",
              "\n",
              "    .colab-df-convert:hover {\n",
              "      background-color: #E2EBFA;\n",
              "      box-shadow: 0px 1px 2px rgba(60, 64, 67, 0.3), 0px 1px 3px 1px rgba(60, 64, 67, 0.15);\n",
              "      fill: #174EA6;\n",
              "    }\n",
              "\n",
              "    [theme=dark] .colab-df-convert {\n",
              "      background-color: #3B4455;\n",
              "      fill: #D2E3FC;\n",
              "    }\n",
              "\n",
              "    [theme=dark] .colab-df-convert:hover {\n",
              "      background-color: #434B5C;\n",
              "      box-shadow: 0px 1px 3px 1px rgba(0, 0, 0, 0.15);\n",
              "      filter: drop-shadow(0px 1px 2px rgba(0, 0, 0, 0.3));\n",
              "      fill: #FFFFFF;\n",
              "    }\n",
              "  </style>\n",
              "\n",
              "      <script>\n",
              "        const buttonEl =\n",
              "          document.querySelector('#df-c4b356b2-2a59-4d60-a1a3-cea49d28cc80 button.colab-df-convert');\n",
              "        buttonEl.style.display =\n",
              "          google.colab.kernel.accessAllowed ? 'block' : 'none';\n",
              "\n",
              "        async function convertToInteractive(key) {\n",
              "          const element = document.querySelector('#df-c4b356b2-2a59-4d60-a1a3-cea49d28cc80');\n",
              "          const dataTable =\n",
              "            await google.colab.kernel.invokeFunction('convertToInteractive',\n",
              "                                                     [key], {});\n",
              "          if (!dataTable) return;\n",
              "\n",
              "          const docLinkHtml = 'Like what you see? Visit the ' +\n",
              "            '<a target=\"_blank\" href=https://colab.research.google.com/notebooks/data_table.ipynb>data table notebook</a>'\n",
              "            + ' to learn more about interactive tables.';\n",
              "          element.innerHTML = '';\n",
              "          dataTable['output_type'] = 'display_data';\n",
              "          await google.colab.output.renderOutput(dataTable, element);\n",
              "          const docLink = document.createElement('div');\n",
              "          docLink.innerHTML = docLinkHtml;\n",
              "          element.appendChild(docLink);\n",
              "        }\n",
              "      </script>\n",
              "    </div>\n",
              "  </div>\n",
              "  "
            ]
          },
          "metadata": {},
          "execution_count": 61
        }
      ]
    },
    {
      "cell_type": "markdown",
      "source": [
        "**Comment**: *After dropping the wrong data row and missing values, we are left with **9659** rows in the Google dataset and **7195** rows in the ios dataset.* "
      ],
      "metadata": {
        "id": "jwgUuQkVoMRz"
      }
    },
    {
      "cell_type": "code",
      "source": [
        "android_clean.duplicated('App').sum()"
      ],
      "metadata": {
        "colab": {
          "base_uri": "https://localhost:8080/"
        },
        "id": "Vse_EZxCOm6k",
        "outputId": "cd78eab6-114a-4549-97ff-1437f41ed944"
      },
      "execution_count": null,
      "outputs": [
        {
          "output_type": "execute_result",
          "data": {
            "text/plain": [
              "0"
            ]
          },
          "metadata": {},
          "execution_count": 62
        }
      ]
    },
    {
      "cell_type": "code",
      "source": [
        "ios_clean.duplicated('track_name').sum()"
      ],
      "metadata": {
        "colab": {
          "base_uri": "https://localhost:8080/"
        },
        "outputId": "45808324-3148-4ce5-e7bc-915e12cb2306",
        "id": "GoljkHTGtdlE"
      },
      "execution_count": null,
      "outputs": [
        {
          "output_type": "execute_result",
          "data": {
            "text/plain": [
              "0"
            ]
          },
          "metadata": {},
          "execution_count": 63
        }
      ]
    },
    {
      "cell_type": "markdown",
      "source": [
        "* For the next phase of cleaning, I decided to convert each of the datasets to lists."
      ],
      "metadata": {
        "id": "u85bsoCYuxRZ"
      }
    },
    {
      "cell_type": "code",
      "source": [
        "#Conversion to lists\n",
        "android_list = android_clean.values.tolist()\n",
        "ios_list = ios_clean.values.tolist()"
      ],
      "metadata": {
        "id": "IRg5RxXzBbn4"
      },
      "execution_count": null,
      "outputs": []
    },
    {
      "cell_type": "markdown",
      "source": [
        "### **Remove Non-English Apps**\n",
        "\n",
        "This project is focused on the English-speaking audience and as such I would have to exclude non-English apps.\n",
        "\n",
        "Letters and special characters in the English Alphabet have a ASCII number between 1 and 127. Based off this knowledge, we can try to exclude non-english apps. Some English apps have non-ASCIII characters and dropping them from our data will impact data loss. To minimize the impact of data loss, we'll only remove an app if its name has more than three non-ASCII characters.\n",
        "\n",
        "   \n"
      ],
      "metadata": {
        "id": "VWXfR7JFOHWI"
      }
    },
    {
      "cell_type": "code",
      "source": [
        "def is_english(string):\n",
        "    non_ascii = 0\n",
        "    \n",
        "    for character in string:\n",
        "        if ord(character) > 127:\n",
        "            non_ascii += 1\n",
        "    \n",
        "    if non_ascii > 3:\n",
        "        return False\n",
        "    else:\n",
        "        return True\n",
        "\n",
        "print(is_english('Docs To Go™ Free Office Suite'))\n",
        "print(is_english('Instachat 😜'))"
      ],
      "metadata": {
        "colab": {
          "base_uri": "https://localhost:8080/"
        },
        "id": "8Kiq-2cGVQbY",
        "outputId": "2e17578e-3462-4926-a2de-ed47f2c88f9f"
      },
      "execution_count": null,
      "outputs": [
        {
          "output_type": "stream",
          "name": "stdout",
          "text": [
            "True\n",
            "True\n"
          ]
        }
      ]
    },
    {
      "cell_type": "markdown",
      "source": [
        "* Filtering for English apps names across both datasets."
      ],
      "metadata": {
        "id": "35IcgATlyn0H"
      }
    },
    {
      "cell_type": "code",
      "source": [
        "android_english = []\n",
        "ios_english = []\n",
        "\n",
        "for app in android_list:\n",
        "    name = app[0]\n",
        "    if is_english(name):\n",
        "        android_english.append(app)\n",
        "print ('English Android Apps:',len(android_english))\n",
        "\n",
        "for app in ios_list:\n",
        "    name = app[1]\n",
        "    if is_english(name):\n",
        "        ios_english.append(app)\n",
        "print ('IOS Android Apps:',len(ios_english))\n"
      ],
      "metadata": {
        "colab": {
          "base_uri": "https://localhost:8080/"
        },
        "id": "EFw2KBwK3gYr",
        "outputId": "bfec07cf-756b-4e9b-fb6b-faba736e8edc"
      },
      "execution_count": null,
      "outputs": [
        {
          "output_type": "stream",
          "name": "stdout",
          "text": [
            "English Android Apps: 9614\n",
            "IOS Android Apps: 6181\n"
          ]
        }
      ]
    },
    {
      "cell_type": "markdown",
      "source": [
        "\n",
        "> **Comment:** We have **9614** and **6181** English apps in our Google store and App store datasets\n",
        "\n",
        "\n",
        "\n",
        "\n"
      ],
      "metadata": {
        "id": "CN-zMAam0h3D"
      }
    },
    {
      "cell_type": "markdown",
      "source": [
        "* I converted our datasets back to a panda dataframe."
      ],
      "metadata": {
        "id": "ybKJrg_2znnI"
      }
    },
    {
      "cell_type": "code",
      "source": [
        "android_data = pd.DataFrame(android_english,columns =['App', 'Category', 'Rating', 'Reviews', 'Size', 'Installs', 'Type', 'Price', 'Content Rating', 'Genres', 'Last Updated', 'Current Ver', 'Android Ver'])\n",
        "ios_data = pd.DataFrame(ios_english, columns = ['id', 'track_name', 'size_bytes', 'currency', 'price', 'rating_count_tot', 'rating_count_ver', 'user_rating', 'user_rating_ver', 'ver', 'cont_rating', 'prime_genre', 'sup_devices.num', 'ipadSc_urls.num', 'lang.num', 'vpp_lic'])"
      ],
      "metadata": {
        "id": "wZIhqOodCIzo"
      },
      "execution_count": null,
      "outputs": []
    },
    {
      "cell_type": "markdown",
      "source": [
        "### **Free English Apps**"
      ],
      "metadata": {
        "id": "wKb7UIWn1bzC"
      }
    },
    {
      "cell_type": "code",
      "source": [
        "#identifying free android apps\n",
        "android_free = android_data.loc[android_data['Price'] == '0']\n",
        "len(android_free)"
      ],
      "metadata": {
        "id": "T7eK3c7j4MXN",
        "colab": {
          "base_uri": "https://localhost:8080/"
        },
        "outputId": "6384c528-b60a-44e0-cf0f-5e45efbc87d1"
      },
      "execution_count": null,
      "outputs": [
        {
          "output_type": "execute_result",
          "data": {
            "text/plain": [
              "8862"
            ]
          },
          "metadata": {},
          "execution_count": 68
        }
      ]
    },
    {
      "cell_type": "code",
      "source": [
        "#identifying free ios apps\n",
        "ios_free = ios_data.loc[ios_data['price'] == 0.0]\n",
        "len(ios_free)"
      ],
      "metadata": {
        "id": "lTAF91K25Yfp",
        "colab": {
          "base_uri": "https://localhost:8080/"
        },
        "outputId": "78a1d128-6fc4-481a-b673-951cbdcac060"
      },
      "execution_count": null,
      "outputs": [
        {
          "output_type": "execute_result",
          "data": {
            "text/plain": [
              "3220"
            ]
          },
          "metadata": {},
          "execution_count": 69
        }
      ]
    },
    {
      "cell_type": "markdown",
      "source": [
        "> **Comment:** We have **8862** and **3220** free English apps in our Google store and App store datasets\n",
        "\n",
        "\n",
        "\n",
        "\n"
      ],
      "metadata": {
        "id": "F0B-Jwvk4wd9"
      }
    },
    {
      "cell_type": "markdown",
      "source": [
        "#### **Data Exploration & Analysis**\n",
        "\n",
        "The objective of this project is to identify the free most profitable English app profiles across the Google and Apple app stores. To determine the profiles, I will be exploring popular apps by Genres and no of downloads(`Installs` and `user rating count`)."
      ],
      "metadata": {
        "id": "38Mtocle5YDJ"
      }
    },
    {
      "cell_type": "markdown",
      "source": [
        "* **Most Popular Genres (Google Playstore)**\n"
      ],
      "metadata": {
        "id": "uZXdTCSYucmr"
      }
    },
    {
      "cell_type": "code",
      "source": [
        "#Exploring the \"Category\" columns with a frequency table.\n",
        "\n",
        "freq = pd.crosstab(index = android_free['Category'], columns='count')\n",
        "freq= freq/len(android_free)*100\n",
        "freq= freq.sort_values(by=['count'], ascending=False)\n",
        "freq"
      ],
      "metadata": {
        "colab": {
          "base_uri": "https://localhost:8080/",
          "height": 1000
        },
        "id": "6s3e6Mwj-wm4",
        "outputId": "6b26b690-24ac-4eae-e22e-c746bac2f783"
      },
      "execution_count": null,
      "outputs": [
        {
          "output_type": "execute_result",
          "data": {
            "text/plain": [
              "col_0                    count\n",
              "Category                      \n",
              "FAMILY               18.946062\n",
              "GAME                  9.693072\n",
              "TOOLS                 8.451817\n",
              "BUSINESS              4.592643\n",
              "LIFESTYLE             3.904311\n",
              "PRODUCTIVITY          3.893026\n",
              "FINANCE               3.701196\n",
              "MEDICAL               3.520650\n",
              "SPORTS                3.396524\n",
              "PERSONALIZATION       3.317536\n",
              "COMMUNICATION         3.238547\n",
              "HEALTH_AND_FITNESS    3.080569\n",
              "PHOTOGRAPHY           2.945159\n",
              "NEWS_AND_MAGAZINES    2.798465\n",
              "SOCIAL                2.663056\n",
              "TRAVEL_AND_LOCAL      2.335816\n",
              "SHOPPING              2.245543\n",
              "BOOKS_AND_REFERENCE   2.143986\n",
              "DATING                1.861882\n",
              "VIDEO_PLAYERS         1.794177\n",
              "MAPS_AND_NAVIGATION   1.399233\n",
              "FOOD_AND_DRINK        1.241255\n",
              "EDUCATION             1.173550\n",
              "ENTERTAINMENT         0.947867\n",
              "LIBRARIES_AND_DEMO    0.936583\n",
              "AUTO_AND_VEHICLES     0.925299\n",
              "HOUSE_AND_HOME        0.823742\n",
              "WEATHER               0.801174\n",
              "EVENTS                0.710900\n",
              "PARENTING             0.654480\n",
              "ART_AND_DESIGN        0.643196\n",
              "COMICS                0.620627\n",
              "BEAUTY                0.598059"
            ],
            "text/html": [
              "\n",
              "  <div id=\"df-bd0fb50b-7b27-4e91-b2d6-0c0f43910814\">\n",
              "    <div class=\"colab-df-container\">\n",
              "      <div>\n",
              "<style scoped>\n",
              "    .dataframe tbody tr th:only-of-type {\n",
              "        vertical-align: middle;\n",
              "    }\n",
              "\n",
              "    .dataframe tbody tr th {\n",
              "        vertical-align: top;\n",
              "    }\n",
              "\n",
              "    .dataframe thead th {\n",
              "        text-align: right;\n",
              "    }\n",
              "</style>\n",
              "<table border=\"1\" class=\"dataframe\">\n",
              "  <thead>\n",
              "    <tr style=\"text-align: right;\">\n",
              "      <th>col_0</th>\n",
              "      <th>count</th>\n",
              "    </tr>\n",
              "    <tr>\n",
              "      <th>Category</th>\n",
              "      <th></th>\n",
              "    </tr>\n",
              "  </thead>\n",
              "  <tbody>\n",
              "    <tr>\n",
              "      <th>FAMILY</th>\n",
              "      <td>18.946062</td>\n",
              "    </tr>\n",
              "    <tr>\n",
              "      <th>GAME</th>\n",
              "      <td>9.693072</td>\n",
              "    </tr>\n",
              "    <tr>\n",
              "      <th>TOOLS</th>\n",
              "      <td>8.451817</td>\n",
              "    </tr>\n",
              "    <tr>\n",
              "      <th>BUSINESS</th>\n",
              "      <td>4.592643</td>\n",
              "    </tr>\n",
              "    <tr>\n",
              "      <th>LIFESTYLE</th>\n",
              "      <td>3.904311</td>\n",
              "    </tr>\n",
              "    <tr>\n",
              "      <th>PRODUCTIVITY</th>\n",
              "      <td>3.893026</td>\n",
              "    </tr>\n",
              "    <tr>\n",
              "      <th>FINANCE</th>\n",
              "      <td>3.701196</td>\n",
              "    </tr>\n",
              "    <tr>\n",
              "      <th>MEDICAL</th>\n",
              "      <td>3.520650</td>\n",
              "    </tr>\n",
              "    <tr>\n",
              "      <th>SPORTS</th>\n",
              "      <td>3.396524</td>\n",
              "    </tr>\n",
              "    <tr>\n",
              "      <th>PERSONALIZATION</th>\n",
              "      <td>3.317536</td>\n",
              "    </tr>\n",
              "    <tr>\n",
              "      <th>COMMUNICATION</th>\n",
              "      <td>3.238547</td>\n",
              "    </tr>\n",
              "    <tr>\n",
              "      <th>HEALTH_AND_FITNESS</th>\n",
              "      <td>3.080569</td>\n",
              "    </tr>\n",
              "    <tr>\n",
              "      <th>PHOTOGRAPHY</th>\n",
              "      <td>2.945159</td>\n",
              "    </tr>\n",
              "    <tr>\n",
              "      <th>NEWS_AND_MAGAZINES</th>\n",
              "      <td>2.798465</td>\n",
              "    </tr>\n",
              "    <tr>\n",
              "      <th>SOCIAL</th>\n",
              "      <td>2.663056</td>\n",
              "    </tr>\n",
              "    <tr>\n",
              "      <th>TRAVEL_AND_LOCAL</th>\n",
              "      <td>2.335816</td>\n",
              "    </tr>\n",
              "    <tr>\n",
              "      <th>SHOPPING</th>\n",
              "      <td>2.245543</td>\n",
              "    </tr>\n",
              "    <tr>\n",
              "      <th>BOOKS_AND_REFERENCE</th>\n",
              "      <td>2.143986</td>\n",
              "    </tr>\n",
              "    <tr>\n",
              "      <th>DATING</th>\n",
              "      <td>1.861882</td>\n",
              "    </tr>\n",
              "    <tr>\n",
              "      <th>VIDEO_PLAYERS</th>\n",
              "      <td>1.794177</td>\n",
              "    </tr>\n",
              "    <tr>\n",
              "      <th>MAPS_AND_NAVIGATION</th>\n",
              "      <td>1.399233</td>\n",
              "    </tr>\n",
              "    <tr>\n",
              "      <th>FOOD_AND_DRINK</th>\n",
              "      <td>1.241255</td>\n",
              "    </tr>\n",
              "    <tr>\n",
              "      <th>EDUCATION</th>\n",
              "      <td>1.173550</td>\n",
              "    </tr>\n",
              "    <tr>\n",
              "      <th>ENTERTAINMENT</th>\n",
              "      <td>0.947867</td>\n",
              "    </tr>\n",
              "    <tr>\n",
              "      <th>LIBRARIES_AND_DEMO</th>\n",
              "      <td>0.936583</td>\n",
              "    </tr>\n",
              "    <tr>\n",
              "      <th>AUTO_AND_VEHICLES</th>\n",
              "      <td>0.925299</td>\n",
              "    </tr>\n",
              "    <tr>\n",
              "      <th>HOUSE_AND_HOME</th>\n",
              "      <td>0.823742</td>\n",
              "    </tr>\n",
              "    <tr>\n",
              "      <th>WEATHER</th>\n",
              "      <td>0.801174</td>\n",
              "    </tr>\n",
              "    <tr>\n",
              "      <th>EVENTS</th>\n",
              "      <td>0.710900</td>\n",
              "    </tr>\n",
              "    <tr>\n",
              "      <th>PARENTING</th>\n",
              "      <td>0.654480</td>\n",
              "    </tr>\n",
              "    <tr>\n",
              "      <th>ART_AND_DESIGN</th>\n",
              "      <td>0.643196</td>\n",
              "    </tr>\n",
              "    <tr>\n",
              "      <th>COMICS</th>\n",
              "      <td>0.620627</td>\n",
              "    </tr>\n",
              "    <tr>\n",
              "      <th>BEAUTY</th>\n",
              "      <td>0.598059</td>\n",
              "    </tr>\n",
              "  </tbody>\n",
              "</table>\n",
              "</div>\n",
              "      <button class=\"colab-df-convert\" onclick=\"convertToInteractive('df-bd0fb50b-7b27-4e91-b2d6-0c0f43910814')\"\n",
              "              title=\"Convert this dataframe to an interactive table.\"\n",
              "              style=\"display:none;\">\n",
              "        \n",
              "  <svg xmlns=\"http://www.w3.org/2000/svg\" height=\"24px\"viewBox=\"0 0 24 24\"\n",
              "       width=\"24px\">\n",
              "    <path d=\"M0 0h24v24H0V0z\" fill=\"none\"/>\n",
              "    <path d=\"M18.56 5.44l.94 2.06.94-2.06 2.06-.94-2.06-.94-.94-2.06-.94 2.06-2.06.94zm-11 1L8.5 8.5l.94-2.06 2.06-.94-2.06-.94L8.5 2.5l-.94 2.06-2.06.94zm10 10l.94 2.06.94-2.06 2.06-.94-2.06-.94-.94-2.06-.94 2.06-2.06.94z\"/><path d=\"M17.41 7.96l-1.37-1.37c-.4-.4-.92-.59-1.43-.59-.52 0-1.04.2-1.43.59L10.3 9.45l-7.72 7.72c-.78.78-.78 2.05 0 2.83L4 21.41c.39.39.9.59 1.41.59.51 0 1.02-.2 1.41-.59l7.78-7.78 2.81-2.81c.8-.78.8-2.07 0-2.86zM5.41 20L4 18.59l7.72-7.72 1.47 1.35L5.41 20z\"/>\n",
              "  </svg>\n",
              "      </button>\n",
              "      \n",
              "  <style>\n",
              "    .colab-df-container {\n",
              "      display:flex;\n",
              "      flex-wrap:wrap;\n",
              "      gap: 12px;\n",
              "    }\n",
              "\n",
              "    .colab-df-convert {\n",
              "      background-color: #E8F0FE;\n",
              "      border: none;\n",
              "      border-radius: 50%;\n",
              "      cursor: pointer;\n",
              "      display: none;\n",
              "      fill: #1967D2;\n",
              "      height: 32px;\n",
              "      padding: 0 0 0 0;\n",
              "      width: 32px;\n",
              "    }\n",
              "\n",
              "    .colab-df-convert:hover {\n",
              "      background-color: #E2EBFA;\n",
              "      box-shadow: 0px 1px 2px rgba(60, 64, 67, 0.3), 0px 1px 3px 1px rgba(60, 64, 67, 0.15);\n",
              "      fill: #174EA6;\n",
              "    }\n",
              "\n",
              "    [theme=dark] .colab-df-convert {\n",
              "      background-color: #3B4455;\n",
              "      fill: #D2E3FC;\n",
              "    }\n",
              "\n",
              "    [theme=dark] .colab-df-convert:hover {\n",
              "      background-color: #434B5C;\n",
              "      box-shadow: 0px 1px 3px 1px rgba(0, 0, 0, 0.15);\n",
              "      filter: drop-shadow(0px 1px 2px rgba(0, 0, 0, 0.3));\n",
              "      fill: #FFFFFF;\n",
              "    }\n",
              "  </style>\n",
              "\n",
              "      <script>\n",
              "        const buttonEl =\n",
              "          document.querySelector('#df-bd0fb50b-7b27-4e91-b2d6-0c0f43910814 button.colab-df-convert');\n",
              "        buttonEl.style.display =\n",
              "          google.colab.kernel.accessAllowed ? 'block' : 'none';\n",
              "\n",
              "        async function convertToInteractive(key) {\n",
              "          const element = document.querySelector('#df-bd0fb50b-7b27-4e91-b2d6-0c0f43910814');\n",
              "          const dataTable =\n",
              "            await google.colab.kernel.invokeFunction('convertToInteractive',\n",
              "                                                     [key], {});\n",
              "          if (!dataTable) return;\n",
              "\n",
              "          const docLinkHtml = 'Like what you see? Visit the ' +\n",
              "            '<a target=\"_blank\" href=https://colab.research.google.com/notebooks/data_table.ipynb>data table notebook</a>'\n",
              "            + ' to learn more about interactive tables.';\n",
              "          element.innerHTML = '';\n",
              "          dataTable['output_type'] = 'display_data';\n",
              "          await google.colab.output.renderOutput(dataTable, element);\n",
              "          const docLink = document.createElement('div');\n",
              "          docLink.innerHTML = docLinkHtml;\n",
              "          element.appendChild(docLink);\n",
              "        }\n",
              "      </script>\n",
              "    </div>\n",
              "  </div>\n",
              "  "
            ]
          },
          "metadata": {},
          "execution_count": 70
        }
      ]
    },
    {
      "cell_type": "markdown",
      "source": [
        "**Comment:** *18.9% of the apps on Google Playstore are dominated by family-oriented apps, followed by Games(9.69%), Tools(8.45%), Business(4.59%) and Lifestyle(3.9%). I will attempt to explore the top dominant apps below based on the number of installations.*\n",
        "\n",
        "The `Installs` column estimates the number of installs per app and as such it's difficult to get the exact number of downloads. For now, we assume the values of the `Installs` column as the exact number of downloads.\n",
        "\n",
        "Since the `Installs` column is an object type. I converted the values to floats so that we can perform the necessary mathematical operations."
      ],
      "metadata": {
        "id": "DbPD32bcAPN1"
      }
    },
    {
      "cell_type": "code",
      "source": [
        "import warnings\n",
        "warnings.filterwarnings('ignore')\n",
        "\n",
        "android_free['Installs']= android_free.Installs.str.replace(',', '', regex = True)\n",
        "android_free['Installs']=android_free.Installs.str.replace('+', '', regex = True)\n",
        "android_free['Installs'] = android_free['Installs'].astype(float)"
      ],
      "metadata": {
        "id": "0Kaosql3YM-M"
      },
      "execution_count": null,
      "outputs": []
    },
    {
      "cell_type": "code",
      "source": [
        "#Exploring the FAMILY category\n",
        "\n",
        "and_family = android_free[android_free[\"Category\"]=='FAMILY']\n",
        "and_family = and_family.groupby('App')['Installs'].sum().sort_values( ascending=False)\n",
        "and_family[:20]"
      ],
      "metadata": {
        "colab": {
          "base_uri": "https://localhost:8080/"
        },
        "id": "onK8mQaUFUB8",
        "outputId": "03822f08-7ba2-4b47-acc2-c1fb3a67f973"
      },
      "execution_count": null,
      "outputs": [
        {
          "output_type": "execute_result",
          "data": {
            "text/plain": [
              "App\n",
              "Google Play Games                           1.000000e+09\n",
              "Bitmoji – Your Personal Emoji               1.000000e+08\n",
              "Talking Tom Cat 2                           1.000000e+08\n",
              "Farm Heroes Saga                            1.000000e+08\n",
              "Tom Loves Angela                            1.000000e+08\n",
              "Bubble Witch 2 Saga                         1.000000e+08\n",
              "Where's My Water? Free                      1.000000e+08\n",
              "Hay Day                                     1.000000e+08\n",
              "Duolingo: Learn Languages Free              1.000000e+08\n",
              "Minion Rush: Despicable Me Official Game    1.000000e+08\n",
              "Talking Tom Cat                             1.000000e+08\n",
              "ROBLOX                                      1.000000e+08\n",
              "Talking Tom & Ben News                      1.000000e+08\n",
              "Talking Ginger                              1.000000e+08\n",
              "SpongeBob Diner Dash                        5.000000e+07\n",
              "Boom Beach                                  5.000000e+07\n",
              "Vegas Crime Simulator                       5.000000e+07\n",
              "LEGO® Juniors Create & Cruise               5.000000e+07\n",
              "SimCity BuildIt                             5.000000e+07\n",
              "Turbo FAST                                  5.000000e+07\n",
              "Name: Installs, dtype: float64"
            ]
          },
          "metadata": {},
          "execution_count": 72
        }
      ]
    },
    {
      "cell_type": "markdown",
      "source": [
        "**Comment:** The top 20 family apps by downloads is basically a variety of games for children.\n"
      ],
      "metadata": {
        "id": "cAgtmdUeu3tJ"
      }
    },
    {
      "cell_type": "code",
      "source": [
        "#Exploring the GAME category\n",
        "\n",
        "and_game = android_free[android_free[\"Category\"]=='GAME']\n",
        "and_game = and_game.groupby('App')['Installs'].sum().sort_values( ascending=False)\n",
        "and_game[:20]"
      ],
      "metadata": {
        "colab": {
          "base_uri": "https://localhost:8080/"
        },
        "id": "_lybfEliH4LW",
        "outputId": "17a0da2a-fca5-4bb0-aab4-b05dbfd05bc6"
      },
      "execution_count": null,
      "outputs": [
        {
          "output_type": "execute_result",
          "data": {
            "text/plain": [
              "App\n",
              "Subway Surfers                          1.000000e+09\n",
              "Pou                                     5.000000e+08\n",
              "Temple Run 2                            5.000000e+08\n",
              "Candy Crush Saga                        5.000000e+08\n",
              "My Talking Tom                          5.000000e+08\n",
              "Extreme Car Driving Simulator           1.000000e+08\n",
              "Piano Tiles 2™                          1.000000e+08\n",
              "Helix Jump                              1.000000e+08\n",
              "Ant Smasher by Best Cool & Fun Games    1.000000e+08\n",
              "Angry Birds Star Wars                   1.000000e+08\n",
              "Angry Birds Rio                         1.000000e+08\n",
              "Angry Birds Classic                     1.000000e+08\n",
              "Banana Kong                             1.000000e+08\n",
              "Angry Birds 2                           1.000000e+08\n",
              "Hill Climb Racing                       1.000000e+08\n",
              "Super Mario Run                         1.000000e+08\n",
              "Geometry Dash Lite                      1.000000e+08\n",
              "PAC-MAN                                 1.000000e+08\n",
              "Agar.io                                 1.000000e+08\n",
              "Plants vs. Zombies FREE                 1.000000e+08\n",
              "Name: Installs, dtype: float64"
            ]
          },
          "metadata": {},
          "execution_count": 73
        }
      ]
    },
    {
      "cell_type": "code",
      "source": [
        "#Exploring the TOOLS category\n",
        "\n",
        "and_tools = android_free[android_free[\"Category\"]=='TOOLS']\n",
        "and_tools = and_tools.groupby('App')['Installs'].sum().sort_values( ascending=False)\n",
        "and_tools[:10]"
      ],
      "metadata": {
        "colab": {
          "base_uri": "https://localhost:8080/"
        },
        "id": "NmidXgbVIH4B",
        "outputId": "ee1cded7-89cd-46bf-95c2-30c35509252b"
      },
      "execution_count": null,
      "outputs": [
        {
          "output_type": "execute_result",
          "data": {
            "text/plain": [
              "App\n",
              "Google                                                1.000000e+09\n",
              "Security Master - Antivirus, VPN, AppLock, Booster    5.000000e+08\n",
              "Gboard - the Google Keyboard                          5.000000e+08\n",
              "SHAREit - Transfer & Share                            5.000000e+08\n",
              "Google Translate                                      5.000000e+08\n",
              "Clean Master- Space Cleaner & Antivirus               5.000000e+08\n",
              "GO Keyboard - Cute Emojis, Themes and GIFs            1.000000e+08\n",
              "Samsung Calculator                                    1.000000e+08\n",
              "AVG AntiVirus 2018 for Android Security               1.000000e+08\n",
              "Samsung Smart Switch Mobile                           1.000000e+08\n",
              "Name: Installs, dtype: float64"
            ]
          },
          "metadata": {},
          "execution_count": 74
        }
      ]
    },
    {
      "cell_type": "code",
      "source": [
        "#Exploring the BUSINESS category\n",
        "\n",
        "and_biz = android_free[android_free[\"Category\"]=='BUSINESS']\n",
        "and_biz = and_biz.groupby('App')['Installs'].sum().sort_values( ascending=False)\n",
        "and_biz[:10]"
      ],
      "metadata": {
        "colab": {
          "base_uri": "https://localhost:8080/"
        },
        "id": "JZlt-zzLLiGz",
        "outputId": "6f2bb8b1-e00b-45b5-a8d9-5e17b23892f9"
      },
      "execution_count": null,
      "outputs": [
        {
          "output_type": "execute_result",
          "data": {
            "text/plain": [
              "App\n",
              "File Commander - File Manager/Explorer                100000000.0\n",
              "OfficeSuite : Free Office + PDF Editor                100000000.0\n",
              "Facebook Pages Manager                                 50000000.0\n",
              "Vault-Hide SMS,Pics & Videos,App Lock,Cloud backup     50000000.0\n",
              "Indeed Job Search                                      50000000.0\n",
              "Docs To Go™ Free Office Suite                          50000000.0\n",
              "Secure Folder                                          50000000.0\n",
              "Skype for Business for Android                         10000000.0\n",
              "Fast Scanner : Free PDF Scan                           10000000.0\n",
              "MyASUS - Service Center                                10000000.0\n",
              "Name: Installs, dtype: float64"
            ]
          },
          "metadata": {},
          "execution_count": 75
        }
      ]
    },
    {
      "cell_type": "code",
      "source": [
        "#Exploring the LIFESTYLE category\n",
        "\n",
        "and_ls = android_free[android_free[\"Category\"]=='LIFESTYLE']\n",
        "and_ls = and_ls.groupby('App')['Installs'].sum().sort_values( ascending=False)\n",
        "and_ls[:10]"
      ],
      "metadata": {
        "colab": {
          "base_uri": "https://localhost:8080/"
        },
        "id": "jTP7gNVmLiVJ",
        "outputId": "f568ebab-eaa8-4f6c-d0dc-5a45a7ea034e"
      },
      "execution_count": null,
      "outputs": [
        {
          "output_type": "execute_result",
          "data": {
            "text/plain": [
              "App\n",
              "Tinder                                                100000000.0\n",
              "Samsung+                                               50000000.0\n",
              "Diary with lock                                        10000000.0\n",
              "Zara                                                   10000000.0\n",
              "Daily Horoscope                                        10000000.0\n",
              "Sleep as Android: Sleep cycle tracker, smart alarm     10000000.0\n",
              "Rate Guide Bill Letter                                 10000000.0\n",
              "OK cashbag [point of pleasure]                         10000000.0\n",
              "Talking Babsy Baby: Baby Games                         10000000.0\n",
              "Muslim Pro - Prayer Times, Azan, Quran & Qibla         10000000.0\n",
              "Name: Installs, dtype: float64"
            ]
          },
          "metadata": {},
          "execution_count": 76
        }
      ]
    },
    {
      "cell_type": "markdown",
      "source": [
        "**Comment:** *The most popular genres for the Google Playstore are Family, Games, Tools, Business and Lifestyle. I would recommend creating app profiles from these categories. However, developing an app because it belongs to a popular genre does not mean that it would generate a lot of downloads.*\n",
        "\n",
        "I would attempt to explore the different genres by the number of downloads. "
      ],
      "metadata": {
        "id": "Azke82f41mCa"
      }
    },
    {
      "cell_type": "markdown",
      "source": [
        "* **Top Downloads by Genre (Google Playstore)**\n",
        "\n",
        "\n",
        "\n"
      ],
      "metadata": {
        "id": "Oyq66kLWJGyN"
      }
    },
    {
      "cell_type": "code",
      "source": [
        "pop_data = android_free.groupby('Category')['Installs'].sum()\n",
        "pop_data = pop_data/android_free['Category'].value_counts()\n",
        "pop_data.sort_values(ascending=False)"
      ],
      "metadata": {
        "colab": {
          "base_uri": "https://localhost:8080/"
        },
        "id": "mznefaUfZ2B-",
        "outputId": "8ef060b1-8aed-49d7-e73d-2d2a800ab009"
      },
      "execution_count": null,
      "outputs": [
        {
          "output_type": "execute_result",
          "data": {
            "text/plain": [
              "COMMUNICATION          3.845612e+07\n",
              "VIDEO_PLAYERS          2.472787e+07\n",
              "SOCIAL                 2.325365e+07\n",
              "PHOTOGRAPHY            1.780563e+07\n",
              "PRODUCTIVITY           1.678733e+07\n",
              "GAME                   1.556097e+07\n",
              "TRAVEL_AND_LOCAL       1.398408e+07\n",
              "ENTERTAINMENT          1.171976e+07\n",
              "TOOLS                  1.068230e+07\n",
              "NEWS_AND_MAGAZINES     9.549178e+06\n",
              "BOOKS_AND_REFERENCE    8.767812e+06\n",
              "SHOPPING               7.036877e+06\n",
              "PERSONALIZATION        5.201483e+06\n",
              "WEATHER                5.074486e+06\n",
              "HEALTH_AND_FITNESS     4.188822e+06\n",
              "MAPS_AND_NAVIGATION    4.056942e+06\n",
              "FAMILY                 3.695054e+06\n",
              "SPORTS                 3.638640e+06\n",
              "ART_AND_DESIGN         1.986335e+06\n",
              "FOOD_AND_DRINK         1.924898e+06\n",
              "EDUCATION              1.820673e+06\n",
              "BUSINESS               1.712290e+06\n",
              "LIFESTYLE              1.437816e+06\n",
              "FINANCE                1.387692e+06\n",
              "HOUSE_AND_HOME         1.331541e+06\n",
              "DATING                 8.540288e+05\n",
              "COMICS                 8.176573e+05\n",
              "AUTO_AND_VEHICLES      6.473178e+05\n",
              "LIBRARIES_AND_DEMO     6.385037e+05\n",
              "PARENTING              5.426036e+05\n",
              "BEAUTY                 5.131519e+05\n",
              "EVENTS                 2.535422e+05\n",
              "MEDICAL                1.206165e+05\n",
              "dtype: float64"
            ]
          },
          "metadata": {},
          "execution_count": 77
        }
      ]
    },
    {
      "cell_type": "markdown",
      "source": [
        "**Comments:** *As expected the Communications category received a lot of downloads, followed by Video Players, Social, Photography and Productivity*"
      ],
      "metadata": {
        "id": "0bChXU9947X3"
      }
    },
    {
      "cell_type": "code",
      "source": [
        "# Exploring the \"COMMUNICATION\" category\n",
        "and_comms = android_free[android_free[\"Category\"]=='COMMUNICATION']\n",
        "and_comms = and_comms.groupby('App')['Installs'].sum().sort_values( ascending=False)\n",
        "and_comms[:20]"
      ],
      "metadata": {
        "colab": {
          "base_uri": "https://localhost:8080/"
        },
        "id": "ZGai9N8JJqwE",
        "outputId": "2ba0d78a-3d09-4e52-cfa7-b19692176e80"
      },
      "execution_count": null,
      "outputs": [
        {
          "output_type": "execute_result",
          "data": {
            "text/plain": [
              "App\n",
              "Google Chrome: Fast & Secure                         1.000000e+09\n",
              "Messenger – Text and Video Chat for Free             1.000000e+09\n",
              "Hangouts                                             1.000000e+09\n",
              "Gmail                                                1.000000e+09\n",
              "WhatsApp Messenger                                   1.000000e+09\n",
              "Skype - free IM & video calls                        1.000000e+09\n",
              "Google Duo - High Quality Video Calls                5.000000e+08\n",
              "Viber Messenger                                      5.000000e+08\n",
              "imo free video calls and chat                        5.000000e+08\n",
              "LINE: Free Calls & Messages                          5.000000e+08\n",
              "UC Browser - Fast Download Private & Secure          5.000000e+08\n",
              "WeChat                                               1.000000e+08\n",
              "Telegram                                             1.000000e+08\n",
              "Who                                                  1.000000e+08\n",
              "Opera Mini - fast web browser                        1.000000e+08\n",
              "Opera Browser: Fast and Secure                       1.000000e+08\n",
              "Firefox Browser fast & private                       1.000000e+08\n",
              "Truecaller: Caller ID, SMS spam blocking & Dialer    1.000000e+08\n",
              "BBM - Free Calls & Messages                          1.000000e+08\n",
              "GO SMS Pro - Messenger, Free Themes, Emoji           1.000000e+08\n",
              "Name: Installs, dtype: float64"
            ]
          },
          "metadata": {},
          "execution_count": 78
        }
      ]
    },
    {
      "cell_type": "code",
      "source": [
        "# Exploring the \"VIDEO PLAYERS\" category\n",
        "\n",
        "and_vids = android_free[android_free[\"Category\"]=='VIDEO_PLAYERS']\n",
        "and_vids = and_vids.groupby('App')['Installs'].sum().sort_values( ascending=False)\n",
        "and_vids[:20]"
      ],
      "metadata": {
        "colab": {
          "base_uri": "https://localhost:8080/"
        },
        "id": "EU5NHGfWJ7GP",
        "outputId": "77ad5155-f52e-4782-eaf4-5f69a907717c"
      },
      "execution_count": null,
      "outputs": [
        {
          "output_type": "execute_result",
          "data": {
            "text/plain": [
              "App\n",
              "Google Play Movies & TV                               1.000000e+09\n",
              "YouTube                                               1.000000e+09\n",
              "MX Player                                             5.000000e+08\n",
              "VivaVideo - Video Editor & Photo Movie                1.000000e+08\n",
              "VideoShow-Video Editor, Video Maker, Beauty Camera    1.000000e+08\n",
              "VLC for Android                                       1.000000e+08\n",
              "Motorola Gallery                                      1.000000e+08\n",
              "Motorola FM Radio                                     1.000000e+08\n",
              "Dubsmash                                              1.000000e+08\n",
              "MiniMovie - Free Video and Slideshow Editor           5.000000e+07\n",
              "LIKE – Magic Video Maker & Community                  5.000000e+07\n",
              "DU Recorder – Screen Recorder, Video Editor, Live     5.000000e+07\n",
              "Ringdroid                                             5.000000e+07\n",
              "KineMaster – Pro Video Editor                         5.000000e+07\n",
              "VMate                                                 5.000000e+07\n",
              "HD Video Downloader : 2018 Best video mate            5.000000e+07\n",
              "Vigo Video                                            5.000000e+07\n",
              "Samsung Video Library                                 5.000000e+07\n",
              "Vote for                                              5.000000e+07\n",
              "YouTube Studio                                        1.000000e+07\n",
              "Name: Installs, dtype: float64"
            ]
          },
          "metadata": {},
          "execution_count": 79
        }
      ]
    },
    {
      "cell_type": "code",
      "source": [
        "# Exploring the \"SOCIAL\" category\n",
        "\n",
        "and_social = android_free[android_free[\"Category\"]=='SOCIAL']\n",
        "and_social = and_social.groupby('App')['Installs'].sum().sort_values( ascending=False)\n",
        "and_social[:20]"
      ],
      "metadata": {
        "colab": {
          "base_uri": "https://localhost:8080/"
        },
        "id": "SHGJ3fgDJ8G8",
        "outputId": "e5547597-e1bd-4215-9448-f2a939331a0f"
      },
      "execution_count": null,
      "outputs": [
        {
          "output_type": "execute_result",
          "data": {
            "text/plain": [
              "App\n",
              "Instagram                                 1.000000e+09\n",
              "Google+                                   1.000000e+09\n",
              "Facebook                                  1.000000e+09\n",
              "Snapchat                                  5.000000e+08\n",
              "Facebook Lite                             5.000000e+08\n",
              "BIGO LIVE - Live Stream                   1.000000e+08\n",
              "LinkedIn                                  1.000000e+08\n",
              "Tumblr                                    1.000000e+08\n",
              "Tik Tok - including musical.ly            1.000000e+08\n",
              "Pinterest                                 1.000000e+08\n",
              "VK                                        1.000000e+08\n",
              "Tango - Live Video Broadcast              1.000000e+08\n",
              "Badoo - Free Chat & Dating App            1.000000e+08\n",
              "MeetMe: Chat & Meet New People            5.000000e+07\n",
              "Zello PTT Walkie Talkie                   5.000000e+07\n",
              "POF Free Dating App                       5.000000e+07\n",
              "ooVoo Video Calls, Messaging & Stories    5.000000e+07\n",
              "SKOUT - Meet, Chat, Go Live               5.000000e+07\n",
              "Messenger Messenger                       1.000000e+07\n",
              "Periscope - Live Video                    1.000000e+07\n",
              "Name: Installs, dtype: float64"
            ]
          },
          "metadata": {},
          "execution_count": 80
        }
      ]
    },
    {
      "cell_type": "code",
      "source": [
        "# Exploring the \"PHOTOGRAGHY\" category\n",
        "\n",
        "and_photo = android_free[android_free[\"Category\"]=='PHOTOGRAPHY']\n",
        "and_photo = and_photo.groupby('App')['Installs'].sum().sort_values( ascending=False)\n",
        "and_photo[:20]"
      ],
      "metadata": {
        "colab": {
          "base_uri": "https://localhost:8080/"
        },
        "id": "2lTG_WqWM3JN",
        "outputId": "a2099df3-6512-4698-9fd9-57fa2d6e1401"
      },
      "execution_count": null,
      "outputs": [
        {
          "output_type": "execute_result",
          "data": {
            "text/plain": [
              "App\n",
              "Google Photos                                           1.000000e+09\n",
              "Photo Editor Pro                                        1.000000e+08\n",
              "Retrica                                                 1.000000e+08\n",
              "PhotoGrid: Video & Pic Collage Maker, Photo Editor      1.000000e+08\n",
              "Candy Camera - selfie, beauty camera, photo editor      1.000000e+08\n",
              "Camera360: Selfie Photo Editor with Funny Sticker       1.000000e+08\n",
              "Cymera Camera- Photo Editor, Filter,Collage,Layout      1.000000e+08\n",
              "BeautyPlus - Easy Photo Editor & Selfie Camera          1.000000e+08\n",
              "Photo Collage Editor                                    1.000000e+08\n",
              "S Photo Editor - Collage Maker , Photo Collage          1.000000e+08\n",
              "Sweet Selfie - selfie camera, beauty cam, photo edit    1.000000e+08\n",
              "B612 - Beauty & Filter Camera                           1.000000e+08\n",
              "PicsArt Photo Studio: Collage Maker & Pic Editor        1.000000e+08\n",
              "AR effect                                               1.000000e+08\n",
              "YouCam Makeup - Magic Selfie Makeovers                  1.000000e+08\n",
              "YouCam Perfect - Selfie Photo Editor                    1.000000e+08\n",
              "Z Camera - Photo Editor, Beauty Selfie, Collage         1.000000e+08\n",
              "LINE Camera - Photo editor                              1.000000e+08\n",
              "Photo Editor Collage Maker Pro                          1.000000e+08\n",
              "Photo Editor Selfie Camera Filter & Mirror Image        5.000000e+07\n",
              "Name: Installs, dtype: float64"
            ]
          },
          "metadata": {},
          "execution_count": 81
        }
      ]
    },
    {
      "cell_type": "code",
      "source": [
        "# Exploring the \"PRODUCTIVITY\" category\n",
        "\n",
        "and_prod = android_free[android_free[\"Category\"]=='PRODUCTIVITY']\n",
        "and_prod = and_prod.groupby('App')['Installs'].sum().sort_values( ascending=False)\n",
        "and_prod[:20]"
      ],
      "metadata": {
        "colab": {
          "base_uri": "https://localhost:8080/"
        },
        "id": "bCwSrDJiFNPQ",
        "outputId": "a09c0387-0e10-449e-83db-8a0378ebb2eb"
      },
      "execution_count": null,
      "outputs": [
        {
          "output_type": "execute_result",
          "data": {
            "text/plain": [
              "App\n",
              "Google Drive                                         1.000000e+09\n",
              "Google Calendar                                      5.000000e+08\n",
              "Cloud Print                                          5.000000e+08\n",
              "Microsoft Word                                       5.000000e+08\n",
              "Dropbox                                              5.000000e+08\n",
              "Microsoft PowerPoint                                 1.000000e+08\n",
              "WPS Office - Word, Docs, PDF, Note, Slide & Sheet    1.000000e+08\n",
              "Google Slides                                        1.000000e+08\n",
              "Evernote – Organizer, Planner for Notes & Memos      1.000000e+08\n",
              "SwiftKey Keyboard                                    1.000000e+08\n",
              "Adobe Acrobat Reader                                 1.000000e+08\n",
              "Samsung Notes                                        1.000000e+08\n",
              "Microsoft Outlook                                    1.000000e+08\n",
              "Microsoft OneNote                                    1.000000e+08\n",
              "CamScanner - Phone PDF Creator                       1.000000e+08\n",
              "Microsoft OneDrive                                   1.000000e+08\n",
              "ES File Explorer File Manager                        1.000000e+08\n",
              "Google Sheets                                        1.000000e+08\n",
              "Microsoft Excel                                      1.000000e+08\n",
              "Google Keep                                          1.000000e+08\n",
              "Name: Installs, dtype: float64"
            ]
          },
          "metadata": {},
          "execution_count": 96
        }
      ]
    },
    {
      "cell_type": "code",
      "source": [
        "# Exploring the \"TRAVEL\" category\n",
        "\n",
        "and_trav = android_free[android_free[\"Category\"]=='TRAVEL_AND_LOCAL']\n",
        "and_trav = and_trav.groupby('App')['Installs'].sum().sort_values( ascending=False)\n",
        "and_trav[:20]"
      ],
      "metadata": {
        "colab": {
          "base_uri": "https://localhost:8080/"
        },
        "id": "e1bc5gZlDWrh",
        "outputId": "17964f2a-607e-442a-f081-2c36c4e4a32c"
      },
      "execution_count": null,
      "outputs": [
        {
          "output_type": "execute_result",
          "data": {
            "text/plain": [
              "App\n",
              "Maps - Navigate & Explore                             1.000000e+09\n",
              "Google Street View                                    1.000000e+09\n",
              "TripAdvisor Hotels Flights Restaurants Attractions    1.000000e+08\n",
              "Google Earth                                          1.000000e+08\n",
              "Booking.com Travel Deals                              1.000000e+08\n",
              "VZ Navigator                                          5.000000e+07\n",
              "MAPS.ME – Offline Map and Travel Navigation           5.000000e+07\n",
              "trivago: Hotels & Travel                              5.000000e+07\n",
              "2GIS: directory & navigator                           5.000000e+07\n",
              "Goibibo - Flight Hotel Bus Car IRCTC Booking App      1.000000e+07\n",
              "GasBuddy: Find Cheap Gas                              1.000000e+07\n",
              "Despegar.com Hotels and Flights                       1.000000e+07\n",
              "Skyscanner                                            1.000000e+07\n",
              "KAYAK Flights, Hotels & Cars                          1.000000e+07\n",
              "KakaoMap - Map / Navigation                           1.000000e+07\n",
              "Live Camera Viewer ★ World Webcam & IP Cam Streams    1.000000e+07\n",
              "GPS Status & Toolbox                                  1.000000e+07\n",
              "MakeMyTrip-Flight Hotel Bus Cab IRCTC Rail Booking    1.000000e+07\n",
              "Foursquare Swarm: Check In                            1.000000e+07\n",
              "PagesJaunes - local search                            1.000000e+07\n",
              "Name: Installs, dtype: float64"
            ]
          },
          "metadata": {},
          "execution_count": 95
        }
      ]
    },
    {
      "cell_type": "code",
      "source": [
        "# Exploring the \"PHOTOGRAGHY\" category\n",
        "\n",
        "and_photo = android_free[android_free[\"Category\"]=='NEWS_AND_MAGAZINES']\n",
        "and_photo = and_photo.groupby('App')['Installs'].sum().sort_values( ascending=False)\n",
        "and_photo[:20]"
      ],
      "metadata": {
        "colab": {
          "base_uri": "https://localhost:8080/"
        },
        "id": "GwmvgfMuFiau",
        "outputId": "bce58bad-4dd0-4a64-8959-065cc73b2c87"
      },
      "execution_count": null,
      "outputs": [
        {
          "output_type": "execute_result",
          "data": {
            "text/plain": [
              "App\n",
              "Google News                                            1.000000e+09\n",
              "Flipboard: News For Our Time                           5.000000e+08\n",
              "Twitter                                                5.000000e+08\n",
              "Dailyhunt (Newshunt) - Latest News, Viral Videos       5.000000e+07\n",
              "Opera News - Trending news and videos                  1.000000e+07\n",
              "News by The Times of India Newspaper - Latest News     1.000000e+07\n",
              "NewsDog - Latest News, Breaking News, Local News       1.000000e+07\n",
              "Updates for Samsung - Android Update Versions          1.000000e+07\n",
              "BBC News                                               1.000000e+07\n",
              "Topbuzz: Breaking News, Videos & Funny GIFs            1.000000e+07\n",
              "Newsroom: News Worth Sharing                           1.000000e+07\n",
              "News Republic                                          1.000000e+07\n",
              "CNN Breaking US & World News                           1.000000e+07\n",
              "BaBe - Read News                                       1.000000e+07\n",
              "Pulse Nabd - World News, Urgent                        1.000000e+07\n",
              "Read- Latest News, Information, Gossip and Politics    1.000000e+07\n",
              "Reddit: Social News, Trending Memes & Funny Videos     1.000000e+07\n",
              "SmartNews: Breaking News Headlines                     1.000000e+07\n",
              "Pocket                                                 1.000000e+07\n",
              "Bloomberg: Market & Financial News                     1.000000e+07\n",
              "Name: Installs, dtype: float64"
            ]
          },
          "metadata": {},
          "execution_count": 97
        }
      ]
    },
    {
      "cell_type": "code",
      "source": [
        "and_br = android_free[android_free[\"Category\"]=='BOOKS_AND_REFERENCE']\n",
        "and_br = and_br.groupby('App')['Installs'].sum().sort_values( ascending=False)\n",
        "and_br[:30]"
      ],
      "metadata": {
        "colab": {
          "base_uri": "https://localhost:8080/"
        },
        "id": "xbUiYvqNFuKu",
        "outputId": "7d3f516b-553f-4286-e1f0-69d14fd082b2"
      },
      "execution_count": null,
      "outputs": [
        {
          "output_type": "execute_result",
          "data": {
            "text/plain": [
              "App\n",
              "Google Play Books                                     1.000000e+09\n",
              "Wattpad 📖 Free Books                                  1.000000e+08\n",
              "Audiobooks from Audible                               1.000000e+08\n",
              "Amazon Kindle                                         1.000000e+08\n",
              "Bible                                                 1.000000e+08\n",
              "Al'Quran Bahasa Indonesia                             1.000000e+07\n",
              "Al Quran Indonesia                                    1.000000e+07\n",
              "English Hindi Dictionary                              1.000000e+07\n",
              "English Dictionary - Offline                          1.000000e+07\n",
              "HTC Help                                              1.000000e+07\n",
              "JW Library                                            1.000000e+07\n",
              "Aldiko Book Reader                                    1.000000e+07\n",
              "Dictionary.com: Find Definitions for English Words    1.000000e+07\n",
              "Al-Quran (Free)                                       1.000000e+07\n",
              "Moon+ Reader                                          1.000000e+07\n",
              "FBReader: Favorite Book Reader                        1.000000e+07\n",
              "Dictionary - Merriam-Webster                          1.000000e+07\n",
              "Cool Reader                                           1.000000e+07\n",
              "NOOK: Read eBooks & Magazines                         1.000000e+07\n",
              "Oxford Dictionary of English : Free                   1.000000e+07\n",
              "Wikipedia                                             1.000000e+07\n",
              "Quran for Android                                     1.000000e+07\n",
              "Dictionary                                            1.000000e+07\n",
              "Spanish English Translator                            1.000000e+07\n",
              "Dictionary - WordWeb                                  5.000000e+06\n",
              "Ebook Reader                                          5.000000e+06\n",
              "Bible KJV                                             5.000000e+06\n",
              "Ancestry                                              5.000000e+06\n",
              "English to Hindi Dictionary                           5.000000e+06\n",
              "Read books online                                     5.000000e+06\n",
              "Name: Installs, dtype: float64"
            ]
          },
          "metadata": {},
          "execution_count": 107
        }
      ]
    },
    {
      "cell_type": "markdown",
      "source": [
        "**Comment:** *Most of the apps recording high downloads are owned by big players such as Google, Microsoft, Amazon,and Youtube. It will be difficult to compete with these players, particularly in the Communications, Social, Games, Photography, Productivity and, even, travel.Asides the big players, there are a host of other well known apps recording millions of downloads.*"
      ],
      "metadata": {
        "id": "qfCMSKT0HtXw"
      }
    },
    {
      "cell_type": "markdown",
      "source": [
        "* **Most Popular Genres (App Store)**\n"
      ],
      "metadata": {
        "id": "Pz075xsQ8vm2"
      }
    },
    {
      "cell_type": "code",
      "source": [
        "#exploring the \"prime_genre\" columns\n",
        "\n",
        "freq = pd.crosstab(index=ios_free['prime_genre'], columns='count')\n",
        "freq= freq/len(ios_free)*100\n",
        "freq= freq.sort_values(by=['count'], ascending=False)\n",
        "freq"
      ],
      "metadata": {
        "colab": {
          "base_uri": "https://localhost:8080/",
          "height": 802
        },
        "id": "3kmwGiXGJ8K-",
        "outputId": "8a70cc1a-7338-47f9-8c73-8c7903cc9bc7"
      },
      "execution_count": null,
      "outputs": [
        {
          "output_type": "execute_result",
          "data": {
            "text/plain": [
              "col_0                  count\n",
              "prime_genre                 \n",
              "Games              58.136646\n",
              "Entertainment       7.888199\n",
              "Photo & Video       4.968944\n",
              "Education           3.664596\n",
              "Social Networking   3.291925\n",
              "Shopping            2.608696\n",
              "Utilities           2.515528\n",
              "Sports              2.142857\n",
              "Music               2.049689\n",
              "Health & Fitness    2.018634\n",
              "Productivity        1.739130\n",
              "Lifestyle           1.583851\n",
              "News                1.335404\n",
              "Travel              1.242236\n",
              "Finance             1.118012\n",
              "Weather             0.869565\n",
              "Food & Drink        0.807453\n",
              "Reference           0.559006\n",
              "Business            0.527950\n",
              "Book                0.434783\n",
              "Navigation          0.186335\n",
              "Medical             0.186335\n",
              "Catalogs            0.124224"
            ],
            "text/html": [
              "\n",
              "  <div id=\"df-ebde63a9-37c7-40cf-8114-ff4ec1fcb105\">\n",
              "    <div class=\"colab-df-container\">\n",
              "      <div>\n",
              "<style scoped>\n",
              "    .dataframe tbody tr th:only-of-type {\n",
              "        vertical-align: middle;\n",
              "    }\n",
              "\n",
              "    .dataframe tbody tr th {\n",
              "        vertical-align: top;\n",
              "    }\n",
              "\n",
              "    .dataframe thead th {\n",
              "        text-align: right;\n",
              "    }\n",
              "</style>\n",
              "<table border=\"1\" class=\"dataframe\">\n",
              "  <thead>\n",
              "    <tr style=\"text-align: right;\">\n",
              "      <th>col_0</th>\n",
              "      <th>count</th>\n",
              "    </tr>\n",
              "    <tr>\n",
              "      <th>prime_genre</th>\n",
              "      <th></th>\n",
              "    </tr>\n",
              "  </thead>\n",
              "  <tbody>\n",
              "    <tr>\n",
              "      <th>Games</th>\n",
              "      <td>58.136646</td>\n",
              "    </tr>\n",
              "    <tr>\n",
              "      <th>Entertainment</th>\n",
              "      <td>7.888199</td>\n",
              "    </tr>\n",
              "    <tr>\n",
              "      <th>Photo &amp; Video</th>\n",
              "      <td>4.968944</td>\n",
              "    </tr>\n",
              "    <tr>\n",
              "      <th>Education</th>\n",
              "      <td>3.664596</td>\n",
              "    </tr>\n",
              "    <tr>\n",
              "      <th>Social Networking</th>\n",
              "      <td>3.291925</td>\n",
              "    </tr>\n",
              "    <tr>\n",
              "      <th>Shopping</th>\n",
              "      <td>2.608696</td>\n",
              "    </tr>\n",
              "    <tr>\n",
              "      <th>Utilities</th>\n",
              "      <td>2.515528</td>\n",
              "    </tr>\n",
              "    <tr>\n",
              "      <th>Sports</th>\n",
              "      <td>2.142857</td>\n",
              "    </tr>\n",
              "    <tr>\n",
              "      <th>Music</th>\n",
              "      <td>2.049689</td>\n",
              "    </tr>\n",
              "    <tr>\n",
              "      <th>Health &amp; Fitness</th>\n",
              "      <td>2.018634</td>\n",
              "    </tr>\n",
              "    <tr>\n",
              "      <th>Productivity</th>\n",
              "      <td>1.739130</td>\n",
              "    </tr>\n",
              "    <tr>\n",
              "      <th>Lifestyle</th>\n",
              "      <td>1.583851</td>\n",
              "    </tr>\n",
              "    <tr>\n",
              "      <th>News</th>\n",
              "      <td>1.335404</td>\n",
              "    </tr>\n",
              "    <tr>\n",
              "      <th>Travel</th>\n",
              "      <td>1.242236</td>\n",
              "    </tr>\n",
              "    <tr>\n",
              "      <th>Finance</th>\n",
              "      <td>1.118012</td>\n",
              "    </tr>\n",
              "    <tr>\n",
              "      <th>Weather</th>\n",
              "      <td>0.869565</td>\n",
              "    </tr>\n",
              "    <tr>\n",
              "      <th>Food &amp; Drink</th>\n",
              "      <td>0.807453</td>\n",
              "    </tr>\n",
              "    <tr>\n",
              "      <th>Reference</th>\n",
              "      <td>0.559006</td>\n",
              "    </tr>\n",
              "    <tr>\n",
              "      <th>Business</th>\n",
              "      <td>0.527950</td>\n",
              "    </tr>\n",
              "    <tr>\n",
              "      <th>Book</th>\n",
              "      <td>0.434783</td>\n",
              "    </tr>\n",
              "    <tr>\n",
              "      <th>Navigation</th>\n",
              "      <td>0.186335</td>\n",
              "    </tr>\n",
              "    <tr>\n",
              "      <th>Medical</th>\n",
              "      <td>0.186335</td>\n",
              "    </tr>\n",
              "    <tr>\n",
              "      <th>Catalogs</th>\n",
              "      <td>0.124224</td>\n",
              "    </tr>\n",
              "  </tbody>\n",
              "</table>\n",
              "</div>\n",
              "      <button class=\"colab-df-convert\" onclick=\"convertToInteractive('df-ebde63a9-37c7-40cf-8114-ff4ec1fcb105')\"\n",
              "              title=\"Convert this dataframe to an interactive table.\"\n",
              "              style=\"display:none;\">\n",
              "        \n",
              "  <svg xmlns=\"http://www.w3.org/2000/svg\" height=\"24px\"viewBox=\"0 0 24 24\"\n",
              "       width=\"24px\">\n",
              "    <path d=\"M0 0h24v24H0V0z\" fill=\"none\"/>\n",
              "    <path d=\"M18.56 5.44l.94 2.06.94-2.06 2.06-.94-2.06-.94-.94-2.06-.94 2.06-2.06.94zm-11 1L8.5 8.5l.94-2.06 2.06-.94-2.06-.94L8.5 2.5l-.94 2.06-2.06.94zm10 10l.94 2.06.94-2.06 2.06-.94-2.06-.94-.94-2.06-.94 2.06-2.06.94z\"/><path d=\"M17.41 7.96l-1.37-1.37c-.4-.4-.92-.59-1.43-.59-.52 0-1.04.2-1.43.59L10.3 9.45l-7.72 7.72c-.78.78-.78 2.05 0 2.83L4 21.41c.39.39.9.59 1.41.59.51 0 1.02-.2 1.41-.59l7.78-7.78 2.81-2.81c.8-.78.8-2.07 0-2.86zM5.41 20L4 18.59l7.72-7.72 1.47 1.35L5.41 20z\"/>\n",
              "  </svg>\n",
              "      </button>\n",
              "      \n",
              "  <style>\n",
              "    .colab-df-container {\n",
              "      display:flex;\n",
              "      flex-wrap:wrap;\n",
              "      gap: 12px;\n",
              "    }\n",
              "\n",
              "    .colab-df-convert {\n",
              "      background-color: #E8F0FE;\n",
              "      border: none;\n",
              "      border-radius: 50%;\n",
              "      cursor: pointer;\n",
              "      display: none;\n",
              "      fill: #1967D2;\n",
              "      height: 32px;\n",
              "      padding: 0 0 0 0;\n",
              "      width: 32px;\n",
              "    }\n",
              "\n",
              "    .colab-df-convert:hover {\n",
              "      background-color: #E2EBFA;\n",
              "      box-shadow: 0px 1px 2px rgba(60, 64, 67, 0.3), 0px 1px 3px 1px rgba(60, 64, 67, 0.15);\n",
              "      fill: #174EA6;\n",
              "    }\n",
              "\n",
              "    [theme=dark] .colab-df-convert {\n",
              "      background-color: #3B4455;\n",
              "      fill: #D2E3FC;\n",
              "    }\n",
              "\n",
              "    [theme=dark] .colab-df-convert:hover {\n",
              "      background-color: #434B5C;\n",
              "      box-shadow: 0px 1px 3px 1px rgba(0, 0, 0, 0.15);\n",
              "      filter: drop-shadow(0px 1px 2px rgba(0, 0, 0, 0.3));\n",
              "      fill: #FFFFFF;\n",
              "    }\n",
              "  </style>\n",
              "\n",
              "      <script>\n",
              "        const buttonEl =\n",
              "          document.querySelector('#df-ebde63a9-37c7-40cf-8114-ff4ec1fcb105 button.colab-df-convert');\n",
              "        buttonEl.style.display =\n",
              "          google.colab.kernel.accessAllowed ? 'block' : 'none';\n",
              "\n",
              "        async function convertToInteractive(key) {\n",
              "          const element = document.querySelector('#df-ebde63a9-37c7-40cf-8114-ff4ec1fcb105');\n",
              "          const dataTable =\n",
              "            await google.colab.kernel.invokeFunction('convertToInteractive',\n",
              "                                                     [key], {});\n",
              "          if (!dataTable) return;\n",
              "\n",
              "          const docLinkHtml = 'Like what you see? Visit the ' +\n",
              "            '<a target=\"_blank\" href=https://colab.research.google.com/notebooks/data_table.ipynb>data table notebook</a>'\n",
              "            + ' to learn more about interactive tables.';\n",
              "          element.innerHTML = '';\n",
              "          dataTable['output_type'] = 'display_data';\n",
              "          await google.colab.output.renderOutput(dataTable, element);\n",
              "          const docLink = document.createElement('div');\n",
              "          docLink.innerHTML = docLinkHtml;\n",
              "          element.appendChild(docLink);\n",
              "        }\n",
              "      </script>\n",
              "    </div>\n",
              "  </div>\n",
              "  "
            ]
          },
          "metadata": {},
          "execution_count": 82
        }
      ]
    },
    {
      "cell_type": "markdown",
      "source": [
        "**Comment:** *More than half (58.1%) of the apps on the App Store are Games, followed by Entertainment(7.88%), Photo & Video(4.96%), Education(3.66%) and Social Networking(3.29%). I will explore the top dominant apps below based on the count of ratings.*\n"
      ],
      "metadata": {
        "id": "MNAxlrhB9ZmV"
      }
    },
    {
      "cell_type": "code",
      "source": [
        "#exploring the \"Games\" columns\n",
        "\n",
        "ios_games = ios_free[ios_free[\"prime_genre\"]=='Games']\n",
        "ios_games = ios_games.groupby('track_name')['rating_count_tot'].sum().sort_values( ascending=False)\n",
        "ios_games[:20]"
      ],
      "metadata": {
        "colab": {
          "base_uri": "https://localhost:8080/"
        },
        "id": "tjf1SPPuPWoG",
        "outputId": "c5d0cf55-3008-49c1-d748-faf0429d7fcd"
      },
      "execution_count": null,
      "outputs": [
        {
          "output_type": "execute_result",
          "data": {
            "text/plain": [
              "track_name\n",
              "Clash of Clans                             2130805\n",
              "Temple Run                                 1724546\n",
              "Candy Crush Saga                            961794\n",
              "Angry Birds                                 824451\n",
              "Subway Surfers                              706110\n",
              "Solitaire                                   679055\n",
              "CSR Racing                                  677247\n",
              "Crossy Road - Endless Arcade Hopper         669079\n",
              "Injustice: Gods Among Us                    612532\n",
              "Hay Day                                     567344\n",
              "PAC-MAN                                     508808\n",
              "DragonVale                                  503230\n",
              "Head Soccer                                 481564\n",
              "Despicable Me: Minion Rush                  464312\n",
              "The Sims™ FreePlay                          446880\n",
              "Sonic Dash                                  418033\n",
              "8 Ball Pool™                                416736\n",
              "Tiny Tower - Free City Building             414803\n",
              "Jetpack Joyride                             405647\n",
              "Bike Race - Top Motorcycle Racing Games     405007\n",
              "Name: rating_count_tot, dtype: int64"
            ]
          },
          "metadata": {},
          "execution_count": 83
        }
      ]
    },
    {
      "cell_type": "code",
      "source": [
        "#exploring the \"Entertainment\" columns\n",
        "\n",
        "ios_ent = ios_free[ios_free[\"prime_genre\"]=='Entertainment']\n",
        "ios_ent = ios_ent.groupby('track_name')['rating_count_tot'].sum().sort_values( ascending=False)\n",
        "ios_ent[:20]"
      ],
      "metadata": {
        "colab": {
          "base_uri": "https://localhost:8080/"
        },
        "id": "wW8JbmzmOuQv",
        "outputId": "311b8530-404d-4a38-c880-33e332ff3b28"
      },
      "execution_count": null,
      "outputs": [
        {
          "output_type": "execute_result",
          "data": {
            "text/plain": [
              "track_name\n",
              "Netflix                                            308844\n",
              "Fandango Movies - Times + Tickets                  291787\n",
              "Colorfy: Coloring Book for Adults                  247809\n",
              "IMDb Movies & TV - Trailers and Showtimes          183425\n",
              "TRUTH or DARE!!! - FREE                            171055\n",
              "Mad Libs                                           117889\n",
              "Twitch                                             109549\n",
              "Action Movie FX                                    101222\n",
              "Voice Changer Plus                                  98777\n",
              "iFunny :)                                           98344\n",
              "The CW                                              97368\n",
              "The Moron Test                                      88613\n",
              "DIRECTV                                             81006\n",
              "ABC – Watch Live TV & Stream Full Episodes          78890\n",
              "Xbox                                                72187\n",
              "Redbox                                              60236\n",
              "Talking Tom Cat 2 for iPad                          56399\n",
              "Hulu: Watch TV Shows & Stream the Latest Movies     56170\n",
              "NBC – Watch Now and Stream Full TV Episodes         55950\n",
              "Emoji>                                              55338\n",
              "Name: rating_count_tot, dtype: int64"
            ]
          },
          "metadata": {},
          "execution_count": 84
        }
      ]
    },
    {
      "cell_type": "code",
      "source": [
        "#exploring the \"Photo & Video\" columns\n",
        "\n",
        "ios_pv = ios_free[ios_free[\"prime_genre\"]=='Photo & Video']\n",
        "ios_pv = ios_pv.groupby('track_name')['rating_count_tot'].sum().sort_values( ascending=False)\n",
        "ios_pv[:20]"
      ],
      "metadata": {
        "colab": {
          "base_uri": "https://localhost:8080/"
        },
        "id": "_Wo-1ICbPtHI",
        "outputId": "4c912dde-b9d6-4758-b021-ff4e9b868de5"
      },
      "execution_count": null,
      "outputs": [
        {
          "output_type": "execute_result",
          "data": {
            "text/plain": [
              "track_name\n",
              "Instagram                                             2161558\n",
              "Snapchat                                               323905\n",
              "YouTube - Watch Videos, Music, and Live Streams        278166\n",
              "Pic Collage - Picture Editor & Photo Collage Maker     123433\n",
              "Funimate video editor: add cool effects to videos      123268\n",
              "musical.ly - your video social network                 105429\n",
              "Photo Collage Maker & Photo Editor - Live Collage       93781\n",
              "Vine Camera                                             90355\n",
              "Google Photos - unlimited photo and video storage       88742\n",
              "Flipagram                                               79905\n",
              "Mixgram - Picture Collage Maker - Pic Photo Editor      54282\n",
              "Shutterfly: Prints, Photo Books, Cards Made Easy        51427\n",
              "Pic Jointer – Photo Collage, Camera Effects Editor      51330\n",
              "Color Pop Effects - Photo Editor & Picture Editing      45320\n",
              "Photo Grid - photo collage maker & photo editor         40531\n",
              "iSwap Faces LITE                                        39722\n",
              "Photo Editor by Aviary                                  39501\n",
              "MOLDIV - Photo Editor, Collage & Beauty Camera          39501\n",
              "Photo Lab: Picture Editor, effects & fun face app       34585\n",
              "Rookie Cam - Photo Editor & Filter Camera               33921\n",
              "Name: rating_count_tot, dtype: int64"
            ]
          },
          "metadata": {},
          "execution_count": 85
        }
      ]
    },
    {
      "cell_type": "code",
      "source": [
        "#exploring the \"Education\" columns\n",
        "\n",
        "ios_education = ios_free[ios_free[\"prime_genre\"]=='Education']\n",
        "ios_education = ios_education.groupby('track_name')['rating_count_tot'].sum().sort_values( ascending=False)\n",
        "ios_education[:20]"
      ],
      "metadata": {
        "colab": {
          "base_uri": "https://localhost:8080/"
        },
        "id": "EQrCE1O6R5Uf",
        "outputId": "cae9d4bd-6f08-4985-f9fa-66587912e3f7"
      },
      "execution_count": null,
      "outputs": [
        {
          "output_type": "execute_result",
          "data": {
            "text/plain": [
              "track_name\n",
              "Duolingo - Learn Spanish, French and more            162701\n",
              "Guess My Age  Math Magic                            123190\n",
              "Lumosity - Brain Training                             96534\n",
              "Elevate - Brain Training and Games                    58092\n",
              "Fit Brains Trainer                                    46363\n",
              "ClassDojo                                             35440\n",
              "Memrise: learn languages                              20383\n",
              "Peak - Brain Training                                 20322\n",
              "Canvas by Instructure                                 19981\n",
              "ABCmouse.com - Early Learning Academy                 18749\n",
              "Quizlet: Study Flashcards, Languages & Vocabulary     16683\n",
              "Photomath - Camera Calculator                         16523\n",
              "iTunes U                                              15801\n",
              "Blackboard Mobile Learn™                              13567\n",
              "Star Chart                                            13482\n",
              "Remind: Fast, Efficient School Messaging               9796\n",
              "PBS KIDS Video                                         8651\n",
              "Toca Kitchen Monsters                                  8062\n",
              "Toca Hair Salon - Christmas Gift                       8049\n",
              "Edmodo                                                 7197\n",
              "Name: rating_count_tot, dtype: int64"
            ]
          },
          "metadata": {},
          "execution_count": 86
        }
      ]
    },
    {
      "cell_type": "markdown",
      "source": [
        "* **Top Downloads by Genre (App Store)**\n",
        "\n",
        "\n"
      ],
      "metadata": {
        "id": "s2BLCZDnuwsT"
      }
    },
    {
      "cell_type": "code",
      "source": [
        "#average downloads by Genre in the ios dataset\n",
        "\n",
        "pop_data = ios_free.groupby('prime_genre')['rating_count_tot'].sum()\n",
        "pop_data = pop_data/ios_free['prime_genre'].value_counts()\n",
        "pop_data.sort_values(ascending=False)"
      ],
      "metadata": {
        "colab": {
          "base_uri": "https://localhost:8080/"
        },
        "id": "6gRtuWwEjhcj",
        "outputId": "2009330f-b869-4981-d719-58c66178b0ec"
      },
      "execution_count": null,
      "outputs": [
        {
          "output_type": "execute_result",
          "data": {
            "text/plain": [
              "Navigation           86090.333333\n",
              "Reference            74942.111111\n",
              "Social Networking    71548.349057\n",
              "Music                57326.530303\n",
              "Weather              52279.892857\n",
              "Book                 39758.500000\n",
              "Food & Drink         33333.923077\n",
              "Finance              31467.944444\n",
              "Photo & Video        28441.543750\n",
              "Travel               28243.800000\n",
              "Shopping             26919.690476\n",
              "Health & Fitness     23298.015385\n",
              "Sports               23008.898551\n",
              "Games                22812.924679\n",
              "News                 21248.023256\n",
              "Productivity         21028.410714\n",
              "Utilities            18684.456790\n",
              "Lifestyle            16485.764706\n",
              "Entertainment        14029.830709\n",
              "Business              7491.117647\n",
              "Education             7003.983051\n",
              "Catalogs              4004.000000\n",
              "Medical                612.000000\n",
              "dtype: float64"
            ]
          },
          "metadata": {},
          "execution_count": 87
        }
      ]
    },
    {
      "cell_type": "code",
      "source": [
        "#Exploring the \"Navigation\" columns\n",
        "\n",
        "ios_nav = ios_free[ios_free[\"prime_genre\"]=='Navigation']\n",
        "ios_nav = ios_nav.groupby('track_name')['rating_count_tot'].sum().sort_values( ascending=False)\n",
        "ios_nav[:10]"
      ],
      "metadata": {
        "id": "0Jb1VMCswxV2",
        "colab": {
          "base_uri": "https://localhost:8080/"
        },
        "outputId": "df5b44b8-9909-4b65-c881-af36a6cfd1e0"
      },
      "execution_count": null,
      "outputs": [
        {
          "output_type": "execute_result",
          "data": {
            "text/plain": [
              "track_name\n",
              "Waze - GPS Navigation, Maps & Real-time Traffic     345046\n",
              "Google Maps - Navigation & Transit                  154911\n",
              "Geocaching®                                          12811\n",
              "CoPilot GPS – Car Navigation & Offline Maps           3582\n",
              "ImmobilienScout24: Real Estate Search in Germany       187\n",
              "Railway Route Search                                     5\n",
              "Name: rating_count_tot, dtype: int64"
            ]
          },
          "metadata": {},
          "execution_count": 88
        }
      ]
    },
    {
      "cell_type": "code",
      "source": [
        "#exploring the \"Reference\" columns\n",
        "\n",
        "ios_ref = ios_free[ios_free[\"prime_genre\"]=='Reference']\n",
        "ios_ref = ios_ref.groupby('track_name')['rating_count_tot'].sum().sort_values( ascending=False)\n",
        "ios_ref[:15]"
      ],
      "metadata": {
        "colab": {
          "base_uri": "https://localhost:8080/"
        },
        "id": "BJ_uocXtSrAG",
        "outputId": "e59de2b9-5d78-4444-b715-fa8739bc95f5"
      },
      "execution_count": null,
      "outputs": [
        {
          "output_type": "execute_result",
          "data": {
            "text/plain": [
              "track_name\n",
              "Bible                                                                                                 985920\n",
              "Dictionary.com Dictionary & Thesaurus                                                                 200047\n",
              "Dictionary.com Dictionary & Thesaurus for iPad                                                         54175\n",
              "Google Translate                                                                                       26786\n",
              "Muslim Pro: Ramadan 2017 Prayer Times, Azan, Quran                                                     18418\n",
              "New Furniture Mods - Pocket Wiki & Game Tools for Minecraft PC Edition                                 17588\n",
              "Merriam-Webster Dictionary                                                                             16849\n",
              "Night Sky                                                                                              12122\n",
              "City Maps for Minecraft PE - The Best Maps for Minecraft Pocket Edition (MCPE)                          8535\n",
              "LUCKY BLOCK MOD ™ for Minecraft PC Edition - The Best Pocket Wiki & Mods Installer Tools                4693\n",
              "GUNS MODS for Minecraft PC Edition - Mods Tools                                                         1497\n",
              "Guides for Pokémon GO - Pokemon GO News and Cheats                                                       826\n",
              "WWDC                                                                                                     762\n",
              "Horror Maps for Minecraft PE - Download The Scariest Maps for Minecraft Pocket Edition (MCPE) Free       718\n",
              "VPN Express                                                                                               14\n",
              "Name: rating_count_tot, dtype: int64"
            ]
          },
          "metadata": {},
          "execution_count": 89
        }
      ]
    },
    {
      "cell_type": "code",
      "source": [
        "#exploring the \"Music\" columns\n",
        "\n",
        "ios_mus = ios_free[ios_free[\"prime_genre\"]=='Music']\n",
        "ios_mus = ios_mus.groupby('track_name')['rating_count_tot'].sum().sort_values( ascending=False)\n",
        "ios_mus[:15]"
      ],
      "metadata": {
        "colab": {
          "base_uri": "https://localhost:8080/"
        },
        "id": "e8ODefirCsXQ",
        "outputId": "53c92f1f-b213-4769-b71d-70732a54ba62"
      },
      "execution_count": null,
      "outputs": [
        {
          "output_type": "execute_result",
          "data": {
            "text/plain": [
              "track_name\n",
              "Pandora - Music & Radio                              1126879\n",
              "Spotify Music                                         878563\n",
              "Shazam - Discover music, artists, videos & lyrics     402925\n",
              "iHeartRadio – Free Music & Radio Stations             293228\n",
              "SoundCloud - Music & Audio                            135744\n",
              "Magic Piano by Smule                                  131695\n",
              "Smule Sing!                                           119316\n",
              "TuneIn Radio - MLB NBA Audiobooks Podcasts Music      110420\n",
              "Amazon Music                                          106235\n",
              "SoundHound Song Search & Music Player                  82602\n",
              "Sonos Controller                                       48905\n",
              "Bandsintown Concerts                                   30845\n",
              "Karaoke - Sing Karaoke, Unlimited Songs!               28606\n",
              "My Mixtapez Music                                      26286\n",
              "Sing Karaoke Songs Unlimited with StarMaker            26227\n",
              "Name: rating_count_tot, dtype: int64"
            ]
          },
          "metadata": {},
          "execution_count": 93
        }
      ]
    },
    {
      "cell_type": "code",
      "source": [
        "#exploring the \"Weather\" columns\n",
        "\n",
        "ios_wea = ios_free[ios_free[\"prime_genre\"]=='Weather']\n",
        "ios_wea = ios_wea.groupby('track_name')['rating_count_tot'].sum().sort_values( ascending=False)\n",
        "ios_wea[:15]"
      ],
      "metadata": {
        "colab": {
          "base_uri": "https://localhost:8080/"
        },
        "id": "c3Cov2e5C8eV",
        "outputId": "51bbba51-60d3-4f0f-a036-f548d5c65ac0"
      },
      "execution_count": null,
      "outputs": [
        {
          "output_type": "execute_result",
          "data": {
            "text/plain": [
              "track_name\n",
              "The Weather Channel: Forecast, Radar & Alerts                                            495626\n",
              "The Weather Channel App for iPad – best local forecast, radar map, and storm tracking    208648\n",
              "WeatherBug - Local Weather, Radar, Maps, Alerts                                          188583\n",
              "MyRadar NOAA Weather Radar Forecast                                                      150158\n",
              "AccuWeather - Weather for Life                                                           144214\n",
              "Yahoo Weather                                                                            112603\n",
              "Weather Underground: Custom Forecast & Local Radar                                        49192\n",
              "NOAA Weather Radar - Weather Forecast & HD Radar                                          45696\n",
              "Weather Live Free - Weather Forecast & Alerts                                             35702\n",
              "Storm Radar                                                                               22792\n",
              "QuakeFeed Earthquake Map, Alerts, and News                                                 6081\n",
              "Moji Weather - Free Weather Forecast                                                       2333\n",
              "Hurricane by American Red Cross                                                            1158\n",
              "Forecast Bar                                                                                375\n",
              "Hurricane Tracker WESH 2 Orlando, Central Florida                                           203\n",
              "Name: rating_count_tot, dtype: int64"
            ]
          },
          "metadata": {},
          "execution_count": 94
        }
      ]
    },
    {
      "cell_type": "code",
      "source": [
        "#exploring the \"Social Networking\" columns\n",
        "\n",
        "ios_soc = ios_free[ios_free[\"prime_genre\"]=='Social Networking']\n",
        "ios_soc = ios_soc.groupby('track_name')['rating_count_tot'].sum().sort_values( ascending=False)\n",
        "ios_soc[:15]"
      ],
      "metadata": {
        "colab": {
          "base_uri": "https://localhost:8080/"
        },
        "id": "PB2spDq1S6TL",
        "outputId": "1ba7a3e4-8277-46ae-ccb8-aae9830c3a4e"
      },
      "execution_count": null,
      "outputs": [
        {
          "output_type": "execute_result",
          "data": {
            "text/plain": [
              "track_name\n",
              "Facebook                                              2974676\n",
              "Pinterest                                             1061624\n",
              "Skype for iPhone                                       373519\n",
              "Messenger                                              351466\n",
              "Tumblr                                                 334293\n",
              "WhatsApp Messenger                                     287589\n",
              "Kik                                                    260965\n",
              "ooVoo – Free Video Call, Text and Voice                177501\n",
              "TextNow - Unlimited Text + Calls                       164963\n",
              "Viber Messenger – Text & Call                          164249\n",
              "Followers - Social Analytics For Instagram             112778\n",
              "MeetMe - Chat and Meet New People                       97072\n",
              "We Heart It - Fashion, wallpapers, quotes, tattoos      90414\n",
              "InsTrack for Instagram - Analytics Plus More            85535\n",
              "Tango - Free Video Call, Voice and Chat                 75412\n",
              "Name: rating_count_tot, dtype: int64"
            ]
          },
          "metadata": {},
          "execution_count": 91
        }
      ]
    },
    {
      "cell_type": "code",
      "source": [
        "#exploring the \"Travel\" columns\n",
        "\n",
        "ios_trav = ios_free[ios_free[\"prime_genre\"]=='Travel']\n",
        "ios_trav = ios_trav.groupby('track_name')['rating_count_tot'].sum().sort_values( ascending=False)\n",
        "ios_trav[:15]"
      ],
      "metadata": {
        "colab": {
          "base_uri": "https://localhost:8080/"
        },
        "id": "EsY974z6TNOb",
        "outputId": "5eedff3a-0f34-4a13-c4a2-e1d0b990276d"
      },
      "execution_count": null,
      "outputs": [
        {
          "output_type": "execute_result",
          "data": {
            "text/plain": [
              "track_name\n",
              "Google Earth                                        446185\n",
              "Yelp - Nearby Restaurants, Shopping & Services      223885\n",
              "GasBuddy                                            145549\n",
              "TripAdvisor Hotels Flights Restaurants               56194\n",
              "Uber                                                 49466\n",
              "Lyft                                                 46922\n",
              "HotelTonight - Great Deals on Last Minute Hotels     32341\n",
              "Hotels & Vacation Rentals by Booking.com             31261\n",
              "Southwest Airlines                                   30552\n",
              "Airbnb                                               22302\n",
              "Expedia Hotels, Flights & Vacation Package Deals     10278\n",
              "Fly Delta                                             8094\n",
              "Hopper - Predict, Watch & Book Flights                6944\n",
              "United Airlines                                       5748\n",
              "Skiplagged — Actually Cheap Flights & Hotels          1851\n",
              "Name: rating_count_tot, dtype: int64"
            ]
          },
          "metadata": {},
          "execution_count": 92
        }
      ]
    },
    {
      "cell_type": "markdown",
      "source": [
        "### **Conclusion:**\n",
        "\n",
        "I will recommend apps profiles from the **Travel** and **Reference** genres for the App store and **Book & References** genre for the Google Playstore. Since Games is one of the most popular genres across both stores. I would recommend creating games apps around popular books like the Bible, Quran and Dictionaries. "
      ],
      "metadata": {
        "id": "vylw4JAGEBOS"
      }
    }
  ]
}
