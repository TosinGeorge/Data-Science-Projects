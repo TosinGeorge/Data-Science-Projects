{
  "nbformat": 4,
  "nbformat_minor": 0,
  "metadata": {
    "colab": {
      "provenance": [],
      "authorship_tag": "ABX9TyP9bUNDa+kihsZaUmvvPUg+",
      "include_colab_link": true
    },
    "kernelspec": {
      "name": "python3",
      "display_name": "Python 3"
    },
    "language_info": {
      "name": "python"
    }
  },
  "cells": [
    {
      "cell_type": "markdown",
      "metadata": {
        "id": "view-in-github",
        "colab_type": "text"
      },
      "source": [
        "<a href=\"https://colab.research.google.com/github/TosinGeorge/Data-Science-Projects/blob/main/Financial_Inclusion_Challenge_Zindi.ipynb\" target=\"_parent\"><img src=\"https://colab.research.google.com/assets/colab-badge.svg\" alt=\"Open In Colab\"/></a>"
      ]
    },
    {
      "cell_type": "markdown",
      "source": [
        "### **Financial Inclusion Prediction**\n",
        "\n",
        "The aim of this project is to predict whether a person will have a bank account or not based on the following features below:\n",
        "* country                 \n",
        "* year                   \n",
        "* uniqueid                \n",
        "* location_type           \n",
        "* cellphone_access        \n",
        "* household_size          \n",
        "* age_of_respondent      \n",
        "* gender_of_respondent   \n",
        "* relationship_with_head \n",
        "* marital_status         \n",
        "* education_level        \n",
        "* job_type         "
      ],
      "metadata": {
        "id": "tYJsFW95oM8X"
      }
    },
    {
      "cell_type": "markdown",
      "source": [
        "* Import the necessary libraries\n",
        "\n"
      ],
      "metadata": {
        "id": "MTiMeo_KpNBE"
      }
    },
    {
      "cell_type": "code",
      "execution_count": 1,
      "metadata": {
        "id": "lTpcFJEdVt_4"
      },
      "outputs": [],
      "source": [
        "# dataframe and plotting\n",
        "import pandas as pd\n",
        "import numpy as np\n",
        "import seaborn as sns\n",
        "import matplotlib.pyplot as plt\n",
        "\n",
        "# machine learning\n",
        "from sklearn.model_selection import train_test_split\n",
        "from sklearn.metrics import accuracy_score\n",
        "\n",
        "import warnings\n",
        "warnings.filterwarnings('ignore')"
      ]
    },
    {
      "cell_type": "markdown",
      "source": [
        "* Import the test and train datasets\n",
        "\n",
        "\n",
        "\n",
        "\n",
        "\n"
      ],
      "metadata": {
        "id": "alYnHqcxpzns"
      }
    },
    {
      "cell_type": "code",
      "source": [
        "#importing the dataset\n",
        "train = pd.read_csv('Train.csv')\n",
        "test = pd.read_csv('Test.csv')"
      ],
      "metadata": {
        "id": "t3KsekDwXu-C"
      },
      "execution_count": 2,
      "outputs": []
    },
    {
      "cell_type": "markdown",
      "source": [
        "* Determining the shapes of our datasets\n"
      ],
      "metadata": {
        "id": "EsHxOFO3qhEd"
      }
    },
    {
      "cell_type": "code",
      "source": [
        "#shape of datasets\n",
        "print('train data shape :', train.shape)\n",
        "print('test data shape :', test.shape)"
      ],
      "metadata": {
        "colab": {
          "base_uri": "https://localhost:8080/"
        },
        "id": "P7SPtV-raEtZ",
        "outputId": "c616806e-bd31-46fb-dcaf-5c42eec891f9"
      },
      "execution_count": 3,
      "outputs": [
        {
          "output_type": "stream",
          "name": "stdout",
          "text": [
            "train data shape : (23524, 13)\n",
            "test data shape : (10086, 12)\n"
          ]
        }
      ]
    },
    {
      "cell_type": "code",
      "source": [
        "#exploring samples of the dataset\n",
        "train.sample(4)"
      ],
      "metadata": {
        "colab": {
          "base_uri": "https://localhost:8080/",
          "height": 343
        },
        "id": "MfXmasa7aqlQ",
        "outputId": "93b30ac7-1efa-434f-9de1-59bd239c3843"
      },
      "execution_count": 4,
      "outputs": [
        {
          "output_type": "execute_result",
          "data": {
            "text/plain": [
              "        country  year       uniqueid bank_account location_type  \\\n",
              "3148      Kenya  2018  uniqueid_3149           No         Urban   \n",
              "2988      Kenya  2018  uniqueid_2989           No         Rural   \n",
              "17508  Tanzania  2017  uniqueid_2706           No         Urban   \n",
              "8432     Rwanda  2016  uniqueid_2365           No         Rural   \n",
              "\n",
              "      cellphone_access  household_size  age_of_respondent  \\\n",
              "3148               Yes               2                 38   \n",
              "2988               Yes              12                 19   \n",
              "17508              Yes               3                 17   \n",
              "8432               Yes               5                 69   \n",
              "\n",
              "      gender_of_respondent relationship_with_head        marital_status  \\\n",
              "3148                Female    Other non-relatives    Divorced/Seperated   \n",
              "2988                  Male                  Child  Single/Never Married   \n",
              "17508                 Male                 Parent    Divorced/Seperated   \n",
              "8432                Female      Head of Household               Widowed   \n",
              "\n",
              "           education_level                   job_type  \n",
              "3148     Primary education  Formally employed Private  \n",
              "2988   Secondary education        Farming and Fishing  \n",
              "17508    Primary education              Self employed  \n",
              "8432     Primary education        Informally employed  "
            ],
            "text/html": [
              "\n",
              "  <div id=\"df-8abf0fcb-4c2c-4b0c-ab96-92b8ec8b8c7b\">\n",
              "    <div class=\"colab-df-container\">\n",
              "      <div>\n",
              "<style scoped>\n",
              "    .dataframe tbody tr th:only-of-type {\n",
              "        vertical-align: middle;\n",
              "    }\n",
              "\n",
              "    .dataframe tbody tr th {\n",
              "        vertical-align: top;\n",
              "    }\n",
              "\n",
              "    .dataframe thead th {\n",
              "        text-align: right;\n",
              "    }\n",
              "</style>\n",
              "<table border=\"1\" class=\"dataframe\">\n",
              "  <thead>\n",
              "    <tr style=\"text-align: right;\">\n",
              "      <th></th>\n",
              "      <th>country</th>\n",
              "      <th>year</th>\n",
              "      <th>uniqueid</th>\n",
              "      <th>bank_account</th>\n",
              "      <th>location_type</th>\n",
              "      <th>cellphone_access</th>\n",
              "      <th>household_size</th>\n",
              "      <th>age_of_respondent</th>\n",
              "      <th>gender_of_respondent</th>\n",
              "      <th>relationship_with_head</th>\n",
              "      <th>marital_status</th>\n",
              "      <th>education_level</th>\n",
              "      <th>job_type</th>\n",
              "    </tr>\n",
              "  </thead>\n",
              "  <tbody>\n",
              "    <tr>\n",
              "      <th>3148</th>\n",
              "      <td>Kenya</td>\n",
              "      <td>2018</td>\n",
              "      <td>uniqueid_3149</td>\n",
              "      <td>No</td>\n",
              "      <td>Urban</td>\n",
              "      <td>Yes</td>\n",
              "      <td>2</td>\n",
              "      <td>38</td>\n",
              "      <td>Female</td>\n",
              "      <td>Other non-relatives</td>\n",
              "      <td>Divorced/Seperated</td>\n",
              "      <td>Primary education</td>\n",
              "      <td>Formally employed Private</td>\n",
              "    </tr>\n",
              "    <tr>\n",
              "      <th>2988</th>\n",
              "      <td>Kenya</td>\n",
              "      <td>2018</td>\n",
              "      <td>uniqueid_2989</td>\n",
              "      <td>No</td>\n",
              "      <td>Rural</td>\n",
              "      <td>Yes</td>\n",
              "      <td>12</td>\n",
              "      <td>19</td>\n",
              "      <td>Male</td>\n",
              "      <td>Child</td>\n",
              "      <td>Single/Never Married</td>\n",
              "      <td>Secondary education</td>\n",
              "      <td>Farming and Fishing</td>\n",
              "    </tr>\n",
              "    <tr>\n",
              "      <th>17508</th>\n",
              "      <td>Tanzania</td>\n",
              "      <td>2017</td>\n",
              "      <td>uniqueid_2706</td>\n",
              "      <td>No</td>\n",
              "      <td>Urban</td>\n",
              "      <td>Yes</td>\n",
              "      <td>3</td>\n",
              "      <td>17</td>\n",
              "      <td>Male</td>\n",
              "      <td>Parent</td>\n",
              "      <td>Divorced/Seperated</td>\n",
              "      <td>Primary education</td>\n",
              "      <td>Self employed</td>\n",
              "    </tr>\n",
              "    <tr>\n",
              "      <th>8432</th>\n",
              "      <td>Rwanda</td>\n",
              "      <td>2016</td>\n",
              "      <td>uniqueid_2365</td>\n",
              "      <td>No</td>\n",
              "      <td>Rural</td>\n",
              "      <td>Yes</td>\n",
              "      <td>5</td>\n",
              "      <td>69</td>\n",
              "      <td>Female</td>\n",
              "      <td>Head of Household</td>\n",
              "      <td>Widowed</td>\n",
              "      <td>Primary education</td>\n",
              "      <td>Informally employed</td>\n",
              "    </tr>\n",
              "  </tbody>\n",
              "</table>\n",
              "</div>\n",
              "      <button class=\"colab-df-convert\" onclick=\"convertToInteractive('df-8abf0fcb-4c2c-4b0c-ab96-92b8ec8b8c7b')\"\n",
              "              title=\"Convert this dataframe to an interactive table.\"\n",
              "              style=\"display:none;\">\n",
              "        \n",
              "  <svg xmlns=\"http://www.w3.org/2000/svg\" height=\"24px\"viewBox=\"0 0 24 24\"\n",
              "       width=\"24px\">\n",
              "    <path d=\"M0 0h24v24H0V0z\" fill=\"none\"/>\n",
              "    <path d=\"M18.56 5.44l.94 2.06.94-2.06 2.06-.94-2.06-.94-.94-2.06-.94 2.06-2.06.94zm-11 1L8.5 8.5l.94-2.06 2.06-.94-2.06-.94L8.5 2.5l-.94 2.06-2.06.94zm10 10l.94 2.06.94-2.06 2.06-.94-2.06-.94-.94-2.06-.94 2.06-2.06.94z\"/><path d=\"M17.41 7.96l-1.37-1.37c-.4-.4-.92-.59-1.43-.59-.52 0-1.04.2-1.43.59L10.3 9.45l-7.72 7.72c-.78.78-.78 2.05 0 2.83L4 21.41c.39.39.9.59 1.41.59.51 0 1.02-.2 1.41-.59l7.78-7.78 2.81-2.81c.8-.78.8-2.07 0-2.86zM5.41 20L4 18.59l7.72-7.72 1.47 1.35L5.41 20z\"/>\n",
              "  </svg>\n",
              "      </button>\n",
              "      \n",
              "  <style>\n",
              "    .colab-df-container {\n",
              "      display:flex;\n",
              "      flex-wrap:wrap;\n",
              "      gap: 12px;\n",
              "    }\n",
              "\n",
              "    .colab-df-convert {\n",
              "      background-color: #E8F0FE;\n",
              "      border: none;\n",
              "      border-radius: 50%;\n",
              "      cursor: pointer;\n",
              "      display: none;\n",
              "      fill: #1967D2;\n",
              "      height: 32px;\n",
              "      padding: 0 0 0 0;\n",
              "      width: 32px;\n",
              "    }\n",
              "\n",
              "    .colab-df-convert:hover {\n",
              "      background-color: #E2EBFA;\n",
              "      box-shadow: 0px 1px 2px rgba(60, 64, 67, 0.3), 0px 1px 3px 1px rgba(60, 64, 67, 0.15);\n",
              "      fill: #174EA6;\n",
              "    }\n",
              "\n",
              "    [theme=dark] .colab-df-convert {\n",
              "      background-color: #3B4455;\n",
              "      fill: #D2E3FC;\n",
              "    }\n",
              "\n",
              "    [theme=dark] .colab-df-convert:hover {\n",
              "      background-color: #434B5C;\n",
              "      box-shadow: 0px 1px 3px 1px rgba(0, 0, 0, 0.15);\n",
              "      filter: drop-shadow(0px 1px 2px rgba(0, 0, 0, 0.3));\n",
              "      fill: #FFFFFF;\n",
              "    }\n",
              "  </style>\n",
              "\n",
              "      <script>\n",
              "        const buttonEl =\n",
              "          document.querySelector('#df-8abf0fcb-4c2c-4b0c-ab96-92b8ec8b8c7b button.colab-df-convert');\n",
              "        buttonEl.style.display =\n",
              "          google.colab.kernel.accessAllowed ? 'block' : 'none';\n",
              "\n",
              "        async function convertToInteractive(key) {\n",
              "          const element = document.querySelector('#df-8abf0fcb-4c2c-4b0c-ab96-92b8ec8b8c7b');\n",
              "          const dataTable =\n",
              "            await google.colab.kernel.invokeFunction('convertToInteractive',\n",
              "                                                     [key], {});\n",
              "          if (!dataTable) return;\n",
              "\n",
              "          const docLinkHtml = 'Like what you see? Visit the ' +\n",
              "            '<a target=\"_blank\" href=https://colab.research.google.com/notebooks/data_table.ipynb>data table notebook</a>'\n",
              "            + ' to learn more about interactive tables.';\n",
              "          element.innerHTML = '';\n",
              "          dataTable['output_type'] = 'display_data';\n",
              "          await google.colab.output.renderOutput(dataTable, element);\n",
              "          const docLink = document.createElement('div');\n",
              "          docLink.innerHTML = docLinkHtml;\n",
              "          element.appendChild(docLink);\n",
              "        }\n",
              "      </script>\n",
              "    </div>\n",
              "  </div>\n",
              "  "
            ]
          },
          "metadata": {},
          "execution_count": 4
        }
      ]
    },
    {
      "cell_type": "code",
      "source": [
        "#exploring the columns names,datatypes and values counts\n",
        "print(train.info())"
      ],
      "metadata": {
        "colab": {
          "base_uri": "https://localhost:8080/"
        },
        "id": "sUOTMLbyeb5Y",
        "outputId": "065d12d5-5163-43d5-b8e2-37834ddb173a"
      },
      "execution_count": 5,
      "outputs": [
        {
          "output_type": "stream",
          "name": "stdout",
          "text": [
            "<class 'pandas.core.frame.DataFrame'>\n",
            "RangeIndex: 23524 entries, 0 to 23523\n",
            "Data columns (total 13 columns):\n",
            " #   Column                  Non-Null Count  Dtype \n",
            "---  ------                  --------------  ----- \n",
            " 0   country                 23524 non-null  object\n",
            " 1   year                    23524 non-null  int64 \n",
            " 2   uniqueid                23524 non-null  object\n",
            " 3   bank_account            23524 non-null  object\n",
            " 4   location_type           23524 non-null  object\n",
            " 5   cellphone_access        23524 non-null  object\n",
            " 6   household_size          23524 non-null  int64 \n",
            " 7   age_of_respondent       23524 non-null  int64 \n",
            " 8   gender_of_respondent    23524 non-null  object\n",
            " 9   relationship_with_head  23524 non-null  object\n",
            " 10  marital_status          23524 non-null  object\n",
            " 11  education_level         23524 non-null  object\n",
            " 12  job_type                23524 non-null  object\n",
            "dtypes: int64(3), object(10)\n",
            "memory usage: 2.3+ MB\n",
            "None\n"
          ]
        }
      ]
    },
    {
      "cell_type": "code",
      "source": [
        "#checking for null values\n",
        "train.isnull().sum()"
      ],
      "metadata": {
        "colab": {
          "base_uri": "https://localhost:8080/"
        },
        "id": "EkB1d4HPcU59",
        "outputId": "c9838022-abc2-4b3d-f7f9-7075345327db"
      },
      "execution_count": 6,
      "outputs": [
        {
          "output_type": "execute_result",
          "data": {
            "text/plain": [
              "country                   0\n",
              "year                      0\n",
              "uniqueid                  0\n",
              "bank_account              0\n",
              "location_type             0\n",
              "cellphone_access          0\n",
              "household_size            0\n",
              "age_of_respondent         0\n",
              "gender_of_respondent      0\n",
              "relationship_with_head    0\n",
              "marital_status            0\n",
              "education_level           0\n",
              "job_type                  0\n",
              "dtype: int64"
            ]
          },
          "metadata": {},
          "execution_count": 6
        }
      ]
    },
    {
      "cell_type": "code",
      "source": [
        "# Explore the target column \n",
        "sns.catplot(x=\"bank_account\", kind=\"count\", data=train);"
      ],
      "metadata": {
        "colab": {
          "base_uri": "https://localhost:8080/",
          "height": 369
        },
        "id": "PZzFJjWPcoT9",
        "outputId": "1fba86d2-e655-400e-c9f6-bce7fd6fdddd"
      },
      "execution_count": 7,
      "outputs": [
        {
          "output_type": "display_data",
          "data": {
            "text/plain": [
              "<Figure size 360x360 with 1 Axes>"
            ],
            "image/png": "[encoded data removed]"
          },
          "metadata": {
            "needs_background": "light"
          }
        }
      ]
    },
    {
      "cell_type": "markdown",
      "source": [
        "### Data Preprocessing"
      ],
      "metadata": {
        "id": "i1xiUGQ1rjbl"
      }
    },
    {
      "cell_type": "code",
      "source": [
        "#import preprocessing module\n",
        "from sklearn.preprocessing import LabelEncoder\n",
        "from sklearn.preprocessing import MinMaxScaler\n",
        "\n",
        "# Label encode the target column\n",
        "train['bank_account'] = LabelEncoder().fit_transform(train['bank_account'])\n",
        "\n",
        "#Separate training features and target feature\n",
        "x_train = train.drop(['bank_account'], axis=1)\n",
        "y_train = train['bank_account']"
      ],
      "metadata": {
        "id": "_3VO09aydLQd"
      },
      "execution_count": 8,
      "outputs": []
    },
    {
      "cell_type": "code",
      "source": [
        "x_train.sample(3)"
      ],
      "metadata": {
        "colab": {
          "base_uri": "https://localhost:8080/",
          "height": 277
        },
        "id": "nHT_FAWgFXka",
        "outputId": "78911b29-1709-43bb-ffc3-e9c62867ba40"
      },
      "execution_count": 9,
      "outputs": [
        {
          "output_type": "execute_result",
          "data": {
            "text/plain": [
              "     country  year       uniqueid location_type cellphone_access  \\\n",
              "8401  Rwanda  2016  uniqueid_2334         Urban              Yes   \n",
              "450    Kenya  2018   uniqueid_451         Urban              Yes   \n",
              "4819   Kenya  2018  uniqueid_4820         Urban              Yes   \n",
              "\n",
              "      household_size  age_of_respondent gender_of_respondent  \\\n",
              "8401               5                 25               Female   \n",
              "450                4                 70                 Male   \n",
              "4819               1                 43                 Male   \n",
              "\n",
              "     relationship_with_head           marital_status  \\\n",
              "8401                 Parent     Single/Never Married   \n",
              "450       Head of Household  Married/Living together   \n",
              "4819      Head of Household  Married/Living together   \n",
              "\n",
              "                      education_level                   job_type  \n",
              "8401                Primary education        Informally employed  \n",
              "450   Vocational/Specialised training       Remittance Dependent  \n",
              "4819              Secondary education  Formally employed Private  "
            ],
            "text/html": [
              "\n",
              "  <div id=\"df-95470bf6-7705-4bd4-a7ea-1542042e8ed7\">\n",
              "    <div class=\"colab-df-container\">\n",
              "      <div>\n",
              "<style scoped>\n",
              "    .dataframe tbody tr th:only-of-type {\n",
              "        vertical-align: middle;\n",
              "    }\n",
              "\n",
              "    .dataframe tbody tr th {\n",
              "        vertical-align: top;\n",
              "    }\n",
              "\n",
              "    .dataframe thead th {\n",
              "        text-align: right;\n",
              "    }\n",
              "</style>\n",
              "<table border=\"1\" class=\"dataframe\">\n",
              "  <thead>\n",
              "    <tr style=\"text-align: right;\">\n",
              "      <th></th>\n",
              "      <th>country</th>\n",
              "      <th>year</th>\n",
              "      <th>uniqueid</th>\n",
              "      <th>location_type</th>\n",
              "      <th>cellphone_access</th>\n",
              "      <th>household_size</th>\n",
              "      <th>age_of_respondent</th>\n",
              "      <th>gender_of_respondent</th>\n",
              "      <th>relationship_with_head</th>\n",
              "      <th>marital_status</th>\n",
              "      <th>education_level</th>\n",
              "      <th>job_type</th>\n",
              "    </tr>\n",
              "  </thead>\n",
              "  <tbody>\n",
              "    <tr>\n",
              "      <th>8401</th>\n",
              "      <td>Rwanda</td>\n",
              "      <td>2016</td>\n",
              "      <td>uniqueid_2334</td>\n",
              "      <td>Urban</td>\n",
              "      <td>Yes</td>\n",
              "      <td>5</td>\n",
              "      <td>25</td>\n",
              "      <td>Female</td>\n",
              "      <td>Parent</td>\n",
              "      <td>Single/Never Married</td>\n",
              "      <td>Primary education</td>\n",
              "      <td>Informally employed</td>\n",
              "    </tr>\n",
              "    <tr>\n",
              "      <th>450</th>\n",
              "      <td>Kenya</td>\n",
              "      <td>2018</td>\n",
              "      <td>uniqueid_451</td>\n",
              "      <td>Urban</td>\n",
              "      <td>Yes</td>\n",
              "      <td>4</td>\n",
              "      <td>70</td>\n",
              "      <td>Male</td>\n",
              "      <td>Head of Household</td>\n",
              "      <td>Married/Living together</td>\n",
              "      <td>Vocational/Specialised training</td>\n",
              "      <td>Remittance Dependent</td>\n",
              "    </tr>\n",
              "    <tr>\n",
              "      <th>4819</th>\n",
              "      <td>Kenya</td>\n",
              "      <td>2018</td>\n",
              "      <td>uniqueid_4820</td>\n",
              "      <td>Urban</td>\n",
              "      <td>Yes</td>\n",
              "      <td>1</td>\n",
              "      <td>43</td>\n",
              "      <td>Male</td>\n",
              "      <td>Head of Household</td>\n",
              "      <td>Married/Living together</td>\n",
              "      <td>Secondary education</td>\n",
              "      <td>Formally employed Private</td>\n",
              "    </tr>\n",
              "  </tbody>\n",
              "</table>\n",
              "</div>\n",
              "      <button class=\"colab-df-convert\" onclick=\"convertToInteractive('df-95470bf6-7705-4bd4-a7ea-1542042e8ed7')\"\n",
              "              title=\"Convert this dataframe to an interactive table.\"\n",
              "              style=\"display:none;\">\n",
              "        \n",
              "  <svg xmlns=\"http://www.w3.org/2000/svg\" height=\"24px\"viewBox=\"0 0 24 24\"\n",
              "       width=\"24px\">\n",
              "    <path d=\"M0 0h24v24H0V0z\" fill=\"none\"/>\n",
              "    <path d=\"M18.56 5.44l.94 2.06.94-2.06 2.06-.94-2.06-.94-.94-2.06-.94 2.06-2.06.94zm-11 1L8.5 8.5l.94-2.06 2.06-.94-2.06-.94L8.5 2.5l-.94 2.06-2.06.94zm10 10l.94 2.06.94-2.06 2.06-.94-2.06-.94-.94-2.06-.94 2.06-2.06.94z\"/><path d=\"M17.41 7.96l-1.37-1.37c-.4-.4-.92-.59-1.43-.59-.52 0-1.04.2-1.43.59L10.3 9.45l-7.72 7.72c-.78.78-.78 2.05 0 2.83L4 21.41c.39.39.9.59 1.41.59.51 0 1.02-.2 1.41-.59l7.78-7.78 2.81-2.81c.8-.78.8-2.07 0-2.86zM5.41 20L4 18.59l7.72-7.72 1.47 1.35L5.41 20z\"/>\n",
              "  </svg>\n",
              "      </button>\n",
              "      \n",
              "  <style>\n",
              "    .colab-df-container {\n",
              "      display:flex;\n",
              "      flex-wrap:wrap;\n",
              "      gap: 12px;\n",
              "    }\n",
              "\n",
              "    .colab-df-convert {\n",
              "      background-color: #E8F0FE;\n",
              "      border: none;\n",
              "      border-radius: 50%;\n",
              "      cursor: pointer;\n",
              "      display: none;\n",
              "      fill: #1967D2;\n",
              "      height: 32px;\n",
              "      padding: 0 0 0 0;\n",
              "      width: 32px;\n",
              "    }\n",
              "\n",
              "    .colab-df-convert:hover {\n",
              "      background-color: #E2EBFA;\n",
              "      box-shadow: 0px 1px 2px rgba(60, 64, 67, 0.3), 0px 1px 3px 1px rgba(60, 64, 67, 0.15);\n",
              "      fill: #174EA6;\n",
              "    }\n",
              "\n",
              "    [theme=dark] .colab-df-convert {\n",
              "      background-color: #3B4455;\n",
              "      fill: #D2E3FC;\n",
              "    }\n",
              "\n",
              "    [theme=dark] .colab-df-convert:hover {\n",
              "      background-color: #434B5C;\n",
              "      box-shadow: 0px 1px 3px 1px rgba(0, 0, 0, 0.15);\n",
              "      filter: drop-shadow(0px 1px 2px rgba(0, 0, 0, 0.3));\n",
              "      fill: #FFFFFF;\n",
              "    }\n",
              "  </style>\n",
              "\n",
              "      <script>\n",
              "        const buttonEl =\n",
              "          document.querySelector('#df-95470bf6-7705-4bd4-a7ea-1542042e8ed7 button.colab-df-convert');\n",
              "        buttonEl.style.display =\n",
              "          google.colab.kernel.accessAllowed ? 'block' : 'none';\n",
              "\n",
              "        async function convertToInteractive(key) {\n",
              "          const element = document.querySelector('#df-95470bf6-7705-4bd4-a7ea-1542042e8ed7');\n",
              "          const dataTable =\n",
              "            await google.colab.kernel.invokeFunction('convertToInteractive',\n",
              "                                                     [key], {});\n",
              "          if (!dataTable) return;\n",
              "\n",
              "          const docLinkHtml = 'Like what you see? Visit the ' +\n",
              "            '<a target=\"_blank\" href=https://colab.research.google.com/notebooks/data_table.ipynb>data table notebook</a>'\n",
              "            + ' to learn more about interactive tables.';\n",
              "          element.innerHTML = '';\n",
              "          dataTable['output_type'] = 'display_data';\n",
              "          await google.colab.output.renderOutput(dataTable, element);\n",
              "          const docLink = document.createElement('div');\n",
              "          docLink.innerHTML = docLinkHtml;\n",
              "          element.appendChild(docLink);\n",
              "        }\n",
              "      </script>\n",
              "    </div>\n",
              "  </div>\n",
              "  "
            ]
          },
          "metadata": {},
          "execution_count": 9
        }
      ]
    },
    {
      "cell_type": "code",
      "source": [
        "#preprocessing data\n",
        "#create function to convert integer columns to floats,label encode categorical columns, drop our unique_id column and scale the dataset. \n",
        "def processor(data):\n",
        "  #convert integer columns to float to improve precision\n",
        "  data['year'] = data['year'].astype(float)\n",
        "  data['household_size'] = data['household_size'].astype(float)\n",
        "  data['age_of_respondent'] = data['age_of_respondent'].astype(float)\n",
        "\n",
        "\n",
        "  #Label Encoding\n",
        "  data['country'] = LabelEncoder().fit_transform(data['country'])\n",
        "  data['location_type'] = LabelEncoder().fit_transform(data['location_type'])\n",
        "  data['cellphone_access'] = LabelEncoder().fit_transform(data['cellphone_access'])\n",
        "  data['gender_of_respondent'] = LabelEncoder().fit_transform(data['gender_of_respondent'])\n",
        "  data['relationship_with_head'] = LabelEncoder().fit_transform(data['relationship_with_head'])\n",
        "  data['marital_status'] = LabelEncoder().fit_transform(data['marital_status'])\n",
        "  data['education_level'] = LabelEncoder().fit_transform(data['education_level'])\n",
        "  data['job_type'] = LabelEncoder().fit_transform(data['job_type'])\n",
        "\n",
        "  #Drop unique_id column\n",
        "  data = data.drop(['uniqueid'], axis=1)\n",
        "\n",
        "  # scale our data into range of 0 and 1\n",
        "  scaler = MinMaxScaler(feature_range=(0, 1))\n",
        "  data = scaler.fit_transform(data)\n",
        " \n",
        "  return data"
      ],
      "metadata": {
        "id": "x6MPROmdYKWk"
      },
      "execution_count": 10,
      "outputs": []
    },
    {
      "cell_type": "code",
      "source": [
        "# preprocess the train and test data \n",
        "p_train = processor(x_train)\n",
        "p_test = processor(test)"
      ],
      "metadata": {
        "id": "TCtymyaAK71h"
      },
      "execution_count": 11,
      "outputs": []
    },
    {
      "cell_type": "code",
      "source": [
        "#split the train dataset and import GridSearchCV for identify the best performing model \n",
        "from sklearn.experimental import enable_halving_search_cv \n",
        "from sklearn.model_selection import HalvingGridSearchCV"
      ],
      "metadata": {
        "id": "pZjHzrA4NjoH"
      },
      "execution_count": 12,
      "outputs": []
    },
    {
      "cell_type": "code",
      "source": [
        "#split train data\n",
        "x_train, x_val, y_train, y_val = train_test_split(p_train, y_train,test_size = 0.1, random_state = 42)"
      ],
      "metadata": {
        "id": "rKb4RaeJNppk"
      },
      "execution_count": 13,
      "outputs": []
    },
    {
      "cell_type": "code",
      "source": [
        "#importing the necessary libraries\n",
        "\n",
        "from sklearn import svm\n",
        "from sklearn.ensemble import RandomForestClassifier\n",
        "from sklearn.linear_model import LogisticRegression\n",
        "from sklearn.naive_bayes import GaussianNB\n",
        "from sklearn.naive_bayes import MultinomialNB\n",
        "from sklearn.tree import DecisionTreeClassifier\n",
        "from xgboost import XGBClassifier\n",
        "from lightgbm import LGBMClassifier\n"
      ],
      "metadata": {
        "id": "4qluFcWqN91F"
      },
      "execution_count": 14,
      "outputs": []
    },
    {
      "cell_type": "code",
      "source": [
        "#specifing the parameters for each model\n",
        "\n",
        "model_params = {\n",
        "    'svm': {\n",
        "        'model': svm.SVC(),\n",
        "        'params' : {\n",
        "            'C': [0.1,1, 10, 100], \n",
        "            'gamma': [1,0.1,0.01,0.001],\n",
        "            'kernel': ['rbf', 'poly', 'sigmoid']\n",
        "            } \n",
        "    },\n",
        "    'random_forest': {\n",
        "        'model': RandomForestClassifier(),\n",
        "        'params' : {\n",
        "            'n_estimators': [1,5,10,20,50,100,200,500]\n",
        "        }\n",
        "    },\n",
        "    'logistic_regression' : {\n",
        "        'model': LogisticRegression(multi_class='auto'),\n",
        "        'params': {\n",
        "            'C': [1,5,10],\n",
        "            'max_iter': [20, 50, 100, 200, 500, 1000],                      \n",
        "            'solver': ['newton-cg', 'lbfgs', 'liblinear', 'sag', 'saga'],   \n",
        "            'class_weight': ['balanced']  \n",
        "        }\n",
        "    },\n",
        "    'xgbclassifier':{\n",
        "        'model': XGBClassifier(),\n",
        "        'params': {'min_child_weighth': [1, 5, 10,15,20],\n",
        "            'gamma': [0.5, 1,1.5,2,5,10],\n",
        "            'subsample': [0.6, 0.8, 1.0],\n",
        "            'colsample_bytree': [0.6, 0.8, 1.0],\n",
        "            'max_depth': [3, 5,10,13],\n",
        "            'scale_pos_weight': [1,5,10,15,20],\n",
        "            'objective':['binary:logistic']}\n",
        "    },\n",
        "    'lgbmclassifier' : {\n",
        "        'model': LGBMClassifier(),\n",
        "        'params': {'bagging_fraction': [0.5, 0.8],\n",
        "        'n_estimator':[100, 200,300,400,500],\n",
        "        'min_child_weight': [1, 5, 10,15,20],\n",
        "        'subsample': [0.6, 0.8, 1.0],\n",
        "        'colsample_bytree': [0.6, 0.8, 1.0],\n",
        "        'max_depth': [10, 13],\n",
        "        'min_data_in_leaf': [90, 120],\n",
        "        'num_leaves': [1200, 1550]}\n",
        "    }\n",
        "}"
      ],
      "metadata": {
        "id": "Rn-4JINoRSyz"
      },
      "execution_count": 15,
      "outputs": []
    },
    {
      "cell_type": "code",
      "source": [
        "#identifying the model with the best score and parameter\n",
        "\n",
        "scores = []\n",
        "\n",
        "for model_name, mp in model_params.items():\n",
        "    clf =  HalvingGridSearchCV(mp['model'], mp['params'], cv=5, return_train_score=False)\n",
        "    clf.fit(x_train, y_train)\n",
        "    scores.append({\n",
        "        'model': model_name,\n",
        "        'best_score': clf.best_score_,\n",
        "        'best_params': clf.best_params_\n",
        "    })\n",
        "    \n",
        "df = pd.DataFrame(scores,columns=['model','best_score','best_params'])\n",
        "pd.set_option('display.max_colwidth', None)\n",
        "\n",
        "df"
      ],
      "metadata": {
        "id": "4TIUBEYYTxLm",
        "colab": {
          "base_uri": "https://localhost:8080/",
          "height": 285
        },
        "outputId": "a3e38b90-342b-4d82-e684-68ef66620ffc"
      },
      "execution_count": 16,
      "outputs": [
        {
          "output_type": "execute_result",
          "data": {
            "text/plain": [
              "                 model  best_score  \\\n",
              "0                  svm    0.876453   \n",
              "1        random_forest    0.867508   \n",
              "2  logistic_regression    0.737086   \n",
              "3        xgbclassifier    0.886800   \n",
              "4       lgbmclassifier    0.884399   \n",
              "\n",
              "                                                                                                                                                                    best_params  \n",
              "0                                                                                                                                     {'C': 100, 'gamma': 0.1, 'kernel': 'rbf'}  \n",
              "1                                                                                                                                                         {'n_estimators': 500}  \n",
              "2                                                                                                 {'C': 10, 'class_weight': 'balanced', 'max_iter': 200, 'solver': 'newton-cg'}  \n",
              "3                       {'colsample_bytree': 0.6, 'gamma': 5, 'max_depth': 10, 'min_child_weighth': 1, 'objective': 'binary:logistic', 'scale_pos_weight': 1, 'subsample': 0.8}  \n",
              "4  {'bagging_fraction': 0.5, 'colsample_bytree': 0.6, 'max_depth': 10, 'min_child_weight': 1, 'min_data_in_leaf': 90, 'n_estimator': 500, 'num_leaves': 1200, 'subsample': 1.0}  "
            ],
            "text/html": [
              "\n",
              "  <div id=\"df-c0ab1b38-abc2-4392-a1e2-dabe7fb72c17\">\n",
              "    <div class=\"colab-df-container\">\n",
              "      <div>\n",
              "<style scoped>\n",
              "    .dataframe tbody tr th:only-of-type {\n",
              "        vertical-align: middle;\n",
              "    }\n",
              "\n",
              "    .dataframe tbody tr th {\n",
              "        vertical-align: top;\n",
              "    }\n",
              "\n",
              "    .dataframe thead th {\n",
              "        text-align: right;\n",
              "    }\n",
              "</style>\n",
              "<table border=\"1\" class=\"dataframe\">\n",
              "  <thead>\n",
              "    <tr style=\"text-align: right;\">\n",
              "      <th></th>\n",
              "      <th>model</th>\n",
              "      <th>best_score</th>\n",
              "      <th>best_params</th>\n",
              "    </tr>\n",
              "  </thead>\n",
              "  <tbody>\n",
              "    <tr>\n",
              "      <th>0</th>\n",
              "      <td>svm</td>\n",
              "      <td>0.876453</td>\n",
              "      <td>{'C': 100, 'gamma': 0.1, 'kernel': 'rbf'}</td>\n",
              "    </tr>\n",
              "    <tr>\n",
              "      <th>1</th>\n",
              "      <td>random_forest</td>\n",
              "      <td>0.867508</td>\n",
              "      <td>{'n_estimators': 500}</td>\n",
              "    </tr>\n",
              "    <tr>\n",
              "      <th>2</th>\n",
              "      <td>logistic_regression</td>\n",
              "      <td>0.737086</td>\n",
              "      <td>{'C': 10, 'class_weight': 'balanced', 'max_iter': 200, 'solver': 'newton-cg'}</td>\n",
              "    </tr>\n",
              "    <tr>\n",
              "      <th>3</th>\n",
              "      <td>xgbclassifier</td>\n",
              "      <td>0.886800</td>\n",
              "      <td>{'colsample_bytree': 0.6, 'gamma': 5, 'max_depth': 10, 'min_child_weighth': 1, 'objective': 'binary:logistic', 'scale_pos_weight': 1, 'subsample': 0.8}</td>\n",
              "    </tr>\n",
              "    <tr>\n",
              "      <th>4</th>\n",
              "      <td>lgbmclassifier</td>\n",
              "      <td>0.884399</td>\n",
              "      <td>{'bagging_fraction': 0.5, 'colsample_bytree': 0.6, 'max_depth': 10, 'min_child_weight': 1, 'min_data_in_leaf': 90, 'n_estimator': 500, 'num_leaves': 1200, 'subsample': 1.0}</td>\n",
              "    </tr>\n",
              "  </tbody>\n",
              "</table>\n",
              "</div>\n",
              "      <button class=\"colab-df-convert\" onclick=\"convertToInteractive('df-c0ab1b38-abc2-4392-a1e2-dabe7fb72c17')\"\n",
              "              title=\"Convert this dataframe to an interactive table.\"\n",
              "              style=\"display:none;\">\n",
              "        \n",
              "  <svg xmlns=\"http://www.w3.org/2000/svg\" height=\"24px\"viewBox=\"0 0 24 24\"\n",
              "       width=\"24px\">\n",
              "    <path d=\"M0 0h24v24H0V0z\" fill=\"none\"/>\n",
              "    <path d=\"M18.56 5.44l.94 2.06.94-2.06 2.06-.94-2.06-.94-.94-2.06-.94 2.06-2.06.94zm-11 1L8.5 8.5l.94-2.06 2.06-.94-2.06-.94L8.5 2.5l-.94 2.06-2.06.94zm10 10l.94 2.06.94-2.06 2.06-.94-2.06-.94-.94-2.06-.94 2.06-2.06.94z\"/><path d=\"M17.41 7.96l-1.37-1.37c-.4-.4-.92-.59-1.43-.59-.52 0-1.04.2-1.43.59L10.3 9.45l-7.72 7.72c-.78.78-.78 2.05 0 2.83L4 21.41c.39.39.9.59 1.41.59.51 0 1.02-.2 1.41-.59l7.78-7.78 2.81-2.81c.8-.78.8-2.07 0-2.86zM5.41 20L4 18.59l7.72-7.72 1.47 1.35L5.41 20z\"/>\n",
              "  </svg>\n",
              "      </button>\n",
              "      \n",
              "  <style>\n",
              "    .colab-df-container {\n",
              "      display:flex;\n",
              "      flex-wrap:wrap;\n",
              "      gap: 12px;\n",
              "    }\n",
              "\n",
              "    .colab-df-convert {\n",
              "      background-color: #E8F0FE;\n",
              "      border: none;\n",
              "      border-radius: 50%;\n",
              "      cursor: pointer;\n",
              "      display: none;\n",
              "      fill: #1967D2;\n",
              "      height: 32px;\n",
              "      padding: 0 0 0 0;\n",
              "      width: 32px;\n",
              "    }\n",
              "\n",
              "    .colab-df-convert:hover {\n",
              "      background-color: #E2EBFA;\n",
              "      box-shadow: 0px 1px 2px rgba(60, 64, 67, 0.3), 0px 1px 3px 1px rgba(60, 64, 67, 0.15);\n",
              "      fill: #174EA6;\n",
              "    }\n",
              "\n",
              "    [theme=dark] .colab-df-convert {\n",
              "      background-color: #3B4455;\n",
              "      fill: #D2E3FC;\n",
              "    }\n",
              "\n",
              "    [theme=dark] .colab-df-convert:hover {\n",
              "      background-color: #434B5C;\n",
              "      box-shadow: 0px 1px 3px 1px rgba(0, 0, 0, 0.15);\n",
              "      filter: drop-shadow(0px 1px 2px rgba(0, 0, 0, 0.3));\n",
              "      fill: #FFFFFF;\n",
              "    }\n",
              "  </style>\n",
              "\n",
              "      <script>\n",
              "        const buttonEl =\n",
              "          document.querySelector('#df-c0ab1b38-abc2-4392-a1e2-dabe7fb72c17 button.colab-df-convert');\n",
              "        buttonEl.style.display =\n",
              "          google.colab.kernel.accessAllowed ? 'block' : 'none';\n",
              "\n",
              "        async function convertToInteractive(key) {\n",
              "          const element = document.querySelector('#df-c0ab1b38-abc2-4392-a1e2-dabe7fb72c17');\n",
              "          const dataTable =\n",
              "            await google.colab.kernel.invokeFunction('convertToInteractive',\n",
              "                                                     [key], {});\n",
              "          if (!dataTable) return;\n",
              "\n",
              "          const docLinkHtml = 'Like what you see? Visit the ' +\n",
              "            '<a target=\"_blank\" href=https://colab.research.google.com/notebooks/data_table.ipynb>data table notebook</a>'\n",
              "            + ' to learn more about interactive tables.';\n",
              "          element.innerHTML = '';\n",
              "          dataTable['output_type'] = 'display_data';\n",
              "          await google.colab.output.renderOutput(dataTable, element);\n",
              "          const docLink = document.createElement('div');\n",
              "          docLink.innerHTML = docLinkHtml;\n",
              "          element.appendChild(docLink);\n",
              "        }\n",
              "      </script>\n",
              "    </div>\n",
              "  </div>\n",
              "  "
            ]
          },
          "metadata": {},
          "execution_count": 16
        }
      ]
    },
    {
      "cell_type": "markdown",
      "source": [
        "The most accurate model is the XGB Model with an accuracy score of 88.68%"
      ],
      "metadata": {
        "id": "DzPwxRVPIXQP"
      }
    },
    {
      "cell_type": "code",
      "source": [
        "from sklearn.metrics import confusion_matrix, accuracy_score\n",
        "\n",
        "# fit by setting best parameters for the XGB model\n",
        "xgb_model = XGBClassifier(colsample_bytree= 0.6, gamma=5, max_depth= 10, min_child_weighth=1, objective='binary:logistic', scale_pos_weight=1, subsample=0.8)\n",
        "xgb_model.fit(x_train, y_train)\n",
        "y_pred = xgb_model.predict(x_val)\n",
        "\n",
        "# Get error rate\n",
        "print(\"Error rate of the XGB classifier: \", 1 - accuracy_score(y_val, y_pred))"
      ],
      "metadata": {
        "colab": {
          "base_uri": "https://localhost:8080/"
        },
        "id": "wjni2ZqYHMQy",
        "outputId": "b85553f1-6108-436f-f7de-d67c53c7fe15"
      },
      "execution_count": 22,
      "outputs": [
        {
          "output_type": "stream",
          "name": "stdout",
          "text": [
            "Error rate of the XGB classifier:  0.1079473013174671\n"
          ]
        }
      ]
    },
    {
      "cell_type": "code",
      "source": [
        "import seaborn as sns\n",
        "from sklearn.metrics import confusion_matrix\n",
        "\n",
        "cm = confusion_matrix(y_val, y_pred)\n",
        "sns.heatmap(cm, annot=True, fmt= '.0f');\n"
      ],
      "metadata": {
        "id": "UEL_xroFTGRE",
        "colab": {
          "base_uri": "https://localhost:8080/",
          "height": 265
        },
        "outputId": "81fcf792-837e-4ab2-ae6b-6046739405fe"
      },
      "execution_count": 23,
      "outputs": [
        {
          "output_type": "display_data",
          "data": {
            "text/plain": [
              "<Figure size 432x288 with 2 Axes>"
            ],
            "image/png": "[encoded data removed]"
          },
          "metadata": {
            "needs_background": "light"
          }
        }
      ]
    }
  ]
}
